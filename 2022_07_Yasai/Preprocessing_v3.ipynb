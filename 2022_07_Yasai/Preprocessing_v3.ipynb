{
 "cells": [
  {
   "cell_type": "markdown",
   "id": "3808b8cc-367d-4b44-9155-2db6de935217",
   "metadata": {},
   "source": [
    "# library import"
   ]
  },
  {
   "cell_type": "code",
   "execution_count": 1,
   "id": "f2b75afb-d958-4bc0-8e87-a1b216092dad",
   "metadata": {},
   "outputs": [],
   "source": [
    "import datetime as dt\n",
    "from dateutil.relativedelta import relativedelta\n",
    "import glob\n",
    "import numpy as np\n",
    "import pandas as pd\n",
    "import re\n",
    "import swifter"
   ]
  },
  {
   "cell_type": "markdown",
   "id": "711d5806-5f75-4f1f-8672-fd0c5908c9e8",
   "metadata": {},
   "source": [
    "# Data Load and create yasa DataFrame"
   ]
  },
  {
   "cell_type": "code",
   "execution_count": 2,
   "id": "b4f3f247-e602-4f68-a337-2c89e26e6c6a",
   "metadata": {},
   "outputs": [],
   "source": [
    "KIND_LABEL = pd.read_csv(\"../data/test.csv\")[\"kind\"].unique()"
   ]
  },
  {
   "cell_type": "code",
   "execution_count": 3,
   "id": "798dc1ec-b127-4960-a167-087775b50b84",
   "metadata": {},
   "outputs": [],
   "source": [
    "def create_year_month(date_string):\n",
    "    date_string = re.sub(r\"[月|年]\", \"\", date_string)\n",
    "    if date_string[:2] == \"平成\":\n",
    "        return str(1988 + int(date_string[2:4])) + \"-\" + date_string[4:].zfill(2)\n",
    "    elif date_string[:2] == \"令和\":\n",
    "        if date_string[2:3] == \"元\":\n",
    "            return str(2019) + \"-\" + date_string[3:].zfill(2)\n",
    "        else:\n",
    "            return str(2018 + int(date_string[2:4])) + \"-\" + date_string[4:].zfill(2)"
   ]
  },
  {
   "cell_type": "code",
   "execution_count": 4,
   "id": "db70c2e4-793a-4a6b-aa47-ec2e7c6eee8d",
   "metadata": {},
   "outputs": [],
   "source": [
    "df_yasai = pd.DataFrame()\n",
    "\n",
    "for kind in KIND_LABEL:\n",
    "    for file in glob.glob(f\"../raw_data/yasai_data/{kind}/*.csv\"):\n",
    "        df_tmp = pd.read_csv(file)\n",
    "        df_tmp = df_tmp.iloc[:, :-1].drop(columns=[\"合計\"]).melt(id_vars=[\"産地\", \"産地.1\"], var_name=\"year-month\")\n",
    "        df_tmp = df_tmp.query(\"産地 != '合計'\").rename(columns={\"産地\": \"area\", \"産地.1\": \"数値\"}).replace([\"-\"], np.nan)\n",
    "        df_tmp[\"year-month\"] = df_tmp[\"year-month\"].map(create_year_month)\n",
    "        df_tmp[\"kind\"] = kind\n",
    "        df_tmp[\"value\"] = df_tmp[\"value\"].map(lambda x: int(x), na_action=\"ignore\")\n",
    "        \n",
    "        df_yasai = pd.concat([df_yasai, df_tmp], ignore_index=True)\n",
    "        \n",
    "DELETE_AREA = [\n",
    "    \"中国\",\n",
    "    \"オランダ\",\n",
    "    \"メキシコ\",\n",
    "    \"オーストラリア\",\n",
    "    \"ニュージーランド\",\n",
    "    \"オランダ\",\n",
    "    \"その他外国\",\n",
    "    \"ベトナム\",\n",
    "    \"米国\",\n",
    "    \"韓国\",\n",
    "    \"カナダ\",\n",
    "    \"コスタリカ\",\n",
    "    \"ペルー\",\n",
    "    \"イタリア\",\n",
    "    \"北朝鮮\",\n",
    "    \"南アフリカ\",\n",
    "    \"トルコ\",\n",
    "    \"フィリピン\",\n",
    "    \"タイ\"\n",
    "]\n",
    "df_yasai = df_yasai.query(\"area not in @DELETE_AREA\")"
   ]
  },
  {
   "cell_type": "code",
   "execution_count": 5,
   "id": "5134e555-f280-4280-a88f-fe4ebcd0d354",
   "metadata": {},
   "outputs": [],
   "source": [
    "df_train = pd.read_csv(\"../data/train.csv\", parse_dates=[\"date\"])\n",
    "df_test = pd.read_csv(\"../data/test.csv\", parse_dates=[\"date\"])\n",
    "df_weather = pd.read_csv(\"../data/weather_v3.csv\")\n",
    "df_emergency = pd.read_csv(\"../data/emergencydata.csv\", parse_dates=[\"date\"])"
   ]
  },
  {
   "cell_type": "code",
   "execution_count": 6,
   "id": "c47d3b40-901c-4571-ba22-307b7fee8450",
   "metadata": {},
   "outputs": [],
   "source": [
    "def create_merge_df(train, test):\n",
    "    train[\"data_flag\"] = \"train\"\n",
    "    test[\"data_flag\"] = \"test\"\n",
    "    return pd.concat([df_train, df_test]).query(\"not area.str.contains('中国')\")"
   ]
  },
  {
   "cell_type": "code",
   "execution_count": 7,
   "id": "5fe8f22f-243d-4ff4-8f7b-1ad599b630ba",
   "metadata": {},
   "outputs": [],
   "source": [
    "df_merge = create_merge_df(df_train, df_test)"
   ]
  },
  {
   "cell_type": "markdown",
   "id": "d830e5f3-127b-4c0a-bb72-a4d9aa134c6e",
   "metadata": {},
   "source": [
    "# Preprocessing"
   ]
  },
  {
   "cell_type": "markdown",
   "id": "09c16769-7b1f-491a-9de2-1e12171aa1dc",
   "metadata": {},
   "source": [
    "## 5移動平均と差分系列"
   ]
  },
  {
   "cell_type": "code",
   "execution_count": 8,
   "id": "6bf023d7-379b-4e77-afc1-a1d2a2356c98",
   "metadata": {},
   "outputs": [],
   "source": [
    "def moving_avg(df, kind):\n",
    "    df = df.query(\"kind == @kind\").copy()\n",
    "    df[\"amount_moving_avg\"] = df[\"amount\"].rolling(window=5).mean()\n",
    "    df[\"amount_diff\"] = df[\"amount\"].diff()\n",
    "    \n",
    "    return df"
   ]
  },
  {
   "cell_type": "code",
   "execution_count": 9,
   "id": "76e4e31b-c2ac-4139-9c29-7fab798a98ad",
   "metadata": {},
   "outputs": [],
   "source": [
    "df_merge_2 = pd.DataFrame()\n",
    "for kind in KIND_LABEL:\n",
    "    df_merge_2 = pd.concat([df_merge_2, moving_avg(df_merge, kind)])"
   ]
  },
  {
   "cell_type": "markdown",
   "id": "8a21ced5-a760-4eee-abf0-fb5930a9405d",
   "metadata": {},
   "source": [
    "## area split"
   ]
  },
  {
   "cell_type": "code",
   "execution_count": 10,
   "id": "a8111f57-5bee-4d6b-8089-4f77549385a7",
   "metadata": {},
   "outputs": [],
   "source": [
    "def create_df_column_split(df, column, split_str, expand=True, drop_column=False, rename_columns=None):\n",
    "    if drop_column:\n",
    "        df_original = df.drop(columns=[column])\n",
    "    else:\n",
    "        df_original = df\n",
    "\n",
    "    df_split = pd.concat(\n",
    "        [\n",
    "            df_original,\n",
    "            df[column].str.split(split_str, expand=expand)\n",
    "        ],\n",
    "        axis=1\n",
    "    )\n",
    "\n",
    "    if rename_columns is None:\n",
    "        return df_split\n",
    "    else:\n",
    "        return df_split.rename(columns=rename_columns)"
   ]
  },
  {
   "cell_type": "code",
   "execution_count": 11,
   "id": "6f592f49-737b-48dd-afb1-720b7f33f30e",
   "metadata": {},
   "outputs": [],
   "source": [
    "df_merge_2 = create_df_column_split(df_merge_2, \"area\", \"_\", expand=False, drop_column=True)"
   ]
  },
  {
   "cell_type": "markdown",
   "id": "50761b6e-b9b5-431f-9eed-61777b81998f",
   "metadata": {},
   "source": [
    "## date split"
   ]
  },
  {
   "cell_type": "code",
   "execution_count": 12,
   "id": "cf1ffb6e-9612-446f-8ce3-3a071ec06af3",
   "metadata": {},
   "outputs": [],
   "source": [
    "def date_split(df, date_column):\n",
    "    df[\"year\"] = df[date_column].dt.year\n",
    "    df[\"month\"] = df[date_column].dt.month\n",
    "    df[\"year-month\"] = df[date_column].dt.strftime(\"%Y-%m\")\n",
    "    df[\"month-range\"] = df[\"month\"].astype(str) + \"-\" + df[date_column].dt.day.map(lambda x: \"上旬\" if 0 <= x <= 10 else \"中旬\" if 11 <= x <= 20 else \"下旬\")\n",
    "    df[\"dayofweek\"] = df[date_column].dt.dayofweek.map({0: \"Mon\", 1: \"Tue\", 2: \"Wed\", 3: \"Thu\", 4: \"Fri\", 5: \"Sat\", 6: \"Sun\"})\n",
    "    \n",
    "    return df"
   ]
  },
  {
   "cell_type": "code",
   "execution_count": 13,
   "id": "54cb7261-29e6-45b0-a7c1-02c75ed5371f",
   "metadata": {},
   "outputs": [],
   "source": [
    "df_merge_2 = date_split(df_merge_2, \"date\")"
   ]
  },
  {
   "cell_type": "markdown",
   "id": "a377a5f6-94e5-404f-85cd-3a5dab1477fe",
   "metadata": {},
   "source": [
    "## create kind_detail"
   ]
  },
  {
   "cell_type": "code",
   "execution_count": 14,
   "id": "36f665d4-ba1c-4bc1-a1ca-03c34392580b",
   "metadata": {},
   "outputs": [],
   "source": [
    "KIND_DETAIL_DICT = {\n",
    "    \"きゅうり\": {\"冬春きゅうり\": [12, 1, 2, 3, 4, 5, 6], \"夏秋きゅうり\": [7, 8, 9, 10, 11]},\n",
    "    \"こまつな\": {\"こまつな\": [i for i in range(1, 13)]},\n",
    "    \"じゃがいも\": {\"じゃがいも\": [i for i in range(1, 13)]},\n",
    "    \"そらまめ\": {\"そらまめ\": [i for i in range(1, 13)]},\n",
    "    \"だいこん\": {\"秋冬だいこん\": [10, 11, 12, 1, 2, 3], \"春だいこん\": [4, 5, 6], \"夏だいこん\": [7, 8, 9]},\n",
    "    \"なましいたけ\": {\"なましいたけ\": [i for i in range(1, 13)]},\n",
    "    \"にんじん\": {\"冬にんじん\": [11, 12, 1, 2, 3], \"春夏にんじん\": [4, 5, 6, 7], \"秋にんじん\": [8, 9, 10]},\n",
    "    \"ねぎ\": {\"春ねぎ\": [4, 5, 6], \"夏ねぎ\": [7, 8, 9], \"秋冬ねぎ\": [10, 11, 12, 1, 2, 3]},\n",
    "    \"はくさい\": {\"秋冬はくさい\": [10, 11, 12, 1, 2, 3], \"春はくさい\": [4, 5, 6], \"夏はくさい\": [7, 8, 9]},\n",
    "    \"ほうれんそう\": {\"ほうれんそう\": [i for i in range(1, 13)]},\n",
    "    \"キャベツ\": {\"冬キャベツ\": [11, 12, 1, 2, 3], \"春キャベツ\": [4, 5, 6], \"夏秋キャベツ\": [7, 8, 9, 10]},\n",
    "    \"セルリー\": {\"セルリー\": [i for i in range(1, 13)]},\n",
    "    \"トマト\": {\"冬春トマト\": [12, 1, 2, 3, 4, 5, 6], \"夏秋トマト\": [7, 8, 9, 10, 11]},\n",
    "    \"ミニトマト\": {\"冬春ミニトマト\": [12, 1, 2, 3, 4, 5, 6], \"夏秋ミニトマト\": [7, 8, 9, 10, 11]},\n",
    "    \"ピーマン\": {\"夏秋ピーマン\": [6, 7, 8, 9, 10], \"冬春ピーマン\": [11, 12, 1, 2, 3, 4, 5]},\n",
    "    \"レタス\": {\"冬レタス\": [11, 12, 1, 2, 3], \"春レタス\": [4, 5], \"夏秋レタス\": [6, 7, 8, 9, 10]}\n",
    "}\n",
    "\n",
    "def judge_kind_detail(row):\n",
    "    for k_kind, v_kind_dict in KIND_DETAIL_DICT.items():\n",
    "        if row[\"kind\"] == k_kind:\n",
    "            for k_kind_detail, v_month_list in v_kind_dict.items():\n",
    "                if row[\"month\"] in v_month_list:\n",
    "                    return k_kind_detail\n",
    "                \n",
    "def create_kind_detail(df):\n",
    "    df = df.copy()\n",
    "    df = df[df[\"kind\"].isin(KIND_DETAIL_DICT.keys())]\n",
    "    df[\"kind_detail\"] = df.apply(judge_kind_detail, axis=1)\n",
    "    return df"
   ]
  },
  {
   "cell_type": "code",
   "execution_count": 15,
   "id": "0b0a78e1-48f0-4433-be8a-3b015920abb6",
   "metadata": {},
   "outputs": [],
   "source": [
    "df_merge_2 = create_kind_detail(df_merge_2)"
   ]
  },
  {
   "cell_type": "markdown",
   "id": "4c46f46c-805c-4e0d-9bce-41b7f6642d37",
   "metadata": {},
   "source": [
    "## yasai weight calculation & stack"
   ]
  },
  {
   "cell_type": "code",
   "execution_count": 16,
   "id": "0d4b2909-3301-4268-87fc-ddc8a7609a1f",
   "metadata": {},
   "outputs": [],
   "source": [
    "def create_preprocess_yasai(df):\n",
    "    df = df[df[\"year-month\"] >= \"2015-01\"].copy()\n",
    "    df[\"month\"] = df[\"year-month\"].map(lambda x: x[5:]).astype(int)\n",
    "    df = df.groupby([\"area\", \"month\", \"数値\", \"kind\"])[\"value\"].mean().reset_index()\n",
    "    \n",
    "    return df\n",
    "\n",
    "\n",
    "df_yasai_preprocess = create_preprocess_yasai(df_yasai)"
   ]
  },
  {
   "cell_type": "code",
   "execution_count": 17,
   "id": "3330e7a4-353b-47c7-b1b1-820824292b3f",
   "metadata": {},
   "outputs": [],
   "source": [
    "def expand_area(row):\n",
    "    area_only_list = [i for i in row[\"area\"] if i != \"各地\"]\n",
    "    df_yasai_tmp = df_yasai_preprocess.query(\"数値 == '数量'\")\n",
    "    df_yasai_tmp = df_yasai_preprocess[\n",
    "        (df_yasai_preprocess[\"kind\"] == row[\"kind\"])\n",
    "        & (df_yasai_preprocess[\"month\"] == row[\"month\"])\n",
    "        & (~df_yasai_preprocess[\"area\"].isin(area_only_list))\n",
    "        & (df_yasai_preprocess[\"value\"] > 0)\n",
    "    ]\n",
    "    \n",
    "    if \"各地\" in row[\"area\"]:\n",
    "        return area_only_list + df_yasai_tmp[\"area\"].unique().tolist()\n",
    "    else:\n",
    "        return row[\"area\"]\n",
    "    \n",
    "    \n",
    "def weight_judge(row):\n",
    "    weight_dict = {}\n",
    "    df_yasai_tmp = df_yasai_preprocess.query(\"数値 == '数量'\")\n",
    "    for idx, area in enumerate(row[\"area\"]):\n",
    "        try:\n",
    "            weight_dict[f\"area_{idx}\"] = df_yasai_tmp[\n",
    "                   (df_yasai_tmp[\"kind\"] == row[\"kind\"])\n",
    "                   & (df_yasai_tmp[\"area\"] == area) \n",
    "                   & (df_yasai_tmp[\"month\"] == row[\"month\"])\n",
    "                ][\"value\"].iloc[0]\n",
    "        except IndexError:\n",
    "            print(row[\"area\"], row[\"kind\"], row[\"year-month\"])\n",
    "    \n",
    "    return weight_dict\n",
    "\n",
    "\n",
    "def weight_calcurate(df):\n",
    "    df = df.reset_index(drop=True)\n",
    "    df[\"area\"] = df.swifter.apply(expand_area, axis=1)\n",
    "    df[\"amount_weight\"] = df.swifter.apply(weight_judge, axis=1)\n",
    "    df = pd.concat([df, df[\"amount_weight\"].apply(pd.Series)], axis=1)\n",
    "    \n",
    "    EXPAND_RANGE = df[\"area\"].map(lambda x: len(x)).max()\n",
    "    df[\"total_amount\"] = df[[f\"area_{i}\" for i in range(EXPAND_RANGE)]].sum(skipna=True, axis=1)\n",
    "    for i in range(EXPAND_RANGE):\n",
    "        df[f\"area_{i}\"] = (df[f\"area_{i}\"] / df[\"total_amount\"]) * df[\"amount\"]\n",
    "    df = pd.concat([df, df[\"area\"].apply(pd.Series)], axis=1)\n",
    "    df = df.drop(columns=[\"area\", \"amount_weight\", \"total_amount\"])\n",
    "        \n",
    "    df_update = pd.DataFrame()\n",
    "    delete_list = [i for i in range(EXPAND_RANGE)] + [f\"area_{i}\" for i in range(EXPAND_RANGE)]\n",
    "    for i in range(EXPAND_RANGE):\n",
    "        df_update = pd.concat(\n",
    "            [\n",
    "                df_update,\n",
    "                df[[i for i in df.columns if i not in delete_list] + [i, f\"area_{i}\"]]\\\n",
    "                        .rename(columns={i: \"area\", f\"area_{i}\": \"weight_amount\"}).query(\"area == area\")\n",
    "            ],\n",
    "            ignore_index=True\n",
    "       )\n",
    "    return df_update"
   ]
  },
  {
   "cell_type": "code",
   "execution_count": 18,
   "id": "e053852e-559b-4575-97fa-8c0ae33be85b",
   "metadata": {},
   "outputs": [
    {
     "data": {
      "application/vnd.jupyter.widget-view+json": {
       "model_id": "e0a6c988713c486eba98d15d5db22997",
       "version_major": 2,
       "version_minor": 0
      },
      "text/plain": [
       "Pandas Apply:   0%|          | 0/27742 [00:00<?, ?it/s]"
      ]
     },
     "metadata": {},
     "output_type": "display_data"
    },
    {
     "data": {
      "application/vnd.jupyter.widget-view+json": {
       "model_id": "3ac60f4555004e92b70c97672f56eb61",
       "version_major": 2,
       "version_minor": 0
      },
      "text/plain": [
       "Pandas Apply:   0%|          | 0/27742 [00:00<?, ?it/s]"
      ]
     },
     "metadata": {},
     "output_type": "display_data"
    }
   ],
   "source": [
    "df_merge_2 = weight_calcurate(df_merge_2[df_merge_2[\"year-month\"] >= \"2015-01\"])"
   ]
  },
  {
   "cell_type": "markdown",
   "id": "5116037c-d1e7-4404-a5a6-c8b52022ab02",
   "metadata": {},
   "source": [
    "## avg_price merge"
   ]
  },
  {
   "cell_type": "code",
   "execution_count": 19,
   "id": "11cac5f3-7666-4b9d-a470-d5bb238685ab",
   "metadata": {},
   "outputs": [],
   "source": [
    "df_merge_2 = df_merge_2.merge(\n",
    "    df_yasai_preprocess.query(\"数値 == '金額'\").drop(columns=[\"数値\"]),\n",
    "    how=\"left\",\n",
    "    on=[\"kind\", \"month\", \"area\"]\n",
    ").rename(columns={\"value\": \"total_month_price\"})\\\n",
    "    .merge(\n",
    "    df_yasai_preprocess.query(\"数値 == '平均価格'\").drop(columns=[\"数値\"]),\n",
    "    how=\"left\",\n",
    "    on=[\"kind\", \"month\", \"area\"]\n",
    ").rename(columns={\"value\": \"avg_month_price\"})"
   ]
  },
  {
   "cell_type": "markdown",
   "id": "dc58a35f-f497-4ae1-a31a-171ee690423d",
   "metadata": {},
   "source": [
    "## weather merge"
   ]
  },
  {
   "cell_type": "code",
   "execution_count": 20,
   "id": "5370cba8-6034-433e-8f2a-d12689eb38cc",
   "metadata": {},
   "outputs": [],
   "source": [
    "df_earthquake = pd.read_csv(\"../data/earthquakeData_v2.csv\", parse_dates=[\"date\"]).rename(columns={\"震源(都道府県)\": \"area\"})\n",
    "df_earthquake[\"year-month\"] = df_earthquake[\"date\"].dt.strftime(\"%Y-%m\")\n",
    "df_earthquake.groupby([\"year-month\", \"area\"]).size().reset_index().rename(columns={0: \"earthquake_count\"})\n",
    "\n",
    "\n",
    "def typhoon_fillna(df, agg):\n",
    "    df = df.copy()\n",
    "    WEATHER_AREA_DICT = {\n",
    "        \"仙台\": \"宮城\",\n",
    "        \"佐賀\": \"佐賀\",\n",
    "        \"前橋\": \"群馬\",\n",
    "        \"千葉\": \"千葉\",\n",
    "        \"名古屋\": \"愛知\",\n",
    "        \"和歌山\": \"和歌山\",\n",
    "        \"宇都宮\": \"栃木\",\n",
    "        \"宮崎\": \"宮崎\",\n",
    "        \"山形\": \"山形\",\n",
    "        \"帯広\": \"北海道\",\n",
    "        \"徳島\": \"徳島\",\n",
    "        \"新潟\": \"新潟\",\n",
    "        \"東京\": \"東京\",\n",
    "        \"松山\": \"愛媛\",\n",
    "        \"横浜\": \"神奈川\",\n",
    "        \"水戸\": \"茨城\",\n",
    "        \"浜松\": \"静岡\",\n",
    "        \"熊本\": \"熊本\",\n",
    "        \"熊谷\": \"埼玉\",\n",
    "        \"甲府\": \"山梨\",\n",
    "        \"盛岡\": \"岩手\",\n",
    "        \"神戸\": \"兵庫\",\n",
    "        \"福岡\": \"福岡\",\n",
    "        \"福島\": \"福島\",\n",
    "        \"秋田\": \"秋田\",\n",
    "        \"那覇\": \"沖縄\",\n",
    "        \"長崎\": \"長崎\",\n",
    "        \"長野\": \"長野\",\n",
    "        \"青森\": \"青森\",\n",
    "        \"高松\": \"香川\",\n",
    "        \"高知\": \"高知\",\n",
    "        \"鹿児島\": \"鹿児島\"\n",
    "    }\n",
    "    df[\"area\"] = df[\"area\"].map(WEATHER_AREA_DICT)\n",
    "    df[\"typhoon_approach\"] = df[\"typhoon_approach\"].fillna(0)\n",
    "    \n",
    "    df = df.merge(\n",
    "        df_earthquake.groupby([\"year-month\", \"area\"]).size().reset_index().rename(columns={0: \"earthquake_count\"}),\n",
    "        how=\"left\",\n",
    "        on=[\"year-month\", \"area\"]\n",
    "    )\n",
    "    df[\"earthquake_count\"] = df[\"earthquake_count\"].fillna(0)\n",
    "    return df"
   ]
  },
  {
   "cell_type": "code",
   "execution_count": 21,
   "id": "f49ba442-5fd9-480c-a612-5bf64c71d39d",
   "metadata": {},
   "outputs": [],
   "source": [
    "df_weather = typhoon_fillna(df_weather, \"mean\")"
   ]
  },
  {
   "cell_type": "code",
   "execution_count": 22,
   "id": "647051a9-04f8-48a8-98b0-a48764bd66a3",
   "metadata": {},
   "outputs": [],
   "source": [
    "def weather_area(area):\n",
    "    if area == \"大分\":\n",
    "        return \"熊本\"\n",
    "    elif area == \"岐阜\":\n",
    "        return \"愛知\"\n",
    "    else:\n",
    "        return area\n",
    "\n",
    "\n",
    "def lag_weather_add(df, n_shift):\n",
    "    df_weather_tmp = df_weather.drop(columns=[\"region\"])\n",
    "    df_weather_tmp.columns = [f\"{i}_{n_shift}prev\" if i not in [\"year-month\", \"month\", \"area\"] else i for i in df_weather_tmp.columns]\n",
    "    df_weather_tmp[\"merge-year-month\"] = df_weather_tmp[\"year-month\"]\n",
    "    \n",
    "    df[\"area\"] = df[\"area\"].map(weather_area)\n",
    "    df[\"merge-year-month\"] = pd.to_datetime(df[\"year-month\"]).dt.date + relativedelta(months=-n_shift)\n",
    "    df[\"merge-year-month\"] = df[\"merge-year-month\"].map(lambda x: x.strftime(\"%Y-%m\"))\n",
    "    return df.merge(df_weather_tmp.drop(columns=\"year-month\"), how=\"inner\", on=[\"merge-year-month\", \"area\"]).drop(columns=[\"merge-year-month\"])"
   ]
  },
  {
   "cell_type": "code",
   "execution_count": 23,
   "id": "15fcd35b-7008-4693-9aa9-7d5d68da0b31",
   "metadata": {},
   "outputs": [],
   "source": [
    "for i in range(1, 13):\n",
    "    df_merge_2 = lag_weather_add(df_merge_2, i)"
   ]
  },
  {
   "cell_type": "markdown",
   "id": "36700ed4-54cf-4e03-82d9-2dadbe345058",
   "metadata": {},
   "source": [
    "## emergency merge"
   ]
  },
  {
   "cell_type": "code",
   "execution_count": 24,
   "id": "97ee9fb2-c414-4185-9f4e-79978d1c2cd1",
   "metadata": {},
   "outputs": [],
   "source": [
    "df_merge_2 = df_merge_2.merge(df_emergency, how=\"left\", on=\"date\")\n",
    "df_merge_2[\"emagency\"] = df_merge_2[\"emagency\"].fillna(0)"
   ]
  },
  {
   "cell_type": "code",
   "execution_count": 25,
   "id": "3fa146cd-807d-4319-bab4-43eb99eee617",
   "metadata": {},
   "outputs": [],
   "source": [
    "df_merge_2.to_csv(\"../data/merge_data_preprocessing_v7.csv\", index=False)"
   ]
  },
  {
   "cell_type": "code",
   "execution_count": null,
   "id": "359b63ea-1537-49ec-ab7e-2a8b09645668",
   "metadata": {},
   "outputs": [],
   "source": []
  }
 ],
 "metadata": {
  "kernelspec": {
   "display_name": "Python 3 (ipykernel)",
   "language": "python",
   "name": "python3"
  },
  "language_info": {
   "codemirror_mode": {
    "name": "ipython",
    "version": 3
   },
   "file_extension": ".py",
   "mimetype": "text/x-python",
   "name": "python",
   "nbconvert_exporter": "python",
   "pygments_lexer": "ipython3",
   "version": "3.10.5"
  },
  "widgets": {
   "application/vnd.jupyter.widget-state+json": {
    "state": {
     "1233a393e30f470e8658a062be341408": {
      "model_module": "@jupyter-widgets/controls",
      "model_module_version": "1.5.0",
      "model_name": "HTMLModel",
      "state": {
       "layout": "IPY_MODEL_79d7fd551076477283a67948cda3ab28",
       "style": "IPY_MODEL_5747154e441a49a3921dfbcff67cd25b",
       "value": "Pandas Apply: 100%"
      }
     },
     "19bb3e9ac2e648e0a5740547475ee723": {
      "model_module": "@jupyter-widgets/controls",
      "model_module_version": "1.5.0",
      "model_name": "HTMLModel",
      "state": {
       "layout": "IPY_MODEL_a0bd1659300047df961e4e4cc6067380",
       "style": "IPY_MODEL_711717e25cb24f24b1f2d2aa41a0f2f9",
       "value": "Pandas Apply: 100%"
      }
     },
     "1b99bc67c8144492bbb90f8d94954919": {
      "model_module": "@jupyter-widgets/controls",
      "model_module_version": "1.5.0",
      "model_name": "FloatProgressModel",
      "state": {
       "bar_style": "success",
       "layout": "IPY_MODEL_320587b655a142bcbde73343d568254b",
       "max": 27742,
       "style": "IPY_MODEL_25a2a5300fbd431398f043a15e333960",
       "value": 27742
      }
     },
     "25a2a5300fbd431398f043a15e333960": {
      "model_module": "@jupyter-widgets/controls",
      "model_module_version": "1.5.0",
      "model_name": "ProgressStyleModel",
      "state": {
       "description_width": ""
      }
     },
     "320587b655a142bcbde73343d568254b": {
      "model_module": "@jupyter-widgets/base",
      "model_module_version": "1.2.0",
      "model_name": "LayoutModel",
      "state": {}
     },
     "3ac60f4555004e92b70c97672f56eb61": {
      "model_module": "@jupyter-widgets/controls",
      "model_module_version": "1.5.0",
      "model_name": "HBoxModel",
      "state": {
       "children": [
        "IPY_MODEL_1233a393e30f470e8658a062be341408",
        "IPY_MODEL_1b99bc67c8144492bbb90f8d94954919",
        "IPY_MODEL_5007ac5674614aaba10245ec58c328ef"
       ],
       "layout": "IPY_MODEL_e3c873314d2048849ae87a7ea34f3bb1"
      }
     },
     "5007ac5674614aaba10245ec58c328ef": {
      "model_module": "@jupyter-widgets/controls",
      "model_module_version": "1.5.0",
      "model_name": "HTMLModel",
      "state": {
       "layout": "IPY_MODEL_504b5a55a8854917afe4095942ac433d",
       "style": "IPY_MODEL_bdbe85e6e67546e2a7d77ed6c0a4183e",
       "value": " 27742/27742 [15:14&lt;00:00, 18.52it/s]"
      }
     },
     "504b5a55a8854917afe4095942ac433d": {
      "model_module": "@jupyter-widgets/base",
      "model_module_version": "1.2.0",
      "model_name": "LayoutModel",
      "state": {}
     },
     "5747154e441a49a3921dfbcff67cd25b": {
      "model_module": "@jupyter-widgets/controls",
      "model_module_version": "1.5.0",
      "model_name": "DescriptionStyleModel",
      "state": {
       "description_width": ""
      }
     },
     "63120c98015041ef8e380320f913e6bf": {
      "model_module": "@jupyter-widgets/controls",
      "model_module_version": "1.5.0",
      "model_name": "DescriptionStyleModel",
      "state": {
       "description_width": ""
      }
     },
     "68fbc0b3bd2944f693beb3a86a795b8b": {
      "model_module": "@jupyter-widgets/controls",
      "model_module_version": "1.5.0",
      "model_name": "ProgressStyleModel",
      "state": {
       "description_width": ""
      }
     },
     "711717e25cb24f24b1f2d2aa41a0f2f9": {
      "model_module": "@jupyter-widgets/controls",
      "model_module_version": "1.5.0",
      "model_name": "DescriptionStyleModel",
      "state": {
       "description_width": ""
      }
     },
     "76fc6ffc601a4fe5a3ec2b3f1b18f3bb": {
      "model_module": "@jupyter-widgets/base",
      "model_module_version": "1.2.0",
      "model_name": "LayoutModel",
      "state": {}
     },
     "79d7fd551076477283a67948cda3ab28": {
      "model_module": "@jupyter-widgets/base",
      "model_module_version": "1.2.0",
      "model_name": "LayoutModel",
      "state": {}
     },
     "889eb40ed2be46fc8c5230eac61e4298": {
      "model_module": "@jupyter-widgets/base",
      "model_module_version": "1.2.0",
      "model_name": "LayoutModel",
      "state": {}
     },
     "8e5d8e165e8149c1a3c84be80fd415fc": {
      "model_module": "@jupyter-widgets/base",
      "model_module_version": "1.2.0",
      "model_name": "LayoutModel",
      "state": {}
     },
     "a0bd1659300047df961e4e4cc6067380": {
      "model_module": "@jupyter-widgets/base",
      "model_module_version": "1.2.0",
      "model_name": "LayoutModel",
      "state": {}
     },
     "bdbe85e6e67546e2a7d77ed6c0a4183e": {
      "model_module": "@jupyter-widgets/controls",
      "model_module_version": "1.5.0",
      "model_name": "DescriptionStyleModel",
      "state": {
       "description_width": ""
      }
     },
     "c3966533f65547c5bbf3ecd4f7340bc6": {
      "model_module": "@jupyter-widgets/controls",
      "model_module_version": "1.5.0",
      "model_name": "FloatProgressModel",
      "state": {
       "bar_style": "success",
       "layout": "IPY_MODEL_8e5d8e165e8149c1a3c84be80fd415fc",
       "max": 27742,
       "style": "IPY_MODEL_68fbc0b3bd2944f693beb3a86a795b8b",
       "value": 27742
      }
     },
     "e0a6c988713c486eba98d15d5db22997": {
      "model_module": "@jupyter-widgets/controls",
      "model_module_version": "1.5.0",
      "model_name": "HBoxModel",
      "state": {
       "children": [
        "IPY_MODEL_19bb3e9ac2e648e0a5740547475ee723",
        "IPY_MODEL_c3966533f65547c5bbf3ecd4f7340bc6",
        "IPY_MODEL_edcf8bf0d07b467596df6d4da99a3b29"
       ],
       "layout": "IPY_MODEL_889eb40ed2be46fc8c5230eac61e4298"
      }
     },
     "e3c873314d2048849ae87a7ea34f3bb1": {
      "model_module": "@jupyter-widgets/base",
      "model_module_version": "1.2.0",
      "model_name": "LayoutModel",
      "state": {}
     },
     "edcf8bf0d07b467596df6d4da99a3b29": {
      "model_module": "@jupyter-widgets/controls",
      "model_module_version": "1.5.0",
      "model_name": "HTMLModel",
      "state": {
       "layout": "IPY_MODEL_76fc6ffc601a4fe5a3ec2b3f1b18f3bb",
       "style": "IPY_MODEL_63120c98015041ef8e380320f913e6bf",
       "value": " 27742/27742 [01:42&lt;00:00, 278.12it/s]"
      }
     }
    },
    "version_major": 2,
    "version_minor": 0
   }
  }
 },
 "nbformat": 4,
 "nbformat_minor": 5
}

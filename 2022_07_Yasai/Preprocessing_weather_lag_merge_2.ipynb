{
 "cells": [
  {
   "cell_type": "markdown",
   "id": "c09ebc76-160a-4eda-a08f-8d68e44a4e4f",
   "metadata": {},
   "source": [
    "# Library import"
   ]
  },
  {
   "cell_type": "code",
   "execution_count": 1,
   "id": "ac2c6d5e-4f39-440b-bb0a-bd62c8cf8f37",
   "metadata": {},
   "outputs": [],
   "source": [
    "from dateutil.relativedelta import relativedelta\n",
    "import pandas as pd"
   ]
  },
  {
   "cell_type": "markdown",
   "id": "2714c245-d7cb-4734-ab79-d2b6c5dfac20",
   "metadata": {},
   "source": [
    "# Data read"
   ]
  },
  {
   "cell_type": "code",
   "execution_count": 2,
   "id": "dd804616-68e3-425e-b5e5-548961d3d77e",
   "metadata": {},
   "outputs": [],
   "source": [
    "df_merge = pd.read_csv(\"../data/merge_data_preprocessing.csv\")\n",
    "df_weather = pd.read_csv(\"../data/weather_v3.csv\")\n",
    "df_sample = pd.read_csv(\"../data/sample_submission.csv\")"
   ]
  },
  {
   "cell_type": "markdown",
   "id": "2dd316a8-67e9-4c0a-a3d7-711b9a7b1b87",
   "metadata": {},
   "source": [
    "# Preprocessing"
   ]
  },
  {
   "cell_type": "markdown",
   "id": "cfb1bc67-03b2-419b-9594-936581ea606f",
   "metadata": {},
   "source": [
    "## weather merge"
   ]
  },
  {
   "cell_type": "code",
   "execution_count": 3,
   "id": "84f8b4cb-4c23-41eb-97d2-dcce64690701",
   "metadata": {},
   "outputs": [],
   "source": [
    "def typhoon_fillna_by_groupby(df, agg):\n",
    "    df = df.copy()\n",
    "    WEATHER_AREA_DICT = {\n",
    "        \"仙台\": \"宮城\",\n",
    "        \"佐賀\": \"佐賀\",\n",
    "        \"前橋\": \"群馬\",\n",
    "        \"千葉\": \"千葉\",\n",
    "        \"名古屋\": \"愛知\",\n",
    "        \"和歌山\": \"和歌山\",\n",
    "        \"宇都宮\": \"栃木\",\n",
    "        \"宮崎\": \"宮崎\",\n",
    "        \"山形\": \"山形\",\n",
    "        \"帯広\": \"北海道\",\n",
    "        \"徳島\": \"徳島\",\n",
    "        \"新潟\": \"新潟\",\n",
    "        \"東京\": \"東京\",\n",
    "        \"松山\": \"愛媛\",\n",
    "        \"横浜\": \"神奈川\",\n",
    "        \"水戸\": \"茨城\",\n",
    "        \"浜松\": \"静岡\",\n",
    "        \"熊本\": \"熊本\",\n",
    "        \"熊谷\": \"埼玉\",\n",
    "        \"甲府\": \"山梨\",\n",
    "        \"盛岡\": \"岩手\",\n",
    "        \"神戸\": \"兵庫\",\n",
    "        \"福岡\": \"福岡\",\n",
    "        \"福島\": \"福島\",\n",
    "        \"秋田\": \"秋田\",\n",
    "        \"那覇\": \"沖縄\",\n",
    "        \"長崎\": \"長崎\",\n",
    "        \"長野\": \"長野\",\n",
    "        \"青森\": \"青森\",\n",
    "        \"高松\": \"香川\",\n",
    "        \"高知\": \"高知\",\n",
    "        \"鹿児島\": \"鹿児島\"\n",
    "    }\n",
    "    df[\"area\"] = df[\"area\"].map(WEATHER_AREA_DICT)\n",
    "    df[\"typhoon_approach\"] = df[\"typhoon_approach\"].fillna(0)\n",
    "    return df"
   ]
  },
  {
   "cell_type": "code",
   "execution_count": 4,
   "id": "e0781141-0ab7-4497-886b-44a87a129263",
   "metadata": {},
   "outputs": [],
   "source": [
    "df_weather = typhoon_fillna_by_groupby(df_weather, \"mean\")"
   ]
  },
  {
   "cell_type": "code",
   "execution_count": 5,
   "id": "b322b380-f490-42e4-a8a5-321a357fc568",
   "metadata": {},
   "outputs": [],
   "source": [
    "def weather_area(area):\n",
    "    if area == \"大分\":\n",
    "        return \"熊本\"\n",
    "    elif area == \"岐阜\":\n",
    "        return \"愛知\"\n",
    "    else:\n",
    "        return area\n",
    "\n",
    "\n",
    "def lag_weather_add(df, n_shift):\n",
    "    df_weather_tmp = df_weather.copy()\n",
    "    df_weather_tmp.columns = [f\"{i}_{n_shift}prev\" if i not in [\"year-month\", \"month\", \"area\"] else i for i in df_weather_tmp.columns]\n",
    "    df_weather_tmp[\"merge-year-month\"] = df_weather_tmp[\"year-month\"]\n",
    "    \n",
    "    df[\"area\"] = df[\"area\"].map(weather_area)\n",
    "    df[\"merge-year-month\"] = pd.to_datetime(df[\"year-month\"]).dt.date + relativedelta(months=-n_shift)\n",
    "    df[\"merge-year-month\"] = df[\"merge-year-month\"].map(lambda x: x.strftime(\"%Y-%m\"))\n",
    "    return df.merge(df_weather_tmp.drop(columns=\"year-month\"), how=\"inner\", on=[\"merge-year-month\", \"area\"]).drop(columns=[\"merge-year-month\"])"
   ]
  },
  {
   "cell_type": "code",
   "execution_count": null,
   "id": "8f9acdd6-e1b9-487e-ac5f-0ca4400162e6",
   "metadata": {},
   "outputs": [],
   "source": [
    "for i in range(1, 13):\n",
    "    df_merge = lag_weather_add(df_merge, i)"
   ]
  },
  {
   "cell_type": "code",
   "execution_count": null,
   "id": "47c8ed65-0279-458e-b6a3-8d89748ba499",
   "metadata": {},
   "outputs": [],
   "source": [
    "df_merge.to_pickle(\"../data/merge_data_preprocessing_v2.pickle\")"
   ]
  },
  {
   "cell_type": "code",
   "execution_count": null,
   "id": "0cb5c697-0f4f-450b-9f1b-3ff4e36b285a",
   "metadata": {},
   "outputs": [],
   "source": []
  }
 ],
 "metadata": {
  "kernelspec": {
   "display_name": "Python 3 (ipykernel)",
   "language": "python",
   "name": "python3"
  },
  "language_info": {
   "codemirror_mode": {
    "name": "ipython",
    "version": 3
   },
   "file_extension": ".py",
   "mimetype": "text/x-python",
   "name": "python",
   "nbconvert_exporter": "python",
   "pygments_lexer": "ipython3",
   "version": "3.10.5"
  },
  "widgets": {
   "application/vnd.jupyter.widget-state+json": {
    "state": {},
    "version_major": 2,
    "version_minor": 0
   }
  }
 },
 "nbformat": 4,
 "nbformat_minor": 5
}

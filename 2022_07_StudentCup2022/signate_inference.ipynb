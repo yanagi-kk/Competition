{
  "cells": [
    {
      "cell_type": "code",
      "source": [
        "from google.colab import drive\n",
        "drive.mount('/content/drive')"
      ],
      "metadata": {
        "colab": {
          "base_uri": "https://localhost:8080/"
        },
        "id": "_RxjjA84xwU-",
        "outputId": "f46ff2de-10fd-4b25-cd4e-cb3442a1b1f6"
      },
      "id": "_RxjjA84xwU-",
      "execution_count": null,
      "outputs": [
        {
          "output_type": "stream",
          "name": "stdout",
          "text": [
            "Drive already mounted at /content/drive; to attempt to forcibly remount, call drive.mount(\"/content/drive\", force_remount=True).\n"
          ]
        }
      ]
    },
    {
      "cell_type": "code",
      "source": [
        "!pip install -qqq transformers\n",
        "!pip install -qqq sentencepiece"
      ],
      "metadata": {
        "id": "LSBHStgsxYaK"
      },
      "id": "LSBHStgsxYaK",
      "execution_count": null,
      "outputs": []
    },
    {
      "cell_type": "code",
      "execution_count": null,
      "id": "be848e23",
      "metadata": {
        "execution": {
          "iopub.execute_input": "2022-05-25T10:42:51.340385Z",
          "iopub.status.busy": "2022-05-25T10:42:51.339991Z",
          "iopub.status.idle": "2022-05-25T10:42:58.919426Z",
          "shell.execute_reply": "2022-05-25T10:42:58.918669Z"
        },
        "papermill": {
          "duration": 7.599179,
          "end_time": "2022-05-25T10:42:58.921676",
          "exception": false,
          "start_time": "2022-05-25T10:42:51.322497",
          "status": "completed"
        },
        "tags": [],
        "id": "be848e23"
      },
      "outputs": [],
      "source": [
        "import os\n",
        "import gc\n",
        "import cv2\n",
        "import copy\n",
        "import time\n",
        "import random\n",
        "import joblib\n",
        "\n",
        "# For data manipulation\n",
        "import numpy as np\n",
        "import pandas as pd\n",
        "\n",
        "# Pytorch Imports\n",
        "import torch\n",
        "import torch.nn as nn\n",
        "import torch.nn.functional as F\n",
        "from torch.utils.data import Dataset, DataLoader\n",
        "\n",
        "# For Transformer Models\n",
        "from transformers import AutoTokenizer, AutoModel, AutoConfig\n",
        "from transformers import DataCollatorWithPadding\n",
        "\n",
        "# Utils\n",
        "from tqdm import tqdm\n",
        "\n",
        "# For descriptive error messages\n",
        "os.environ['CUDA_LAUNCH_BLOCKING'] = \"1\""
      ]
    },
    {
      "cell_type": "code",
      "execution_count": null,
      "id": "ac07b3b2",
      "metadata": {
        "execution": {
          "iopub.execute_input": "2022-05-25T10:42:59.033067Z",
          "iopub.status.busy": "2022-05-25T10:42:59.032443Z",
          "iopub.status.idle": "2022-05-25T10:42:59.806003Z",
          "shell.execute_reply": "2022-05-25T10:42:59.805204Z"
        },
        "papermill": {
          "duration": 0.793056,
          "end_time": "2022-05-25T10:42:59.808350",
          "exception": false,
          "start_time": "2022-05-25T10:42:59.015294",
          "status": "completed"
        },
        "tags": [],
        "id": "ac07b3b2",
        "colab": {
          "base_uri": "https://localhost:8080/"
        },
        "outputId": "3c040b4e-a675-4f71-a56b-4b21043f083f"
      },
      "outputs": [
        {
          "output_type": "stream",
          "name": "stderr",
          "text": [
            "Special tokens have been added in the vocabulary, make sure the associated word embeddings are fine-tuned or trained.\n",
            "/usr/local/lib/python3.7/dist-packages/transformers/convert_slow_tokenizer.py:435: UserWarning: The sentencepiece tokenizer that you are converting to a fast tokenizer uses the byte fallback option which is not implemented in the fast tokenizers. In practice this means that the fast version of the tokenizer can produce unknown tokens whereas the sentencepiece version would have converted these unknown tokens into a sequence of byte tokens matching the original piece of text.\n",
            "  \"The sentencepiece tokenizer that you are converting to a fast tokenizer uses the byte fallback option\"\n",
            "Special tokens have been added in the vocabulary, make sure the associated word embeddings are fine-tuned or trained.\n"
          ]
        }
      ],
      "source": [
        "CONFIG = dict(\n",
        "    seed = 42,\n",
        "    model_name = \"microsoft/deberta-v3-large\",\n",
        "    test_batch_size = 16,\n",
        "    max_length = 512,\n",
        "    num_classes = 4,\n",
        "    device = torch.device(\"cuda:0\" if torch.cuda.is_available() else \"cpu\"),\n",
        "    exp = \"057(MultiLabel)\",\n",
        "    n_fold = 4,\n",
        "    BEST_F1 = False,\n",
        ")\n",
        "\n",
        "CONFIG[\"tokenizer\"] = AutoTokenizer.from_pretrained(CONFIG['model_name'])"
      ]
    },
    {
      "cell_type": "code",
      "source": [
        "l = ['</em>',\n",
        " '<span>',\n",
        " '<ul>',\n",
        " '</p>',\n",
        " '</ul>',\n",
        " '<li>',\n",
        " '<p>',\n",
        " '</li>',\n",
        " '<em>',\n",
        " '</ol>',\n",
        " '</span>']\n",
        " \n",
        "CONFIG[\"tokenizer\"].add_tokens(l, special_tokens=True)"
      ],
      "metadata": {
        "id": "MHzK3fwSwj2S",
        "colab": {
          "base_uri": "https://localhost:8080/"
        },
        "outputId": "a8185d31-2f68-424f-e66d-20f280dced67"
      },
      "id": "MHzK3fwSwj2S",
      "execution_count": null,
      "outputs": [
        {
          "output_type": "execute_result",
          "data": {
            "text/plain": [
              "11"
            ]
          },
          "metadata": {},
          "execution_count": 5
        }
      ]
    },
    {
      "cell_type": "code",
      "execution_count": null,
      "id": "376fc0ce",
      "metadata": {
        "execution": {
          "iopub.execute_input": "2022-05-25T10:42:58.956475Z",
          "iopub.status.busy": "2022-05-25T10:42:58.956008Z",
          "iopub.status.idle": "2022-05-25T10:42:58.959501Z",
          "shell.execute_reply": "2022-05-25T10:42:58.958845Z"
        },
        "papermill": {
          "duration": 0.022583,
          "end_time": "2022-05-25T10:42:58.961201",
          "exception": false,
          "start_time": "2022-05-25T10:42:58.938618",
          "status": "completed"
        },
        "tags": [],
        "id": "376fc0ce",
        "colab": {
          "base_uri": "https://localhost:8080/"
        },
        "outputId": "1cd9ebe2-e07b-4be9-a793-823c731e5151"
      },
      "outputs": [
        {
          "output_type": "execute_result",
          "data": {
            "text/plain": [
              "['/content/drive/MyDrive/Competitions/SIGNATE/STUDENT_CUP/penguin/model/exp_057(MultiLabel)/Loss-Fold-0.bin',\n",
              " '/content/drive/MyDrive/Competitions/SIGNATE/STUDENT_CUP/penguin/model/exp_057(MultiLabel)/Loss-Fold-1.bin',\n",
              " '/content/drive/MyDrive/Competitions/SIGNATE/STUDENT_CUP/penguin/model/exp_057(MultiLabel)/Loss-Fold-2.bin',\n",
              " '/content/drive/MyDrive/Competitions/SIGNATE/STUDENT_CUP/penguin/model/exp_057(MultiLabel)/Loss-Fold-3.bin']"
            ]
          },
          "metadata": {},
          "execution_count": 6
        }
      ],
      "source": [
        "MODEL_PATHS = []\n",
        "\n",
        "for fold in range(CONFIG[\"n_fold\"]):\n",
        "    if CONFIG[\"BEST_F1\"]:\n",
        "        MODEL_PATHS.append(f'/content/drive/MyDrive/Competitions/SIGNATE/STUDENT_CUP/penguin/model/exp_{CONFIG[\"exp\"]}/BestF1Model/Loss-Fold-{fold}.bin')\n",
        "    else:\n",
        "        MODEL_PATHS.append(f'/content/drive/MyDrive/Competitions/SIGNATE/STUDENT_CUP/penguin/model/exp_{CONFIG[\"exp\"]}/Loss-Fold-{fold}.bin')\n",
        "\n",
        "MODEL_PATHS"
      ]
    },
    {
      "cell_type": "code",
      "execution_count": null,
      "id": "90489aa9",
      "metadata": {
        "execution": {
          "iopub.execute_input": "2022-05-25T10:42:58.994844Z",
          "iopub.status.busy": "2022-05-25T10:42:58.994641Z",
          "iopub.status.idle": "2022-05-25T10:42:58.997633Z",
          "shell.execute_reply": "2022-05-25T10:42:58.996972Z"
        },
        "papermill": {
          "duration": 0.02192,
          "end_time": "2022-05-25T10:42:58.999280",
          "exception": false,
          "start_time": "2022-05-25T10:42:58.977360",
          "status": "completed"
        },
        "tags": [],
        "id": "90489aa9"
      },
      "outputs": [],
      "source": [
        "TRAIN_DIR = \"/content/drive/MyDrive/Competitions/SIGNATE/STUDENT_CUP/penguin/input/train.csv\"\n",
        "TEST_DIR = \"/content/drive/MyDrive/Competitions/SIGNATE/STUDENT_CUP/penguin/input/test.csv\""
      ]
    },
    {
      "cell_type": "code",
      "execution_count": null,
      "id": "e3a4be67",
      "metadata": {
        "execution": {
          "iopub.execute_input": "2022-05-25T10:43:00.532931Z",
          "iopub.status.busy": "2022-05-25T10:43:00.532703Z",
          "iopub.status.idle": "2022-05-25T10:43:00.540308Z",
          "shell.execute_reply": "2022-05-25T10:43:00.539617Z"
        },
        "papermill": {
          "duration": 0.028105,
          "end_time": "2022-05-25T10:43:00.541908",
          "exception": false,
          "start_time": "2022-05-25T10:43:00.513803",
          "status": "completed"
        },
        "tags": [],
        "id": "e3a4be67"
      },
      "outputs": [],
      "source": [
        "class SignateDataset(Dataset):\n",
        "    def __init__(self, df, tokenizer, max_length):\n",
        "        self.df = df\n",
        "        self.max_len = max_length\n",
        "        self.tokenizer = tokenizer\n",
        "        self.description = df[\"description\"].values\n",
        "        # self.targets = df['jobflag'].values\n",
        "        \n",
        "    def __len__(self):\n",
        "        return len(self.df)\n",
        "    \n",
        "    def __getitem__(self, index):\n",
        "        description = self.description[index]\n",
        "        inputs = self.tokenizer.encode_plus(\n",
        "                        description,\n",
        "                        truncation=True,\n",
        "                        add_special_tokens=True,\n",
        "                        max_length=self.max_len\n",
        "                    )\n",
        "        \n",
        "        return {\n",
        "            'input_ids': inputs['input_ids'],\n",
        "            'attention_mask': inputs['attention_mask'],\n",
        "            # 'target': self.targets[index]\n",
        "        }"
      ]
    },
    {
      "cell_type": "code",
      "source": [
        "df = pd.read_csv(TEST_DIR)\n",
        "sample = pd.read_csv(\"/content/drive/MyDrive/Competitions/SIGNATE/STUDENT_CUP/penguin/input/submit_sample.csv\", header=None)\n",
        "sample.head()"
      ],
      "metadata": {
        "id": "YkZ6gwc2ytLP",
        "colab": {
          "base_uri": "https://localhost:8080/",
          "height": 206
        },
        "outputId": "1d290175-d17f-44a8-91c2-ead80a6bfc99"
      },
      "id": "YkZ6gwc2ytLP",
      "execution_count": null,
      "outputs": [
        {
          "output_type": "execute_result",
          "data": {
            "text/plain": [
              "      0  1\n",
              "0  1516  1\n",
              "1  1517  1\n",
              "2  1518  1\n",
              "3  1519  1\n",
              "4  1520  1"
            ],
            "text/html": [
              "\n",
              "  <div id=\"df-ecd35082-9475-442a-8e16-6114c4a90612\">\n",
              "    <div class=\"colab-df-container\">\n",
              "      <div>\n",
              "<style scoped>\n",
              "    .dataframe tbody tr th:only-of-type {\n",
              "        vertical-align: middle;\n",
              "    }\n",
              "\n",
              "    .dataframe tbody tr th {\n",
              "        vertical-align: top;\n",
              "    }\n",
              "\n",
              "    .dataframe thead th {\n",
              "        text-align: right;\n",
              "    }\n",
              "</style>\n",
              "<table border=\"1\" class=\"dataframe\">\n",
              "  <thead>\n",
              "    <tr style=\"text-align: right;\">\n",
              "      <th></th>\n",
              "      <th>0</th>\n",
              "      <th>1</th>\n",
              "    </tr>\n",
              "  </thead>\n",
              "  <tbody>\n",
              "    <tr>\n",
              "      <th>0</th>\n",
              "      <td>1516</td>\n",
              "      <td>1</td>\n",
              "    </tr>\n",
              "    <tr>\n",
              "      <th>1</th>\n",
              "      <td>1517</td>\n",
              "      <td>1</td>\n",
              "    </tr>\n",
              "    <tr>\n",
              "      <th>2</th>\n",
              "      <td>1518</td>\n",
              "      <td>1</td>\n",
              "    </tr>\n",
              "    <tr>\n",
              "      <th>3</th>\n",
              "      <td>1519</td>\n",
              "      <td>1</td>\n",
              "    </tr>\n",
              "    <tr>\n",
              "      <th>4</th>\n",
              "      <td>1520</td>\n",
              "      <td>1</td>\n",
              "    </tr>\n",
              "  </tbody>\n",
              "</table>\n",
              "</div>\n",
              "      <button class=\"colab-df-convert\" onclick=\"convertToInteractive('df-ecd35082-9475-442a-8e16-6114c4a90612')\"\n",
              "              title=\"Convert this dataframe to an interactive table.\"\n",
              "              style=\"display:none;\">\n",
              "        \n",
              "  <svg xmlns=\"http://www.w3.org/2000/svg\" height=\"24px\"viewBox=\"0 0 24 24\"\n",
              "       width=\"24px\">\n",
              "    <path d=\"M0 0h24v24H0V0z\" fill=\"none\"/>\n",
              "    <path d=\"M18.56 5.44l.94 2.06.94-2.06 2.06-.94-2.06-.94-.94-2.06-.94 2.06-2.06.94zm-11 1L8.5 8.5l.94-2.06 2.06-.94-2.06-.94L8.5 2.5l-.94 2.06-2.06.94zm10 10l.94 2.06.94-2.06 2.06-.94-2.06-.94-.94-2.06-.94 2.06-2.06.94z\"/><path d=\"M17.41 7.96l-1.37-1.37c-.4-.4-.92-.59-1.43-.59-.52 0-1.04.2-1.43.59L10.3 9.45l-7.72 7.72c-.78.78-.78 2.05 0 2.83L4 21.41c.39.39.9.59 1.41.59.51 0 1.02-.2 1.41-.59l7.78-7.78 2.81-2.81c.8-.78.8-2.07 0-2.86zM5.41 20L4 18.59l7.72-7.72 1.47 1.35L5.41 20z\"/>\n",
              "  </svg>\n",
              "      </button>\n",
              "      \n",
              "  <style>\n",
              "    .colab-df-container {\n",
              "      display:flex;\n",
              "      flex-wrap:wrap;\n",
              "      gap: 12px;\n",
              "    }\n",
              "\n",
              "    .colab-df-convert {\n",
              "      background-color: #E8F0FE;\n",
              "      border: none;\n",
              "      border-radius: 50%;\n",
              "      cursor: pointer;\n",
              "      display: none;\n",
              "      fill: #1967D2;\n",
              "      height: 32px;\n",
              "      padding: 0 0 0 0;\n",
              "      width: 32px;\n",
              "    }\n",
              "\n",
              "    .colab-df-convert:hover {\n",
              "      background-color: #E2EBFA;\n",
              "      box-shadow: 0px 1px 2px rgba(60, 64, 67, 0.3), 0px 1px 3px 1px rgba(60, 64, 67, 0.15);\n",
              "      fill: #174EA6;\n",
              "    }\n",
              "\n",
              "    [theme=dark] .colab-df-convert {\n",
              "      background-color: #3B4455;\n",
              "      fill: #D2E3FC;\n",
              "    }\n",
              "\n",
              "    [theme=dark] .colab-df-convert:hover {\n",
              "      background-color: #434B5C;\n",
              "      box-shadow: 0px 1px 3px 1px rgba(0, 0, 0, 0.15);\n",
              "      filter: drop-shadow(0px 1px 2px rgba(0, 0, 0, 0.3));\n",
              "      fill: #FFFFFF;\n",
              "    }\n",
              "  </style>\n",
              "\n",
              "      <script>\n",
              "        const buttonEl =\n",
              "          document.querySelector('#df-ecd35082-9475-442a-8e16-6114c4a90612 button.colab-df-convert');\n",
              "        buttonEl.style.display =\n",
              "          google.colab.kernel.accessAllowed ? 'block' : 'none';\n",
              "\n",
              "        async function convertToInteractive(key) {\n",
              "          const element = document.querySelector('#df-ecd35082-9475-442a-8e16-6114c4a90612');\n",
              "          const dataTable =\n",
              "            await google.colab.kernel.invokeFunction('convertToInteractive',\n",
              "                                                     [key], {});\n",
              "          if (!dataTable) return;\n",
              "\n",
              "          const docLinkHtml = 'Like what you see? Visit the ' +\n",
              "            '<a target=\"_blank\" href=https://colab.research.google.com/notebooks/data_table.ipynb>data table notebook</a>'\n",
              "            + ' to learn more about interactive tables.';\n",
              "          element.innerHTML = '';\n",
              "          dataTable['output_type'] = 'display_data';\n",
              "          await google.colab.output.renderOutput(dataTable, element);\n",
              "          const docLink = document.createElement('div');\n",
              "          docLink.innerHTML = docLinkHtml;\n",
              "          element.appendChild(docLink);\n",
              "        }\n",
              "      </script>\n",
              "    </div>\n",
              "  </div>\n",
              "  "
            ]
          },
          "metadata": {},
          "execution_count": 9
        }
      ]
    },
    {
      "cell_type": "code",
      "source": [
        "collate_fn = DataCollatorWithPadding(tokenizer=CONFIG['tokenizer'])"
      ],
      "metadata": {
        "id": "oVsotjHY1amj"
      },
      "id": "oVsotjHY1amj",
      "execution_count": null,
      "outputs": []
    },
    {
      "cell_type": "code",
      "execution_count": null,
      "id": "e47a2d63",
      "metadata": {
        "execution": {
          "iopub.execute_input": "2022-05-25T10:43:00.578654Z",
          "iopub.status.busy": "2022-05-25T10:43:00.578102Z",
          "iopub.status.idle": "2022-05-25T10:43:00.582553Z",
          "shell.execute_reply": "2022-05-25T10:43:00.581918Z"
        },
        "papermill": {
          "duration": 0.024732,
          "end_time": "2022-05-25T10:43:00.584086",
          "exception": false,
          "start_time": "2022-05-25T10:43:00.559354",
          "status": "completed"
        },
        "tags": [],
        "id": "e47a2d63"
      },
      "outputs": [],
      "source": [
        "test_dataset = SignateDataset(df, CONFIG['tokenizer'], max_length=CONFIG['max_length'])\n",
        "test_loader = DataLoader(test_dataset, batch_size=CONFIG['test_batch_size'],\n",
        "                         num_workers=2, shuffle=False, pin_memory=True, collate_fn=collate_fn)"
      ]
    },
    {
      "cell_type": "code",
      "execution_count": null,
      "id": "c611538c",
      "metadata": {
        "execution": {
          "iopub.execute_input": "2022-05-25T10:43:00.620131Z",
          "iopub.status.busy": "2022-05-25T10:43:00.619887Z",
          "iopub.status.idle": "2022-05-25T10:43:00.625565Z",
          "shell.execute_reply": "2022-05-25T10:43:00.624822Z"
        },
        "papermill": {
          "duration": 0.025969,
          "end_time": "2022-05-25T10:43:00.627318",
          "exception": false,
          "start_time": "2022-05-25T10:43:00.601349",
          "status": "completed"
        },
        "tags": [],
        "id": "c611538c"
      },
      "outputs": [],
      "source": [
        "class MeanPooling(nn.Module):\n",
        "    def __init__(self):\n",
        "        super(MeanPooling, self).__init__()\n",
        "        \n",
        "    def forward(self, last_hidden_state, attention_mask):\n",
        "        input_mask_expanded = attention_mask.unsqueeze(-1).expand(last_hidden_state.size()).float()\n",
        "        sum_embeddings = torch.sum(last_hidden_state * input_mask_expanded, 1)\n",
        "        sum_mask = input_mask_expanded.sum(1)\n",
        "        sum_mask = torch.clamp(sum_mask, min=1e-9)\n",
        "        mean_embeddings = sum_embeddings / sum_mask\n",
        "        return mean_embeddings"
      ]
    },
    {
      "cell_type": "code",
      "execution_count": null,
      "id": "123e8fd5",
      "metadata": {
        "execution": {
          "iopub.execute_input": "2022-05-25T10:43:00.663839Z",
          "iopub.status.busy": "2022-05-25T10:43:00.663205Z",
          "iopub.status.idle": "2022-05-25T10:43:00.670170Z",
          "shell.execute_reply": "2022-05-25T10:43:00.669477Z"
        },
        "papermill": {
          "duration": 0.027119,
          "end_time": "2022-05-25T10:43:00.671803",
          "exception": false,
          "start_time": "2022-05-25T10:43:00.644684",
          "status": "completed"
        },
        "tags": [],
        "id": "123e8fd5"
      },
      "outputs": [],
      "source": [
        "class SignateModel(nn.Module):\n",
        "    def __init__(self, model_name):\n",
        "        super(SignateModel, self).__init__()\n",
        "        self.model = AutoModel.from_pretrained(model_name)\n",
        "        self.config = AutoConfig.from_pretrained(model_name)\n",
        "        self.drop = nn.Dropout(p=0.2)\n",
        "        self.pooler = MeanPooling()\n",
        "        self.fc = nn.Linear(self.config.hidden_size, CONFIG['num_classes'])\n",
        "        \n",
        "    def forward(self, ids, mask):        \n",
        "        out = self.model(input_ids=ids,attention_mask=mask,\n",
        "                         output_hidden_states=False)\n",
        "        out = self.pooler(out.last_hidden_state, mask)\n",
        "        out = self.drop(out)\n",
        "        outputs = self.fc(out)\n",
        "        return outputs"
      ]
    },
    {
      "cell_type": "code",
      "execution_count": null,
      "id": "235aec8b",
      "metadata": {
        "execution": {
          "iopub.execute_input": "2022-05-25T10:43:00.710018Z",
          "iopub.status.busy": "2022-05-25T10:43:00.709271Z",
          "iopub.status.idle": "2022-05-25T10:43:00.716869Z",
          "shell.execute_reply": "2022-05-25T10:43:00.716160Z"
        },
        "papermill": {
          "duration": 0.028662,
          "end_time": "2022-05-25T10:43:00.718674",
          "exception": false,
          "start_time": "2022-05-25T10:43:00.690012",
          "status": "completed"
        },
        "tags": [],
        "id": "235aec8b"
      },
      "outputs": [],
      "source": [
        "@torch.no_grad()\n",
        "def valid_fn(model, dataloader, device):\n",
        "    model.eval()\n",
        "    \n",
        "    dataset_size = 0\n",
        "    running_loss = 0.0\n",
        "    \n",
        "    PREDS = []\n",
        "    \n",
        "    bar = tqdm(enumerate(dataloader), total=len(dataloader))\n",
        "    for step, data in bar:\n",
        "        ids = data['input_ids'].to(device, dtype = torch.long)\n",
        "        mask = data['attention_mask'].to(device, dtype = torch.long)\n",
        "        \n",
        "        outputs = model(ids, mask)\n",
        "        outputs = F.softmax(outputs, dim=1)\n",
        "        PREDS.append(outputs.cpu().detach().numpy()) \n",
        "    \n",
        "    PREDS = np.concatenate(PREDS)\n",
        "    gc.collect()\n",
        "    \n",
        "    return PREDS"
      ]
    },
    {
      "cell_type": "code",
      "execution_count": null,
      "id": "5f2965ce",
      "metadata": {
        "execution": {
          "iopub.execute_input": "2022-05-25T10:43:00.757988Z",
          "iopub.status.busy": "2022-05-25T10:43:00.757337Z",
          "iopub.status.idle": "2022-05-25T10:43:00.763425Z",
          "shell.execute_reply": "2022-05-25T10:43:00.762743Z"
        },
        "papermill": {
          "duration": 0.027404,
          "end_time": "2022-05-25T10:43:00.765188",
          "exception": false,
          "start_time": "2022-05-25T10:43:00.737784",
          "status": "completed"
        },
        "tags": [],
        "id": "5f2965ce"
      },
      "outputs": [],
      "source": [
        "def inference(model_paths, dataloader, device):\n",
        "    final_preds = []\n",
        "    for i, path in enumerate(model_paths):\n",
        "        model = SignateModel(CONFIG['model_name'])\n",
        "        model.to(CONFIG['device'])\n",
        "        model.load_state_dict(torch.load(path))\n",
        "        \n",
        "        print(f\"Getting predictions for model {i+1}\")\n",
        "        preds = valid_fn(model, dataloader, device)\n",
        "        final_preds.append(preds)\n",
        "    \n",
        "    final_preds = np.array(final_preds)\n",
        "    final_preds = np.mean(final_preds, axis=0)\n",
        "    return final_preds"
      ]
    },
    {
      "cell_type": "code",
      "execution_count": null,
      "id": "2bc3fbcf",
      "metadata": {
        "execution": {
          "iopub.execute_input": "2022-05-25T10:43:00.804023Z",
          "iopub.status.busy": "2022-05-25T10:43:00.803296Z",
          "iopub.status.idle": "2022-05-25T10:43:35.116076Z",
          "shell.execute_reply": "2022-05-25T10:43:35.115224Z"
        },
        "papermill": {
          "duration": 34.334915,
          "end_time": "2022-05-25T10:43:35.118596",
          "exception": false,
          "start_time": "2022-05-25T10:43:00.783681",
          "status": "completed"
        },
        "tags": [],
        "id": "2bc3fbcf",
        "colab": {
          "base_uri": "https://localhost:8080/"
        },
        "outputId": "bc46d7df-b22a-41fd-e8a4-0253398c9f1a"
      },
      "outputs": [
        {
          "output_type": "stream",
          "name": "stderr",
          "text": [
            "Some weights of the model checkpoint at microsoft/deberta-v3-large were not used when initializing DebertaV2Model: ['lm_predictions.lm_head.bias', 'mask_predictions.classifier.bias', 'lm_predictions.lm_head.dense.weight', 'lm_predictions.lm_head.LayerNorm.weight', 'mask_predictions.dense.bias', 'mask_predictions.LayerNorm.weight', 'mask_predictions.dense.weight', 'lm_predictions.lm_head.dense.bias', 'lm_predictions.lm_head.LayerNorm.bias', 'mask_predictions.LayerNorm.bias', 'mask_predictions.classifier.weight']\n",
            "- This IS expected if you are initializing DebertaV2Model from the checkpoint of a model trained on another task or with another architecture (e.g. initializing a BertForSequenceClassification model from a BertForPreTraining model).\n",
            "- This IS NOT expected if you are initializing DebertaV2Model from the checkpoint of a model that you expect to be exactly identical (initializing a BertForSequenceClassification model from a BertForSequenceClassification model).\n"
          ]
        },
        {
          "output_type": "stream",
          "name": "stdout",
          "text": [
            "Getting predictions for model 1\n"
          ]
        },
        {
          "output_type": "stream",
          "name": "stderr",
          "text": [
            "100%|██████████| 95/95 [01:17<00:00,  1.23it/s]\n",
            "Some weights of the model checkpoint at microsoft/deberta-v3-large were not used when initializing DebertaV2Model: ['lm_predictions.lm_head.bias', 'mask_predictions.classifier.bias', 'lm_predictions.lm_head.dense.weight', 'lm_predictions.lm_head.LayerNorm.weight', 'mask_predictions.dense.bias', 'mask_predictions.LayerNorm.weight', 'mask_predictions.dense.weight', 'lm_predictions.lm_head.dense.bias', 'lm_predictions.lm_head.LayerNorm.bias', 'mask_predictions.LayerNorm.bias', 'mask_predictions.classifier.weight']\n",
            "- This IS expected if you are initializing DebertaV2Model from the checkpoint of a model trained on another task or with another architecture (e.g. initializing a BertForSequenceClassification model from a BertForPreTraining model).\n",
            "- This IS NOT expected if you are initializing DebertaV2Model from the checkpoint of a model that you expect to be exactly identical (initializing a BertForSequenceClassification model from a BertForSequenceClassification model).\n"
          ]
        },
        {
          "output_type": "stream",
          "name": "stdout",
          "text": [
            "Getting predictions for model 2\n"
          ]
        },
        {
          "output_type": "stream",
          "name": "stderr",
          "text": [
            "100%|██████████| 95/95 [01:09<00:00,  1.36it/s]\n",
            "Some weights of the model checkpoint at microsoft/deberta-v3-large were not used when initializing DebertaV2Model: ['lm_predictions.lm_head.bias', 'mask_predictions.classifier.bias', 'lm_predictions.lm_head.dense.weight', 'lm_predictions.lm_head.LayerNorm.weight', 'mask_predictions.dense.bias', 'mask_predictions.LayerNorm.weight', 'mask_predictions.dense.weight', 'lm_predictions.lm_head.dense.bias', 'lm_predictions.lm_head.LayerNorm.bias', 'mask_predictions.LayerNorm.bias', 'mask_predictions.classifier.weight']\n",
            "- This IS expected if you are initializing DebertaV2Model from the checkpoint of a model trained on another task or with another architecture (e.g. initializing a BertForSequenceClassification model from a BertForPreTraining model).\n",
            "- This IS NOT expected if you are initializing DebertaV2Model from the checkpoint of a model that you expect to be exactly identical (initializing a BertForSequenceClassification model from a BertForSequenceClassification model).\n"
          ]
        },
        {
          "output_type": "stream",
          "name": "stdout",
          "text": [
            "Getting predictions for model 3\n"
          ]
        },
        {
          "output_type": "stream",
          "name": "stderr",
          "text": [
            "100%|██████████| 95/95 [01:09<00:00,  1.36it/s]\n",
            "Some weights of the model checkpoint at microsoft/deberta-v3-large were not used when initializing DebertaV2Model: ['lm_predictions.lm_head.bias', 'mask_predictions.classifier.bias', 'lm_predictions.lm_head.dense.weight', 'lm_predictions.lm_head.LayerNorm.weight', 'mask_predictions.dense.bias', 'mask_predictions.LayerNorm.weight', 'mask_predictions.dense.weight', 'lm_predictions.lm_head.dense.bias', 'lm_predictions.lm_head.LayerNorm.bias', 'mask_predictions.LayerNorm.bias', 'mask_predictions.classifier.weight']\n",
            "- This IS expected if you are initializing DebertaV2Model from the checkpoint of a model trained on another task or with another architecture (e.g. initializing a BertForSequenceClassification model from a BertForPreTraining model).\n",
            "- This IS NOT expected if you are initializing DebertaV2Model from the checkpoint of a model that you expect to be exactly identical (initializing a BertForSequenceClassification model from a BertForSequenceClassification model).\n"
          ]
        },
        {
          "output_type": "stream",
          "name": "stdout",
          "text": [
            "Getting predictions for model 4\n"
          ]
        },
        {
          "output_type": "stream",
          "name": "stderr",
          "text": [
            "100%|██████████| 95/95 [01:09<00:00,  1.36it/s]\n"
          ]
        }
      ],
      "source": [
        "preds = inference(MODEL_PATHS, test_loader, CONFIG['device'])\n",
        "sample.iloc[:, 1] = np.argmax(preds, axis=1) + 1"
      ]
    },
    {
      "cell_type": "code",
      "source": [
        "train = pd.read_csv(TRAIN_DIR)\n",
        "test = pd.read_csv(TEST_DIR)\n",
        "dup_train = train[train[\"description\"].isin(test[\"description\"])][[\"description\", \"jobflag\"]]\n",
        "dup_test = test[test[\"description\"].isin(train[\"description\"])]\n",
        "dup_df = pd.merge(dup_test, dup_train, on=\"description\", how=\"left\")[[\"id\", \"jobflag\"]]\n",
        "\n",
        "for id, flag in zip(dup_df[\"id\"], dup_df[\"jobflag\"]):\n",
        "    sample.loc[(sample.iloc[:, 0] == id), 1] = flag\n",
        "\n",
        "\n",
        "sample"
      ],
      "metadata": {
        "id": "8RTkG60lQIMl",
        "colab": {
          "base_uri": "https://localhost:8080/",
          "height": 423
        },
        "outputId": "5e1aa86f-3e05-4480-dda2-315c227dcc2c"
      },
      "id": "8RTkG60lQIMl",
      "execution_count": null,
      "outputs": [
        {
          "output_type": "execute_result",
          "data": {
            "text/plain": [
              "         0  1\n",
              "0     1516  1\n",
              "1     1517  4\n",
              "2     1518  3\n",
              "3     1519  4\n",
              "4     1520  3\n",
              "...    ... ..\n",
              "1512  3028  3\n",
              "1513  3029  1\n",
              "1514  3030  3\n",
              "1515  3031  4\n",
              "1516  3032  3\n",
              "\n",
              "[1517 rows x 2 columns]"
            ],
            "text/html": [
              "\n",
              "  <div id=\"df-83b1d78b-7c78-45ec-8ab7-ce8a2f202815\">\n",
              "    <div class=\"colab-df-container\">\n",
              "      <div>\n",
              "<style scoped>\n",
              "    .dataframe tbody tr th:only-of-type {\n",
              "        vertical-align: middle;\n",
              "    }\n",
              "\n",
              "    .dataframe tbody tr th {\n",
              "        vertical-align: top;\n",
              "    }\n",
              "\n",
              "    .dataframe thead th {\n",
              "        text-align: right;\n",
              "    }\n",
              "</style>\n",
              "<table border=\"1\" class=\"dataframe\">\n",
              "  <thead>\n",
              "    <tr style=\"text-align: right;\">\n",
              "      <th></th>\n",
              "      <th>0</th>\n",
              "      <th>1</th>\n",
              "    </tr>\n",
              "  </thead>\n",
              "  <tbody>\n",
              "    <tr>\n",
              "      <th>0</th>\n",
              "      <td>1516</td>\n",
              "      <td>1</td>\n",
              "    </tr>\n",
              "    <tr>\n",
              "      <th>1</th>\n",
              "      <td>1517</td>\n",
              "      <td>4</td>\n",
              "    </tr>\n",
              "    <tr>\n",
              "      <th>2</th>\n",
              "      <td>1518</td>\n",
              "      <td>3</td>\n",
              "    </tr>\n",
              "    <tr>\n",
              "      <th>3</th>\n",
              "      <td>1519</td>\n",
              "      <td>4</td>\n",
              "    </tr>\n",
              "    <tr>\n",
              "      <th>4</th>\n",
              "      <td>1520</td>\n",
              "      <td>3</td>\n",
              "    </tr>\n",
              "    <tr>\n",
              "      <th>...</th>\n",
              "      <td>...</td>\n",
              "      <td>...</td>\n",
              "    </tr>\n",
              "    <tr>\n",
              "      <th>1512</th>\n",
              "      <td>3028</td>\n",
              "      <td>3</td>\n",
              "    </tr>\n",
              "    <tr>\n",
              "      <th>1513</th>\n",
              "      <td>3029</td>\n",
              "      <td>1</td>\n",
              "    </tr>\n",
              "    <tr>\n",
              "      <th>1514</th>\n",
              "      <td>3030</td>\n",
              "      <td>3</td>\n",
              "    </tr>\n",
              "    <tr>\n",
              "      <th>1515</th>\n",
              "      <td>3031</td>\n",
              "      <td>4</td>\n",
              "    </tr>\n",
              "    <tr>\n",
              "      <th>1516</th>\n",
              "      <td>3032</td>\n",
              "      <td>3</td>\n",
              "    </tr>\n",
              "  </tbody>\n",
              "</table>\n",
              "<p>1517 rows × 2 columns</p>\n",
              "</div>\n",
              "      <button class=\"colab-df-convert\" onclick=\"convertToInteractive('df-83b1d78b-7c78-45ec-8ab7-ce8a2f202815')\"\n",
              "              title=\"Convert this dataframe to an interactive table.\"\n",
              "              style=\"display:none;\">\n",
              "        \n",
              "  <svg xmlns=\"http://www.w3.org/2000/svg\" height=\"24px\"viewBox=\"0 0 24 24\"\n",
              "       width=\"24px\">\n",
              "    <path d=\"M0 0h24v24H0V0z\" fill=\"none\"/>\n",
              "    <path d=\"M18.56 5.44l.94 2.06.94-2.06 2.06-.94-2.06-.94-.94-2.06-.94 2.06-2.06.94zm-11 1L8.5 8.5l.94-2.06 2.06-.94-2.06-.94L8.5 2.5l-.94 2.06-2.06.94zm10 10l.94 2.06.94-2.06 2.06-.94-2.06-.94-.94-2.06-.94 2.06-2.06.94z\"/><path d=\"M17.41 7.96l-1.37-1.37c-.4-.4-.92-.59-1.43-.59-.52 0-1.04.2-1.43.59L10.3 9.45l-7.72 7.72c-.78.78-.78 2.05 0 2.83L4 21.41c.39.39.9.59 1.41.59.51 0 1.02-.2 1.41-.59l7.78-7.78 2.81-2.81c.8-.78.8-2.07 0-2.86zM5.41 20L4 18.59l7.72-7.72 1.47 1.35L5.41 20z\"/>\n",
              "  </svg>\n",
              "      </button>\n",
              "      \n",
              "  <style>\n",
              "    .colab-df-container {\n",
              "      display:flex;\n",
              "      flex-wrap:wrap;\n",
              "      gap: 12px;\n",
              "    }\n",
              "\n",
              "    .colab-df-convert {\n",
              "      background-color: #E8F0FE;\n",
              "      border: none;\n",
              "      border-radius: 50%;\n",
              "      cursor: pointer;\n",
              "      display: none;\n",
              "      fill: #1967D2;\n",
              "      height: 32px;\n",
              "      padding: 0 0 0 0;\n",
              "      width: 32px;\n",
              "    }\n",
              "\n",
              "    .colab-df-convert:hover {\n",
              "      background-color: #E2EBFA;\n",
              "      box-shadow: 0px 1px 2px rgba(60, 64, 67, 0.3), 0px 1px 3px 1px rgba(60, 64, 67, 0.15);\n",
              "      fill: #174EA6;\n",
              "    }\n",
              "\n",
              "    [theme=dark] .colab-df-convert {\n",
              "      background-color: #3B4455;\n",
              "      fill: #D2E3FC;\n",
              "    }\n",
              "\n",
              "    [theme=dark] .colab-df-convert:hover {\n",
              "      background-color: #434B5C;\n",
              "      box-shadow: 0px 1px 3px 1px rgba(0, 0, 0, 0.15);\n",
              "      filter: drop-shadow(0px 1px 2px rgba(0, 0, 0, 0.3));\n",
              "      fill: #FFFFFF;\n",
              "    }\n",
              "  </style>\n",
              "\n",
              "      <script>\n",
              "        const buttonEl =\n",
              "          document.querySelector('#df-83b1d78b-7c78-45ec-8ab7-ce8a2f202815 button.colab-df-convert');\n",
              "        buttonEl.style.display =\n",
              "          google.colab.kernel.accessAllowed ? 'block' : 'none';\n",
              "\n",
              "        async function convertToInteractive(key) {\n",
              "          const element = document.querySelector('#df-83b1d78b-7c78-45ec-8ab7-ce8a2f202815');\n",
              "          const dataTable =\n",
              "            await google.colab.kernel.invokeFunction('convertToInteractive',\n",
              "                                                     [key], {});\n",
              "          if (!dataTable) return;\n",
              "\n",
              "          const docLinkHtml = 'Like what you see? Visit the ' +\n",
              "            '<a target=\"_blank\" href=https://colab.research.google.com/notebooks/data_table.ipynb>data table notebook</a>'\n",
              "            + ' to learn more about interactive tables.';\n",
              "          element.innerHTML = '';\n",
              "          dataTable['output_type'] = 'display_data';\n",
              "          await google.colab.output.renderOutput(dataTable, element);\n",
              "          const docLink = document.createElement('div');\n",
              "          docLink.innerHTML = docLinkHtml;\n",
              "          element.appendChild(docLink);\n",
              "        }\n",
              "      </script>\n",
              "    </div>\n",
              "  </div>\n",
              "  "
            ]
          },
          "metadata": {},
          "execution_count": 17
        }
      ]
    },
    {
      "cell_type": "code",
      "execution_count": null,
      "id": "9ef3a4e5",
      "metadata": {
        "execution": {
          "iopub.execute_input": "2022-05-25T10:43:35.360265Z",
          "iopub.status.busy": "2022-05-25T10:43:35.359811Z",
          "iopub.status.idle": "2022-05-25T10:43:35.366426Z",
          "shell.execute_reply": "2022-05-25T10:43:35.365749Z"
        },
        "papermill": {
          "duration": 0.033378,
          "end_time": "2022-05-25T10:43:35.368055",
          "exception": false,
          "start_time": "2022-05-25T10:43:35.334677",
          "status": "completed"
        },
        "tags": [],
        "id": "9ef3a4e5"
      },
      "outputs": [],
      "source": [
        "if CONFIG[\"BEST_F1\"]:\n",
        "    sample.to_csv(f\"/content/drive/MyDrive/Competitions/SIGNATE/STUDENT_CUP/penguin/output/exp_{CONFIG['exp']}_BEST_F1.csv\", index=False)\n",
        "    sample.to_csv(f'exp_{CONFIG[\"exp\"]}_BEST_F1.csv', index=False)\n",
        "else:\n",
        "    sample.to_csv(f\"/content/drive/MyDrive/Competitions/SIGNATE/STUDENT_CUP/penguin/output/exp_{CONFIG['exp']}.csv\", index=False)\n",
        "    sample.to_csv(f'exp_{CONFIG[\"exp\"]}.csv', index=False)"
      ]
    }
  ],
  "metadata": {
    "kernelspec": {
      "display_name": "Python 3",
      "language": "python",
      "name": "python3"
    },
    "language_info": {
      "codemirror_mode": {
        "name": "ipython",
        "version": 3
      },
      "file_extension": ".py",
      "mimetype": "text/x-python",
      "name": "python",
      "nbconvert_exporter": "python",
      "pygments_lexer": "ipython3",
      "version": "3.7.12"
    },
    "papermill": {
      "default_parameters": {},
      "duration": 55.325265,
      "end_time": "2022-05-25T10:43:38.635651",
      "environment_variables": {},
      "exception": null,
      "input_path": "__notebook__.ipynb",
      "output_path": "__notebook__.ipynb",
      "parameters": {},
      "start_time": "2022-05-25T10:42:43.310386",
      "version": "2.3.4"
    },
    "colab": {
      "provenance": [],
      "machine_shape": "hm"
    },
    "accelerator": "GPU",
    "gpuClass": "standard"
  },
  "nbformat": 4,
  "nbformat_minor": 5
}
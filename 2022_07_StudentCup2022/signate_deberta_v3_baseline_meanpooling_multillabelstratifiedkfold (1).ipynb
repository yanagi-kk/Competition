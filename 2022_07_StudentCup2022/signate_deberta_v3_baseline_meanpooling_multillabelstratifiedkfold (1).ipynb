{
  "cells": [
    {
      "cell_type": "code",
      "execution_count": null,
      "metadata": {
        "colab": {
          "base_uri": "https://localhost:8080/"
        },
        "id": "ioOjXsJULCP1",
        "outputId": "ac8e62dd-beae-48d3-e4b8-c67eee8f499f"
      },
      "outputs": [
        {
          "output_type": "stream",
          "name": "stdout",
          "text": [
            "Thu Aug 18 15:52:33 2022       \n",
            "+-----------------------------------------------------------------------------+\n",
            "| NVIDIA-SMI 460.32.03    Driver Version: 460.32.03    CUDA Version: 11.2     |\n",
            "|-------------------------------+----------------------+----------------------+\n",
            "| GPU  Name        Persistence-M| Bus-Id        Disp.A | Volatile Uncorr. ECC |\n",
            "| Fan  Temp  Perf  Pwr:Usage/Cap|         Memory-Usage | GPU-Util  Compute M. |\n",
            "|                               |                      |               MIG M. |\n",
            "|===============================+======================+======================|\n",
            "|   0  Tesla T4            Off  | 00000000:00:04.0 Off |                    0 |\n",
            "| N/A   71C    P8    10W /  70W |      0MiB / 15109MiB |      0%      Default |\n",
            "|                               |                      |                  N/A |\n",
            "+-------------------------------+----------------------+----------------------+\n",
            "                                                                               \n",
            "+-----------------------------------------------------------------------------+\n",
            "| Processes:                                                                  |\n",
            "|  GPU   GI   CI        PID   Type   Process name                  GPU Memory |\n",
            "|        ID   ID                                                   Usage      |\n",
            "|=============================================================================|\n",
            "|  No running processes found                                                 |\n",
            "+-----------------------------------------------------------------------------+\n"
          ]
        }
      ],
      "source": [
        "!nvidia-smi"
      ],
      "id": "ioOjXsJULCP1"
    },
    {
      "cell_type": "code",
      "execution_count": null,
      "metadata": {
        "colab": {
          "base_uri": "https://localhost:8080/"
        },
        "id": "Uu0F_OAwnJNp",
        "outputId": "2bb03f57-b4b3-4dd5-f510-27678117128c"
      },
      "outputs": [
        {
          "output_type": "stream",
          "name": "stdout",
          "text": [
            "Mounted at /content/drive\n"
          ]
        }
      ],
      "source": [
        "from google.colab import drive\n",
        "drive.mount('/content/drive')"
      ],
      "id": "Uu0F_OAwnJNp"
    },
    {
      "cell_type": "code",
      "execution_count": null,
      "metadata": {
        "id": "cf27305c",
        "colab": {
          "base_uri": "https://localhost:8080/"
        },
        "outputId": "165f6f90-1623-4ac6-9652-50c7b49359b3"
      },
      "outputs": [
        {
          "output_type": "stream",
          "name": "stdout",
          "text": [
            "\u001b[K     |████████████████████████████████| 1.8 MB 33.4 MB/s \n",
            "\u001b[K     |████████████████████████████████| 181 kB 62.4 MB/s \n",
            "\u001b[K     |████████████████████████████████| 157 kB 68.2 MB/s \n",
            "\u001b[K     |████████████████████████████████| 63 kB 1.7 MB/s \n",
            "\u001b[K     |████████████████████████████████| 157 kB 68.1 MB/s \n",
            "\u001b[K     |████████████████████████████████| 157 kB 66.1 MB/s \n",
            "\u001b[K     |████████████████████████████████| 157 kB 72.4 MB/s \n",
            "\u001b[K     |████████████████████████████████| 157 kB 65.5 MB/s \n",
            "\u001b[K     |████████████████████████████████| 156 kB 70.4 MB/s \n",
            "\u001b[?25h  Building wheel for pathtools (setup.py) ... \u001b[?25l\u001b[?25hdone\n",
            "\u001b[K     |████████████████████████████████| 4.7 MB 28.3 MB/s \n",
            "\u001b[K     |████████████████████████████████| 101 kB 7.2 MB/s \n",
            "\u001b[K     |████████████████████████████████| 6.6 MB 56.4 MB/s \n",
            "\u001b[K     |████████████████████████████████| 596 kB 67.2 MB/s \n",
            "\u001b[K     |████████████████████████████████| 1.3 MB 35.0 MB/s \n",
            "\u001b[?25h"
          ]
        }
      ],
      "source": [
        "!pip install -qqq --upgrade wandb\n",
        "!pip install -qqq transformers\n",
        "!pip install -qqq sentencepiece\n",
        "!pip install -qqq colorama"
      ],
      "id": "cf27305c"
    },
    {
      "cell_type": "markdown",
      "metadata": {
        "id": "8638aafb"
      },
      "source": [
        "# <span><h1 style = \"font-family: garamond; font-size: 40px; font-style: normal; letter-spcaing: 3px; background-color: #f6f5f5; color :#fe346e; border-radius: 100px 100px; text-align:center\">Import Required Libraries 📚</h1></span>"
      ],
      "id": "8638aafb"
    },
    {
      "cell_type": "code",
      "execution_count": null,
      "metadata": {
        "id": "1fb7bd59"
      },
      "outputs": [],
      "source": [
        "import os\n",
        "import gc\n",
        "import copy\n",
        "import time\n",
        "import random\n",
        "import string\n",
        "import joblib\n",
        "import re\n",
        "\n",
        "# For data manipulation\n",
        "import numpy as np\n",
        "import pandas as pd\n",
        "\n",
        "# Pytorch Imports\n",
        "import torch\n",
        "import torch.nn as nn\n",
        "import torch.optim as optim\n",
        "from torch.optim import lr_scheduler\n",
        "from torch.utils.data import Dataset, DataLoader\n",
        "\n",
        "# Utils\n",
        "from tqdm import tqdm\n",
        "from collections import defaultdict\n",
        "\n",
        "# Sklearn Imports\n",
        "from sklearn.preprocessing import LabelEncoder\n",
        "from sklearn.model_selection import GroupKFold, KFold, StratifiedKFold\n",
        "from sklearn.metrics import f1_score\n",
        "from sklearn.utils.class_weight import compute_class_weight\n",
        "\n",
        "# For Transformer Models\n",
        "from transformers import AutoTokenizer, AutoModel, AutoConfig, AdamW\n",
        "from transformers import DataCollatorWithPadding\n",
        "\n",
        "# For colored terminal text\n",
        "from colorama import Fore, Back, Style\n",
        "b_ = Fore.BLUE\n",
        "y_ = Fore.YELLOW\n",
        "sr_ = Style.RESET_ALL\n",
        "\n",
        "# Suppress warnings\n",
        "import warnings\n",
        "warnings.filterwarnings(\"ignore\")\n",
        "\n",
        "# For descriptive error messages\n",
        "os.environ['CUDA_LAUNCH_BLOCKING'] = \"1\""
      ],
      "id": "1fb7bd59"
    },
    {
      "cell_type": "markdown",
      "metadata": {
        "id": "e3d5d0d4"
      },
      "source": [
        "<img src=\"https://i.imgur.com/gb6B4ig.png\" width=\"400\" alt=\"Weights & Biases\" />\n",
        "\n",
        "<span style=\"color: #000508; font-family: Segoe UI; font-size: 1.2em; font-weight: 300;\"> Weights & Biases (W&B) is a set of machine learning tools that helps you build better models faster. <strong>Kaggle competitions require fast-paced model development and evaluation</strong>. There are a lot of components: exploring the training data, training different models, combining trained models in different combinations (ensembling), and so on.</span>\n",
        "\n",
        "> <span style=\"color: #000508; font-family: Segoe UI; font-size: 1.2em; font-weight: 300;\">⏳ Lots of components = Lots of places to go wrong = Lots of time spent debugging</span>\n",
        "\n",
        "<span style=\"color: #000508; font-family: Segoe UI; font-size: 1.2em; font-weight: 300;\">W&B can be useful for Kaggle competition with it's lightweight and interoperable tools:</span>\n",
        "\n",
        "* <span style=\"color: #000508; font-family: Segoe UI; font-size: 1.2em; font-weight: 300;\">Quickly track experiments,<br></span>\n",
        "* <span style=\"color: #000508; font-family: Segoe UI; font-size: 1.2em; font-weight: 300;\">Version and iterate on datasets, <br></span>\n",
        "* <span style=\"color: #000508; font-family: Segoe UI; font-size: 1.2em; font-weight: 300;\">Evaluate model performance,<br></span>\n",
        "* <span style=\"color: #000508; font-family: Segoe UI; font-size: 1.2em; font-weight: 300;\">Reproduce models,<br></span>\n",
        "* <span style=\"color: #000508; font-family: Segoe UI; font-size: 1.2em; font-weight: 300;\">Visualize results and spot regressions,<br></span>\n",
        "* <span style=\"color: #000508; font-family: Segoe UI; font-size: 1.2em; font-weight: 300;\">Share findings with colleagues.</span>\n",
        "\n",
        "<span style=\"color: #000508; font-family: Segoe UI; font-size: 1.2em; font-weight: 300;\">To learn more about Weights and Biases check out this <strong><a href=\"https://www.kaggle.com/ayuraj/experiment-tracking-with-weights-and-biases\">kernel</a></strong>.</span>"
      ],
      "id": "e3d5d0d4"
    },
    {
      "cell_type": "code",
      "execution_count": null,
      "metadata": {
        "colab": {
          "base_uri": "https://localhost:8080/"
        },
        "id": "1d6999b1",
        "outputId": "de4a46e7-0edc-4594-c977-437f0111f1a1"
      },
      "outputs": [
        {
          "output_type": "stream",
          "name": "stderr",
          "text": [
            "\u001b[34m\u001b[1mwandb\u001b[0m: W&B API key is configured. Use \u001b[1m`wandb login --relogin`\u001b[0m to force relogin\n",
            "\u001b[34m\u001b[1mwandb\u001b[0m: \u001b[33mWARNING\u001b[0m If you're specifying your api key in code, ensure this code is not shared publicly.\n",
            "\u001b[34m\u001b[1mwandb\u001b[0m: \u001b[33mWARNING\u001b[0m Consider setting the WANDB_API_KEY environment variable, or running `wandb login` from the command line.\n",
            "\u001b[34m\u001b[1mwandb\u001b[0m: Appending key for api.wandb.ai to your netrc file: /root/.netrc\n"
          ]
        }
      ],
      "source": [
        "import wandb\n",
        "\n",
        "try:\n",
        "    wandb.login(key=\"ae4e5eee4ca7500441c1fe2755f5318f06e8b409\")\n",
        "    anony = None\n",
        "except:\n",
        "    anony = \"must\"\n",
        "    print('If you want to use your W&B account, go to Add-ons -> Secrets and provide your W&B access token. Use the Label name as wandb_api. \\nGet your W&B access token from here: https://wandb.ai/authorize')"
      ],
      "id": "1d6999b1"
    },
    {
      "cell_type": "code",
      "execution_count": null,
      "metadata": {
        "id": "3201fd82"
      },
      "outputs": [],
      "source": [
        "# def id_generator(size=12, chars=string.ascii_lowercase + string.digits):\n",
        "#     return ''.join(random.SystemRandom().choice(chars) for _ in range(size))\n",
        "\n",
        "# HASH_NAME = id_generator(size=12)\n",
        "# print(HASH_NAME)"
      ],
      "id": "3201fd82"
    },
    {
      "cell_type": "code",
      "execution_count": null,
      "metadata": {
        "colab": {
          "base_uri": "https://localhost:8080/",
          "height": 206
        },
        "id": "7fa2fcc0",
        "outputId": "85934b62-d86f-4099-bfa6-d19740a5df37"
      },
      "outputs": [
        {
          "output_type": "execute_result",
          "data": {
            "text/plain": [
              "   id                                        description  jobflag\n",
              "0   0  <li>Develop cutting-edge web applications that...        3\n",
              "1   1  <li> Designs and develops high quality, scalab...        3\n",
              "2   2  <li>Functions as a point person for Network St...        4\n",
              "3   3  <li> Work on the technical design, development...        3\n",
              "4   4  <li>Quantify the resources required for a task...        4"
            ],
            "text/html": [
              "\n",
              "  <div id=\"df-f63f10b3-f4ae-4d00-860a-5757090ef3a0\">\n",
              "    <div class=\"colab-df-container\">\n",
              "      <div>\n",
              "<style scoped>\n",
              "    .dataframe tbody tr th:only-of-type {\n",
              "        vertical-align: middle;\n",
              "    }\n",
              "\n",
              "    .dataframe tbody tr th {\n",
              "        vertical-align: top;\n",
              "    }\n",
              "\n",
              "    .dataframe thead th {\n",
              "        text-align: right;\n",
              "    }\n",
              "</style>\n",
              "<table border=\"1\" class=\"dataframe\">\n",
              "  <thead>\n",
              "    <tr style=\"text-align: right;\">\n",
              "      <th></th>\n",
              "      <th>id</th>\n",
              "      <th>description</th>\n",
              "      <th>jobflag</th>\n",
              "    </tr>\n",
              "  </thead>\n",
              "  <tbody>\n",
              "    <tr>\n",
              "      <th>0</th>\n",
              "      <td>0</td>\n",
              "      <td>&lt;li&gt;Develop cutting-edge web applications that...</td>\n",
              "      <td>3</td>\n",
              "    </tr>\n",
              "    <tr>\n",
              "      <th>1</th>\n",
              "      <td>1</td>\n",
              "      <td>&lt;li&gt; Designs and develops high quality, scalab...</td>\n",
              "      <td>3</td>\n",
              "    </tr>\n",
              "    <tr>\n",
              "      <th>2</th>\n",
              "      <td>2</td>\n",
              "      <td>&lt;li&gt;Functions as a point person for Network St...</td>\n",
              "      <td>4</td>\n",
              "    </tr>\n",
              "    <tr>\n",
              "      <th>3</th>\n",
              "      <td>3</td>\n",
              "      <td>&lt;li&gt; Work on the technical design, development...</td>\n",
              "      <td>3</td>\n",
              "    </tr>\n",
              "    <tr>\n",
              "      <th>4</th>\n",
              "      <td>4</td>\n",
              "      <td>&lt;li&gt;Quantify the resources required for a task...</td>\n",
              "      <td>4</td>\n",
              "    </tr>\n",
              "  </tbody>\n",
              "</table>\n",
              "</div>\n",
              "      <button class=\"colab-df-convert\" onclick=\"convertToInteractive('df-f63f10b3-f4ae-4d00-860a-5757090ef3a0')\"\n",
              "              title=\"Convert this dataframe to an interactive table.\"\n",
              "              style=\"display:none;\">\n",
              "        \n",
              "  <svg xmlns=\"http://www.w3.org/2000/svg\" height=\"24px\"viewBox=\"0 0 24 24\"\n",
              "       width=\"24px\">\n",
              "    <path d=\"M0 0h24v24H0V0z\" fill=\"none\"/>\n",
              "    <path d=\"M18.56 5.44l.94 2.06.94-2.06 2.06-.94-2.06-.94-.94-2.06-.94 2.06-2.06.94zm-11 1L8.5 8.5l.94-2.06 2.06-.94-2.06-.94L8.5 2.5l-.94 2.06-2.06.94zm10 10l.94 2.06.94-2.06 2.06-.94-2.06-.94-.94-2.06-.94 2.06-2.06.94z\"/><path d=\"M17.41 7.96l-1.37-1.37c-.4-.4-.92-.59-1.43-.59-.52 0-1.04.2-1.43.59L10.3 9.45l-7.72 7.72c-.78.78-.78 2.05 0 2.83L4 21.41c.39.39.9.59 1.41.59.51 0 1.02-.2 1.41-.59l7.78-7.78 2.81-2.81c.8-.78.8-2.07 0-2.86zM5.41 20L4 18.59l7.72-7.72 1.47 1.35L5.41 20z\"/>\n",
              "  </svg>\n",
              "      </button>\n",
              "      \n",
              "  <style>\n",
              "    .colab-df-container {\n",
              "      display:flex;\n",
              "      flex-wrap:wrap;\n",
              "      gap: 12px;\n",
              "    }\n",
              "\n",
              "    .colab-df-convert {\n",
              "      background-color: #E8F0FE;\n",
              "      border: none;\n",
              "      border-radius: 50%;\n",
              "      cursor: pointer;\n",
              "      display: none;\n",
              "      fill: #1967D2;\n",
              "      height: 32px;\n",
              "      padding: 0 0 0 0;\n",
              "      width: 32px;\n",
              "    }\n",
              "\n",
              "    .colab-df-convert:hover {\n",
              "      background-color: #E2EBFA;\n",
              "      box-shadow: 0px 1px 2px rgba(60, 64, 67, 0.3), 0px 1px 3px 1px rgba(60, 64, 67, 0.15);\n",
              "      fill: #174EA6;\n",
              "    }\n",
              "\n",
              "    [theme=dark] .colab-df-convert {\n",
              "      background-color: #3B4455;\n",
              "      fill: #D2E3FC;\n",
              "    }\n",
              "\n",
              "    [theme=dark] .colab-df-convert:hover {\n",
              "      background-color: #434B5C;\n",
              "      box-shadow: 0px 1px 3px 1px rgba(0, 0, 0, 0.15);\n",
              "      filter: drop-shadow(0px 1px 2px rgba(0, 0, 0, 0.3));\n",
              "      fill: #FFFFFF;\n",
              "    }\n",
              "  </style>\n",
              "\n",
              "      <script>\n",
              "        const buttonEl =\n",
              "          document.querySelector('#df-f63f10b3-f4ae-4d00-860a-5757090ef3a0 button.colab-df-convert');\n",
              "        buttonEl.style.display =\n",
              "          google.colab.kernel.accessAllowed ? 'block' : 'none';\n",
              "\n",
              "        async function convertToInteractive(key) {\n",
              "          const element = document.querySelector('#df-f63f10b3-f4ae-4d00-860a-5757090ef3a0');\n",
              "          const dataTable =\n",
              "            await google.colab.kernel.invokeFunction('convertToInteractive',\n",
              "                                                     [key], {});\n",
              "          if (!dataTable) return;\n",
              "\n",
              "          const docLinkHtml = 'Like what you see? Visit the ' +\n",
              "            '<a target=\"_blank\" href=https://colab.research.google.com/notebooks/data_table.ipynb>data table notebook</a>'\n",
              "            + ' to learn more about interactive tables.';\n",
              "          element.innerHTML = '';\n",
              "          dataTable['output_type'] = 'display_data';\n",
              "          await google.colab.output.renderOutput(dataTable, element);\n",
              "          const docLink = document.createElement('div');\n",
              "          docLink.innerHTML = docLinkHtml;\n",
              "          element.appendChild(docLink);\n",
              "        }\n",
              "      </script>\n",
              "    </div>\n",
              "  </div>\n",
              "  "
            ]
          },
          "metadata": {},
          "execution_count": 6
        }
      ],
      "source": [
        "df = pd.read_csv(\"/content/drive/MyDrive/Competitions/SIGNATE/STUDENT_CUP/penguin/input/train.csv\")\n",
        "test = pd.read_csv(\"/content/drive/MyDrive/Competitions/SIGNATE/STUDENT_CUP/penguin/input/test.csv\")\n",
        "# sub = pd.read_csv(\"/content/drive/MyDrive/Competitions/SIGNATE/STUDENT_CUP/penguin/output/exp_043(MultiLabel).csv\")\n",
        "df.head()"
      ],
      "id": "7fa2fcc0"
    },
    {
      "cell_type": "code",
      "source": [
        "# pl_df = pd.concat([test, sub], axis=1).drop(columns=\"0\").rename(columns={\"1\": \"jobflag\"})\n",
        "# pl_df"
      ],
      "metadata": {
        "id": "kuimxu0VzWtG"
      },
      "id": "kuimxu0VzWtG",
      "execution_count": null,
      "outputs": []
    },
    {
      "cell_type": "code",
      "execution_count": null,
      "metadata": {
        "colab": {
          "base_uri": "https://localhost:8080/",
          "height": 148,
          "referenced_widgets": [
            "c80f15ef27894107860d23fcaf1b6582",
            "f38a6416ac2d40e8970a9f156f04c8c7",
            "4c7a812ad6224675900220c3ebd0a035",
            "f82c911f86324339a603e1cb7d169c84",
            "714b052c89c5432998a246ce3779194c",
            "cc6f96c77db34224be1fe23e750d7dc3",
            "c064329ac66f436fb3831ea09267b5ce",
            "bcd8fb473df74c3b8a9b1ee999478a9b",
            "333b7c84ab7843029c6ba3ae61697d72",
            "b01e97c42c68419caa458ea90c3bf872",
            "1ce3022e862f426d88ecfcf173509487",
            "7b59b7fcc9ad4cb2a2c7a9983a33cc03",
            "469f7a5f895b43199e471de464c86a33",
            "fa1cd34a73db423a9683ba9d7fe22af5",
            "3ae87819fc7a46caa54098e5b3744bdd",
            "5c7004a368234716824940e546bff11f",
            "f2e91f6c5f6543d3850e3b88940fd6a0",
            "9a6fd5d624454cf2bea3e56b4de67311",
            "e4bad518c2d3435b9e5d2bf72e94f822",
            "bc2ac147e98d45b885e4a8e05e0169d6",
            "8a62110df1e7492f81199310173285c5",
            "b995d62f0c4d49899e05b487b667eb5c",
            "c2a5769951264332bbfa14bc61ca088f",
            "22d9dea899104ffd9c77441335fd37e4",
            "b60b11f45e7443169917da5fd3f5279e",
            "01d504529be54aff8c35d34695661801",
            "eb7b6870caeb481394a976f1814d6652",
            "1f2f8947d43042b699e4ffddff5a9350",
            "39cf050d6ffe44738de4c2f078345e56",
            "7437c27354854923b5d3cafb05d3848b",
            "7e940f9da52b445094af3cde96d2dcb2",
            "3a2b4e5340294384bb2e1dfa12ba0b4a",
            "a4471f08889a47ebaa5d53be020c4698"
          ]
        },
        "id": "0e6f5763",
        "outputId": "472da0d9-6690-4ce3-e6b2-2b61b6e0d769"
      },
      "outputs": [
        {
          "output_type": "display_data",
          "data": {
            "text/plain": [
              "Downloading tokenizer_config.json:   0%|          | 0.00/52.0 [00:00<?, ?B/s]"
            ],
            "application/vnd.jupyter.widget-view+json": {
              "version_major": 2,
              "version_minor": 0,
              "model_id": "c80f15ef27894107860d23fcaf1b6582"
            }
          },
          "metadata": {}
        },
        {
          "output_type": "display_data",
          "data": {
            "text/plain": [
              "Downloading config.json:   0%|          | 0.00/580 [00:00<?, ?B/s]"
            ],
            "application/vnd.jupyter.widget-view+json": {
              "version_major": 2,
              "version_minor": 0,
              "model_id": "7b59b7fcc9ad4cb2a2c7a9983a33cc03"
            }
          },
          "metadata": {}
        },
        {
          "output_type": "display_data",
          "data": {
            "text/plain": [
              "Downloading spm.model:   0%|          | 0.00/2.35M [00:00<?, ?B/s]"
            ],
            "application/vnd.jupyter.widget-view+json": {
              "version_major": 2,
              "version_minor": 0,
              "model_id": "c2a5769951264332bbfa14bc61ca088f"
            }
          },
          "metadata": {}
        },
        {
          "output_type": "stream",
          "name": "stderr",
          "text": [
            "Special tokens have been added in the vocabulary, make sure the associated word embeddings are fine-tuned or trained.\n",
            "Special tokens have been added in the vocabulary, make sure the associated word embeddings are fine-tuned or trained.\n"
          ]
        }
      ],
      "source": [
        "CONFIG = {\"seed\": 2022,\n",
        "          \"epochs\": 5,\n",
        "          \"model_name\": \"microsoft/deberta-v3-large\",\n",
        "          \"train_batch_size\": 8,\n",
        "          \"valid_batch_size\": 16,\n",
        "          \"max_length\": 512,\n",
        "          \"learning_rate\": 1e-5,\n",
        "          \"scheduler\": 'CosineAnnealingLR',\n",
        "          \"min_lr\": 1e-6,\n",
        "          \"T_max\": 500, #スケジューラーにおける学習率の周期\n",
        "          \"weight_decay\": 1e-6,\n",
        "          \"n_fold\": 10,\n",
        "          \"n_accumulate\": 4,\n",
        "          \"num_classes\": 4,\n",
        "          \"device\": torch.device(\"cuda:0\" if torch.cuda.is_available() else \"cpu\"),\n",
        "        #   \"hash_name\": HASH_NAME,\n",
        "          \"competition\": \"Signate\",\n",
        "          \"_wandb_kernel\": \"deb\",\n",
        "          \"dropout\": 0.1,\n",
        "          \"output_name\": \"exp_049(MultiLabel)\",\n",
        "          \"pooling\": \"mean pooling\"\n",
        "          }\n",
        "\n",
        "CONFIG[\"tokenizer\"] = AutoTokenizer.from_pretrained(CONFIG['model_name'])\n",
        "CONFIG['group'] = f'{CONFIG[\"output_name\"]}'"
      ],
      "id": "0e6f5763"
    },
    {
      "cell_type": "markdown",
      "metadata": {
        "id": "AbgSMFPwEhcg"
      },
      "source": [
        "#特徴量エンジニアリング"
      ],
      "id": "AbgSMFPwEhcg"
    },
    {
      "cell_type": "code",
      "execution_count": null,
      "metadata": {
        "colab": {
          "base_uri": "https://localhost:8080/"
        },
        "id": "tnfgLGAJ0tgA",
        "outputId": "6a254006-6bbb-4989-8ede-1fa7f5e24664"
      },
      "outputs": [
        {
          "output_type": "execute_result",
          "data": {
            "text/plain": [
              "['<em>',\n",
              " '<p>',\n",
              " '<span>',\n",
              " '</ol>',\n",
              " '<li>',\n",
              " '</li>',\n",
              " '</ul>',\n",
              " '<ul>',\n",
              " '</em>',\n",
              " '</p>']"
            ]
          },
          "metadata": {},
          "execution_count": 8
        }
      ],
      "source": [
        "#htmlタグの抽出\n",
        "\n",
        "l = []\n",
        "for text in df[\"description\"]:\n",
        "    new_l = re.findall(r\"<.{0,4}>\", text)\n",
        "    l.append(new_l)\n",
        "l = list(set(sum(l, [])))\n",
        "l"
      ],
      "id": "tnfgLGAJ0tgA"
    },
    {
      "cell_type": "code",
      "execution_count": null,
      "metadata": {
        "colab": {
          "base_uri": "https://localhost:8080/"
        },
        "id": "n_NxUyBd5tsg",
        "outputId": "28dfea5e-af33-4863-9612-4633c9b34b4d"
      },
      "outputs": [
        {
          "output_type": "execute_result",
          "data": {
            "text/plain": [
              "10"
            ]
          },
          "metadata": {},
          "execution_count": 9
        }
      ],
      "source": [
        "#普通に語彙として追加してみる\n",
        "\n",
        "CONFIG[\"tokenizer\"].add_tokens(l, special_tokens=True)"
      ],
      "id": "n_NxUyBd5tsg"
    },
    {
      "cell_type": "code",
      "execution_count": null,
      "metadata": {
        "id": "h6cBHzQDEkan"
      },
      "outputs": [],
      "source": [
        "def get_over_sentence(tokenizer, train, max_length=256):\n",
        "    over_sentence = []\n",
        "    over_index = []\n",
        "    train[\"len\"]  = train[\"description\"].apply(lambda x: len(x))\n",
        "    train[\"len\"].sort_values(ascending=False)\n",
        "    over_train = train[train[\"len\"] > max_length]\n",
        "    for index, t in zip(over_train.index, over_train.description):\n",
        "        tokenized = tokenizer.encode_plus(t)\n",
        "        if len(tokenized.input_ids) > max_length:\n",
        "            s = tokenizer.decode(tokenized.input_ids[max_length:])\n",
        "            if \"<li>\" in s:\n",
        "                idx = s.find(\"<li>\")\n",
        "                s = s[idx:]\n",
        "                over_sentence.append(s)\n",
        "                over_index.append(index)\n",
        "    over_df = pd.DataFrame({\"description\": over_sentence, \"jobflag\": train.loc[over_index, \"jobflag\"]})\n",
        "\n",
        "    return over_df"
      ],
      "id": "h6cBHzQDEkan"
    },
    {
      "cell_type": "code",
      "execution_count": null,
      "metadata": {
        "id": "4T1bNQWJ-iBJ"
      },
      "outputs": [],
      "source": [
        "df[\"len\"]  = df[\"description\"].apply(lambda x: len(x))\n",
        "df[\"len\"].sort_values(ascending=False)\n",
        "df[\"len_category\"] = pd.qcut(df[\"len\"], 10, labels=[i for i in range(1, 11)])"
      ],
      "id": "4T1bNQWJ-iBJ"
    },
    {
      "cell_type": "code",
      "execution_count": null,
      "metadata": {
        "id": "oDe5aNnxElZn"
      },
      "outputs": [],
      "source": [
        "#効果なし\n",
        "# over_df = get_over_sentence(CONFIG[\"tokenizer\"], df, max_length=256)\n",
        "# df = pd.concat([over_df, df[[\"description\", \"jobflag\"]]], axis=0).reset_index()\n",
        "# df"
      ],
      "id": "oDe5aNnxElZn"
    },
    {
      "cell_type": "markdown",
      "metadata": {
        "id": "91a8e523"
      },
      "source": [
        "# <span><h1 style = \"font-family: garamond; font-size: 40px; font-style: normal; letter-spcaing: 3px; background-color: #f6f5f5; color :#fe346e; border-radius: 100px 100px; text-align:center\">Set Seed for Reproducibility</h1></span>"
      ],
      "id": "91a8e523"
    },
    {
      "cell_type": "code",
      "execution_count": null,
      "metadata": {
        "id": "ce66605b"
      },
      "outputs": [],
      "source": [
        "def set_seed(seed=42):\n",
        "    '''Sets the seed of the entire notebook so results are the same every time we run.\n",
        "    This is for REPRODUCIBILITY.'''\n",
        "    random.seed(seed)\n",
        "    np.random.seed(seed)\n",
        "    torch.manual_seed(seed)\n",
        "    torch.cuda.manual_seed(seed)\n",
        "    # When running on the CuDNN backend, two further options must be set\n",
        "    torch.backends.cudnn.deterministic = True\n",
        "    torch.backends.cudnn.benchmark = False\n",
        "    # Set a fixed value for the hash seed\n",
        "    os.environ['PYTHONHASHSEED'] = str(seed)\n",
        "    \n",
        "set_seed(CONFIG['seed'])"
      ],
      "id": "ce66605b"
    },
    {
      "cell_type": "markdown",
      "metadata": {
        "id": "c6155373"
      },
      "source": [
        "# <span><h1 style = \"font-family: garamond; font-size: 40px; font-style: normal; letter-spcaing: 3px; background-color: #f6f5f5; color :#fe346e; border-radius: 100px 100px; text-align:center\">Create Folds</h1></span>"
      ],
      "id": "c6155373"
    },
    {
      "cell_type": "markdown",
      "source": [
        "#Multi label kfold"
      ],
      "metadata": {
        "id": "IqQYFKlqpoe1"
      },
      "id": "IqQYFKlqpoe1"
    },
    {
      "cell_type": "code",
      "source": [
        "df"
      ],
      "metadata": {
        "colab": {
          "base_uri": "https://localhost:8080/",
          "height": 424
        },
        "id": "SScajcz3qMTB",
        "outputId": "30b63c90-b1d1-4014-85f2-58c7d5353041"
      },
      "id": "SScajcz3qMTB",
      "execution_count": null,
      "outputs": [
        {
          "output_type": "execute_result",
          "data": {
            "text/plain": [
              "        id                                        description  jobflag   len  \\\n",
              "0        0  <li>Develop cutting-edge web applications that...        3   867   \n",
              "1        1  <li> Designs and develops high quality, scalab...        3  1735   \n",
              "2        2  <li>Functions as a point person for Network St...        4  1448   \n",
              "3        3  <li> Work on the technical design, development...        3   632   \n",
              "4        4  <li>Quantify the resources required for a task...        4   276   \n",
              "...    ...                                                ...      ...   ...   \n",
              "1511  1511  <li>Support detailed reporting, statistical an...        1   599   \n",
              "1512  1512  <li>Collaborate with teams to support the ML t...        2   363   \n",
              "1513  1513  <li> Work with executives and other business l...        1   852   \n",
              "1514  1514  <li>Leading design ideation sessions to ensure...        3   331   \n",
              "1515  1515  <li>Detection of Issues &amp; Impact Assessmen...        1   886   \n",
              "\n",
              "     len_category  \n",
              "0               9  \n",
              "1              10  \n",
              "2              10  \n",
              "3               7  \n",
              "4               3  \n",
              "...           ...  \n",
              "1511            7  \n",
              "1512            4  \n",
              "1513            9  \n",
              "1514            4  \n",
              "1515            9  \n",
              "\n",
              "[1516 rows x 5 columns]"
            ],
            "text/html": [
              "\n",
              "  <div id=\"df-e9d118fa-0301-42ae-a63e-f54c67dcb32f\">\n",
              "    <div class=\"colab-df-container\">\n",
              "      <div>\n",
              "<style scoped>\n",
              "    .dataframe tbody tr th:only-of-type {\n",
              "        vertical-align: middle;\n",
              "    }\n",
              "\n",
              "    .dataframe tbody tr th {\n",
              "        vertical-align: top;\n",
              "    }\n",
              "\n",
              "    .dataframe thead th {\n",
              "        text-align: right;\n",
              "    }\n",
              "</style>\n",
              "<table border=\"1\" class=\"dataframe\">\n",
              "  <thead>\n",
              "    <tr style=\"text-align: right;\">\n",
              "      <th></th>\n",
              "      <th>id</th>\n",
              "      <th>description</th>\n",
              "      <th>jobflag</th>\n",
              "      <th>len</th>\n",
              "      <th>len_category</th>\n",
              "    </tr>\n",
              "  </thead>\n",
              "  <tbody>\n",
              "    <tr>\n",
              "      <th>0</th>\n",
              "      <td>0</td>\n",
              "      <td>&lt;li&gt;Develop cutting-edge web applications that...</td>\n",
              "      <td>3</td>\n",
              "      <td>867</td>\n",
              "      <td>9</td>\n",
              "    </tr>\n",
              "    <tr>\n",
              "      <th>1</th>\n",
              "      <td>1</td>\n",
              "      <td>&lt;li&gt; Designs and develops high quality, scalab...</td>\n",
              "      <td>3</td>\n",
              "      <td>1735</td>\n",
              "      <td>10</td>\n",
              "    </tr>\n",
              "    <tr>\n",
              "      <th>2</th>\n",
              "      <td>2</td>\n",
              "      <td>&lt;li&gt;Functions as a point person for Network St...</td>\n",
              "      <td>4</td>\n",
              "      <td>1448</td>\n",
              "      <td>10</td>\n",
              "    </tr>\n",
              "    <tr>\n",
              "      <th>3</th>\n",
              "      <td>3</td>\n",
              "      <td>&lt;li&gt; Work on the technical design, development...</td>\n",
              "      <td>3</td>\n",
              "      <td>632</td>\n",
              "      <td>7</td>\n",
              "    </tr>\n",
              "    <tr>\n",
              "      <th>4</th>\n",
              "      <td>4</td>\n",
              "      <td>&lt;li&gt;Quantify the resources required for a task...</td>\n",
              "      <td>4</td>\n",
              "      <td>276</td>\n",
              "      <td>3</td>\n",
              "    </tr>\n",
              "    <tr>\n",
              "      <th>...</th>\n",
              "      <td>...</td>\n",
              "      <td>...</td>\n",
              "      <td>...</td>\n",
              "      <td>...</td>\n",
              "      <td>...</td>\n",
              "    </tr>\n",
              "    <tr>\n",
              "      <th>1511</th>\n",
              "      <td>1511</td>\n",
              "      <td>&lt;li&gt;Support detailed reporting, statistical an...</td>\n",
              "      <td>1</td>\n",
              "      <td>599</td>\n",
              "      <td>7</td>\n",
              "    </tr>\n",
              "    <tr>\n",
              "      <th>1512</th>\n",
              "      <td>1512</td>\n",
              "      <td>&lt;li&gt;Collaborate with teams to support the ML t...</td>\n",
              "      <td>2</td>\n",
              "      <td>363</td>\n",
              "      <td>4</td>\n",
              "    </tr>\n",
              "    <tr>\n",
              "      <th>1513</th>\n",
              "      <td>1513</td>\n",
              "      <td>&lt;li&gt; Work with executives and other business l...</td>\n",
              "      <td>1</td>\n",
              "      <td>852</td>\n",
              "      <td>9</td>\n",
              "    </tr>\n",
              "    <tr>\n",
              "      <th>1514</th>\n",
              "      <td>1514</td>\n",
              "      <td>&lt;li&gt;Leading design ideation sessions to ensure...</td>\n",
              "      <td>3</td>\n",
              "      <td>331</td>\n",
              "      <td>4</td>\n",
              "    </tr>\n",
              "    <tr>\n",
              "      <th>1515</th>\n",
              "      <td>1515</td>\n",
              "      <td>&lt;li&gt;Detection of Issues &amp;amp; Impact Assessmen...</td>\n",
              "      <td>1</td>\n",
              "      <td>886</td>\n",
              "      <td>9</td>\n",
              "    </tr>\n",
              "  </tbody>\n",
              "</table>\n",
              "<p>1516 rows × 5 columns</p>\n",
              "</div>\n",
              "      <button class=\"colab-df-convert\" onclick=\"convertToInteractive('df-e9d118fa-0301-42ae-a63e-f54c67dcb32f')\"\n",
              "              title=\"Convert this dataframe to an interactive table.\"\n",
              "              style=\"display:none;\">\n",
              "        \n",
              "  <svg xmlns=\"http://www.w3.org/2000/svg\" height=\"24px\"viewBox=\"0 0 24 24\"\n",
              "       width=\"24px\">\n",
              "    <path d=\"M0 0h24v24H0V0z\" fill=\"none\"/>\n",
              "    <path d=\"M18.56 5.44l.94 2.06.94-2.06 2.06-.94-2.06-.94-.94-2.06-.94 2.06-2.06.94zm-11 1L8.5 8.5l.94-2.06 2.06-.94-2.06-.94L8.5 2.5l-.94 2.06-2.06.94zm10 10l.94 2.06.94-2.06 2.06-.94-2.06-.94-.94-2.06-.94 2.06-2.06.94z\"/><path d=\"M17.41 7.96l-1.37-1.37c-.4-.4-.92-.59-1.43-.59-.52 0-1.04.2-1.43.59L10.3 9.45l-7.72 7.72c-.78.78-.78 2.05 0 2.83L4 21.41c.39.39.9.59 1.41.59.51 0 1.02-.2 1.41-.59l7.78-7.78 2.81-2.81c.8-.78.8-2.07 0-2.86zM5.41 20L4 18.59l7.72-7.72 1.47 1.35L5.41 20z\"/>\n",
              "  </svg>\n",
              "      </button>\n",
              "      \n",
              "  <style>\n",
              "    .colab-df-container {\n",
              "      display:flex;\n",
              "      flex-wrap:wrap;\n",
              "      gap: 12px;\n",
              "    }\n",
              "\n",
              "    .colab-df-convert {\n",
              "      background-color: #E8F0FE;\n",
              "      border: none;\n",
              "      border-radius: 50%;\n",
              "      cursor: pointer;\n",
              "      display: none;\n",
              "      fill: #1967D2;\n",
              "      height: 32px;\n",
              "      padding: 0 0 0 0;\n",
              "      width: 32px;\n",
              "    }\n",
              "\n",
              "    .colab-df-convert:hover {\n",
              "      background-color: #E2EBFA;\n",
              "      box-shadow: 0px 1px 2px rgba(60, 64, 67, 0.3), 0px 1px 3px 1px rgba(60, 64, 67, 0.15);\n",
              "      fill: #174EA6;\n",
              "    }\n",
              "\n",
              "    [theme=dark] .colab-df-convert {\n",
              "      background-color: #3B4455;\n",
              "      fill: #D2E3FC;\n",
              "    }\n",
              "\n",
              "    [theme=dark] .colab-df-convert:hover {\n",
              "      background-color: #434B5C;\n",
              "      box-shadow: 0px 1px 3px 1px rgba(0, 0, 0, 0.15);\n",
              "      filter: drop-shadow(0px 1px 2px rgba(0, 0, 0, 0.3));\n",
              "      fill: #FFFFFF;\n",
              "    }\n",
              "  </style>\n",
              "\n",
              "      <script>\n",
              "        const buttonEl =\n",
              "          document.querySelector('#df-e9d118fa-0301-42ae-a63e-f54c67dcb32f button.colab-df-convert');\n",
              "        buttonEl.style.display =\n",
              "          google.colab.kernel.accessAllowed ? 'block' : 'none';\n",
              "\n",
              "        async function convertToInteractive(key) {\n",
              "          const element = document.querySelector('#df-e9d118fa-0301-42ae-a63e-f54c67dcb32f');\n",
              "          const dataTable =\n",
              "            await google.colab.kernel.invokeFunction('convertToInteractive',\n",
              "                                                     [key], {});\n",
              "          if (!dataTable) return;\n",
              "\n",
              "          const docLinkHtml = 'Like what you see? Visit the ' +\n",
              "            '<a target=\"_blank\" href=https://colab.research.google.com/notebooks/data_table.ipynb>data table notebook</a>'\n",
              "            + ' to learn more about interactive tables.';\n",
              "          element.innerHTML = '';\n",
              "          dataTable['output_type'] = 'display_data';\n",
              "          await google.colab.output.renderOutput(dataTable, element);\n",
              "          const docLink = document.createElement('div');\n",
              "          docLink.innerHTML = docLinkHtml;\n",
              "          element.appendChild(docLink);\n",
              "        }\n",
              "      </script>\n",
              "    </div>\n",
              "  </div>\n",
              "  "
            ]
          },
          "metadata": {},
          "execution_count": 13
        }
      ]
    },
    {
      "cell_type": "code",
      "source": [
        "#cv for pure train df\n",
        "df[\"len\"]  = df[\"description\"].apply(lambda x: len(x))\n",
        "df[\"len\"].sort_values(ascending=False)\n",
        "df[\"len_category\"] = pd.qcut(df[\"len\"], 10, labels=[i for i in range(1, 11)])\n",
        "\n",
        "df = df.astype({\"jobflag\": \"str\", \"len_category\": \"str\"})\n",
        "\n",
        "df[\"multi_label\"] = df[\"jobflag\"].str.cat(df[\"len_category\"])\n",
        "\n",
        "df = df.astype({\"jobflag\": \"int\", \"len_category\": \"int\"})\n",
        "\n",
        "\n",
        "# kf = KFold(n_splits=CONFIG[\"n_fold\"], shuffle=True, random_state=2022)\n",
        "skf = StratifiedKFold(n_splits=CONFIG[\"n_fold\"], shuffle=True, random_state=2022)\n",
        "\n",
        "for fold, ( _, val_) in enumerate(skf.split(X=df, y=df[\"multi_label\"])):\n",
        "    df.loc[val_ , \"kfold\"] = int(fold)\n",
        "    \n",
        "df[\"kfold\"] = df[\"kfold\"].astype(int)\n",
        "df.head()\n",
        "df"
      ],
      "metadata": {
        "colab": {
          "base_uri": "https://localhost:8080/",
          "height": 424
        },
        "id": "OsRr0LTplbMb",
        "outputId": "1198fd6c-7ded-494f-e243-683d3fd9786d"
      },
      "id": "OsRr0LTplbMb",
      "execution_count": null,
      "outputs": [
        {
          "output_type": "execute_result",
          "data": {
            "text/plain": [
              "        id                                        description  jobflag   len  \\\n",
              "0        0  <li>Develop cutting-edge web applications that...        3   867   \n",
              "1        1  <li> Designs and develops high quality, scalab...        3  1735   \n",
              "2        2  <li>Functions as a point person for Network St...        4  1448   \n",
              "3        3  <li> Work on the technical design, development...        3   632   \n",
              "4        4  <li>Quantify the resources required for a task...        4   276   \n",
              "...    ...                                                ...      ...   ...   \n",
              "1511  1511  <li>Support detailed reporting, statistical an...        1   599   \n",
              "1512  1512  <li>Collaborate with teams to support the ML t...        2   363   \n",
              "1513  1513  <li> Work with executives and other business l...        1   852   \n",
              "1514  1514  <li>Leading design ideation sessions to ensure...        3   331   \n",
              "1515  1515  <li>Detection of Issues &amp; Impact Assessmen...        1   886   \n",
              "\n",
              "      len_category multi_label  kfold  \n",
              "0                9          39      6  \n",
              "1               10         310      6  \n",
              "2               10         410      9  \n",
              "3                7          37      2  \n",
              "4                3          43      5  \n",
              "...            ...         ...    ...  \n",
              "1511             7          17      9  \n",
              "1512             4          24      1  \n",
              "1513             9          19      8  \n",
              "1514             4          34      1  \n",
              "1515             9          19      8  \n",
              "\n",
              "[1516 rows x 7 columns]"
            ],
            "text/html": [
              "\n",
              "  <div id=\"df-d8681ea6-581e-4574-ad51-ddb6858caa77\">\n",
              "    <div class=\"colab-df-container\">\n",
              "      <div>\n",
              "<style scoped>\n",
              "    .dataframe tbody tr th:only-of-type {\n",
              "        vertical-align: middle;\n",
              "    }\n",
              "\n",
              "    .dataframe tbody tr th {\n",
              "        vertical-align: top;\n",
              "    }\n",
              "\n",
              "    .dataframe thead th {\n",
              "        text-align: right;\n",
              "    }\n",
              "</style>\n",
              "<table border=\"1\" class=\"dataframe\">\n",
              "  <thead>\n",
              "    <tr style=\"text-align: right;\">\n",
              "      <th></th>\n",
              "      <th>id</th>\n",
              "      <th>description</th>\n",
              "      <th>jobflag</th>\n",
              "      <th>len</th>\n",
              "      <th>len_category</th>\n",
              "      <th>multi_label</th>\n",
              "      <th>kfold</th>\n",
              "    </tr>\n",
              "  </thead>\n",
              "  <tbody>\n",
              "    <tr>\n",
              "      <th>0</th>\n",
              "      <td>0</td>\n",
              "      <td>&lt;li&gt;Develop cutting-edge web applications that...</td>\n",
              "      <td>3</td>\n",
              "      <td>867</td>\n",
              "      <td>9</td>\n",
              "      <td>39</td>\n",
              "      <td>6</td>\n",
              "    </tr>\n",
              "    <tr>\n",
              "      <th>1</th>\n",
              "      <td>1</td>\n",
              "      <td>&lt;li&gt; Designs and develops high quality, scalab...</td>\n",
              "      <td>3</td>\n",
              "      <td>1735</td>\n",
              "      <td>10</td>\n",
              "      <td>310</td>\n",
              "      <td>6</td>\n",
              "    </tr>\n",
              "    <tr>\n",
              "      <th>2</th>\n",
              "      <td>2</td>\n",
              "      <td>&lt;li&gt;Functions as a point person for Network St...</td>\n",
              "      <td>4</td>\n",
              "      <td>1448</td>\n",
              "      <td>10</td>\n",
              "      <td>410</td>\n",
              "      <td>9</td>\n",
              "    </tr>\n",
              "    <tr>\n",
              "      <th>3</th>\n",
              "      <td>3</td>\n",
              "      <td>&lt;li&gt; Work on the technical design, development...</td>\n",
              "      <td>3</td>\n",
              "      <td>632</td>\n",
              "      <td>7</td>\n",
              "      <td>37</td>\n",
              "      <td>2</td>\n",
              "    </tr>\n",
              "    <tr>\n",
              "      <th>4</th>\n",
              "      <td>4</td>\n",
              "      <td>&lt;li&gt;Quantify the resources required for a task...</td>\n",
              "      <td>4</td>\n",
              "      <td>276</td>\n",
              "      <td>3</td>\n",
              "      <td>43</td>\n",
              "      <td>5</td>\n",
              "    </tr>\n",
              "    <tr>\n",
              "      <th>...</th>\n",
              "      <td>...</td>\n",
              "      <td>...</td>\n",
              "      <td>...</td>\n",
              "      <td>...</td>\n",
              "      <td>...</td>\n",
              "      <td>...</td>\n",
              "      <td>...</td>\n",
              "    </tr>\n",
              "    <tr>\n",
              "      <th>1511</th>\n",
              "      <td>1511</td>\n",
              "      <td>&lt;li&gt;Support detailed reporting, statistical an...</td>\n",
              "      <td>1</td>\n",
              "      <td>599</td>\n",
              "      <td>7</td>\n",
              "      <td>17</td>\n",
              "      <td>9</td>\n",
              "    </tr>\n",
              "    <tr>\n",
              "      <th>1512</th>\n",
              "      <td>1512</td>\n",
              "      <td>&lt;li&gt;Collaborate with teams to support the ML t...</td>\n",
              "      <td>2</td>\n",
              "      <td>363</td>\n",
              "      <td>4</td>\n",
              "      <td>24</td>\n",
              "      <td>1</td>\n",
              "    </tr>\n",
              "    <tr>\n",
              "      <th>1513</th>\n",
              "      <td>1513</td>\n",
              "      <td>&lt;li&gt; Work with executives and other business l...</td>\n",
              "      <td>1</td>\n",
              "      <td>852</td>\n",
              "      <td>9</td>\n",
              "      <td>19</td>\n",
              "      <td>8</td>\n",
              "    </tr>\n",
              "    <tr>\n",
              "      <th>1514</th>\n",
              "      <td>1514</td>\n",
              "      <td>&lt;li&gt;Leading design ideation sessions to ensure...</td>\n",
              "      <td>3</td>\n",
              "      <td>331</td>\n",
              "      <td>4</td>\n",
              "      <td>34</td>\n",
              "      <td>1</td>\n",
              "    </tr>\n",
              "    <tr>\n",
              "      <th>1515</th>\n",
              "      <td>1515</td>\n",
              "      <td>&lt;li&gt;Detection of Issues &amp;amp; Impact Assessmen...</td>\n",
              "      <td>1</td>\n",
              "      <td>886</td>\n",
              "      <td>9</td>\n",
              "      <td>19</td>\n",
              "      <td>8</td>\n",
              "    </tr>\n",
              "  </tbody>\n",
              "</table>\n",
              "<p>1516 rows × 7 columns</p>\n",
              "</div>\n",
              "      <button class=\"colab-df-convert\" onclick=\"convertToInteractive('df-d8681ea6-581e-4574-ad51-ddb6858caa77')\"\n",
              "              title=\"Convert this dataframe to an interactive table.\"\n",
              "              style=\"display:none;\">\n",
              "        \n",
              "  <svg xmlns=\"http://www.w3.org/2000/svg\" height=\"24px\"viewBox=\"0 0 24 24\"\n",
              "       width=\"24px\">\n",
              "    <path d=\"M0 0h24v24H0V0z\" fill=\"none\"/>\n",
              "    <path d=\"M18.56 5.44l.94 2.06.94-2.06 2.06-.94-2.06-.94-.94-2.06-.94 2.06-2.06.94zm-11 1L8.5 8.5l.94-2.06 2.06-.94-2.06-.94L8.5 2.5l-.94 2.06-2.06.94zm10 10l.94 2.06.94-2.06 2.06-.94-2.06-.94-.94-2.06-.94 2.06-2.06.94z\"/><path d=\"M17.41 7.96l-1.37-1.37c-.4-.4-.92-.59-1.43-.59-.52 0-1.04.2-1.43.59L10.3 9.45l-7.72 7.72c-.78.78-.78 2.05 0 2.83L4 21.41c.39.39.9.59 1.41.59.51 0 1.02-.2 1.41-.59l7.78-7.78 2.81-2.81c.8-.78.8-2.07 0-2.86zM5.41 20L4 18.59l7.72-7.72 1.47 1.35L5.41 20z\"/>\n",
              "  </svg>\n",
              "      </button>\n",
              "      \n",
              "  <style>\n",
              "    .colab-df-container {\n",
              "      display:flex;\n",
              "      flex-wrap:wrap;\n",
              "      gap: 12px;\n",
              "    }\n",
              "\n",
              "    .colab-df-convert {\n",
              "      background-color: #E8F0FE;\n",
              "      border: none;\n",
              "      border-radius: 50%;\n",
              "      cursor: pointer;\n",
              "      display: none;\n",
              "      fill: #1967D2;\n",
              "      height: 32px;\n",
              "      padding: 0 0 0 0;\n",
              "      width: 32px;\n",
              "    }\n",
              "\n",
              "    .colab-df-convert:hover {\n",
              "      background-color: #E2EBFA;\n",
              "      box-shadow: 0px 1px 2px rgba(60, 64, 67, 0.3), 0px 1px 3px 1px rgba(60, 64, 67, 0.15);\n",
              "      fill: #174EA6;\n",
              "    }\n",
              "\n",
              "    [theme=dark] .colab-df-convert {\n",
              "      background-color: #3B4455;\n",
              "      fill: #D2E3FC;\n",
              "    }\n",
              "\n",
              "    [theme=dark] .colab-df-convert:hover {\n",
              "      background-color: #434B5C;\n",
              "      box-shadow: 0px 1px 3px 1px rgba(0, 0, 0, 0.15);\n",
              "      filter: drop-shadow(0px 1px 2px rgba(0, 0, 0, 0.3));\n",
              "      fill: #FFFFFF;\n",
              "    }\n",
              "  </style>\n",
              "\n",
              "      <script>\n",
              "        const buttonEl =\n",
              "          document.querySelector('#df-d8681ea6-581e-4574-ad51-ddb6858caa77 button.colab-df-convert');\n",
              "        buttonEl.style.display =\n",
              "          google.colab.kernel.accessAllowed ? 'block' : 'none';\n",
              "\n",
              "        async function convertToInteractive(key) {\n",
              "          const element = document.querySelector('#df-d8681ea6-581e-4574-ad51-ddb6858caa77');\n",
              "          const dataTable =\n",
              "            await google.colab.kernel.invokeFunction('convertToInteractive',\n",
              "                                                     [key], {});\n",
              "          if (!dataTable) return;\n",
              "\n",
              "          const docLinkHtml = 'Like what you see? Visit the ' +\n",
              "            '<a target=\"_blank\" href=https://colab.research.google.com/notebooks/data_table.ipynb>data table notebook</a>'\n",
              "            + ' to learn more about interactive tables.';\n",
              "          element.innerHTML = '';\n",
              "          dataTable['output_type'] = 'display_data';\n",
              "          await google.colab.output.renderOutput(dataTable, element);\n",
              "          const docLink = document.createElement('div');\n",
              "          docLink.innerHTML = docLinkHtml;\n",
              "          element.appendChild(docLink);\n",
              "        }\n",
              "      </script>\n",
              "    </div>\n",
              "  </div>\n",
              "  "
            ]
          },
          "metadata": {},
          "execution_count": 14
        }
      ]
    },
    {
      "cell_type": "code",
      "source": [
        "#疑似ラベリングは効果なし\n",
        "# #cv for pseudo labeling df\n",
        "# pl_df[\"len\"]  = pl_df[\"description\"].apply(lambda x: len(x))\n",
        "# pl_df[\"len\"].sort_values(ascending=False)\n",
        "# pl_df[\"len_category\"] = pd.qcut(pl_df[\"len\"], 10, labels=[i for i in range(1, 11)])\n",
        "\n",
        "# pl_df = pl_df.astype({\"jobflag\": \"str\", \"len_category\": \"str\"})\n",
        "\n",
        "# pl_df[\"multi_label\"] = pl_df[\"jobflag\"].str.cat(pl_df[\"len_category\"])\n",
        "\n",
        "# pl_df = pl_df.astype({\"jobflag\": \"int\", \"len_category\": \"int\"})\n",
        "\n",
        "\n",
        "# # kf = KFold(n_splits=CONFIG[\"n_fold\"], shuffle=True, random_state=2022)\n",
        "# skf = StratifiedKFold(n_splits=CONFIG[\"n_fold\"], shuffle=True, random_state=2022)\n",
        "\n",
        "# for fold, ( _, val_) in enumerate(skf.split(X=pl_df, y=pl_df[\"multi_label\"])):\n",
        "#     pl_df.loc[val_ , \"kfold\"] = int(fold)\n",
        "    \n",
        "# pl_df[\"kfold\"] = pl_df[\"kfold\"].astype(int)\n",
        "# pl_df.head()\n",
        "# pl_df"
      ],
      "metadata": {
        "id": "7JzYLwJW0ZVv"
      },
      "id": "7JzYLwJW0ZVv",
      "execution_count": null,
      "outputs": []
    },
    {
      "cell_type": "markdown",
      "source": [
        "#Stratified Kfold\n",
        "\n",
        "\n"
      ],
      "metadata": {
        "id": "vacAvv-7prlB"
      },
      "id": "vacAvv-7prlB"
    },
    {
      "cell_type": "code",
      "execution_count": null,
      "metadata": {
        "id": "78fbb491"
      },
      "outputs": [],
      "source": [
        "# kf = KFold(n_splits=CONFIG[\"n_fold\"], shuffle=True, random_state=2022)\n",
        "# skf = StratifiedKFold(n_splits=CONFIG[\"n_fold\"], shuffle=True, random_state=2022)\n",
        "\n",
        "# for fold, ( _, val_) in enumerate(skf.split(X=df, y=df[\"jobflag\"])):\n",
        "#     df.loc[val_ , \"kfold\"] = int(fold)\n",
        "    \n",
        "# df[\"kfold\"] = df[\"kfold\"].astype(int)\n",
        "# df.head()"
      ],
      "id": "78fbb491"
    },
    {
      "cell_type": "code",
      "execution_count": null,
      "metadata": {
        "colab": {
          "base_uri": "https://localhost:8080/"
        },
        "id": "dS3vh33KxGWJ",
        "outputId": "4565ee86-b472-4679-cbc2-c21d864e1737"
      },
      "outputs": [
        {
          "output_type": "execute_result",
          "data": {
            "text/plain": [
              "0       [Develop cutting-edge web applications that pe...\n",
              "1       [ Designs and develops high quality, scalable ...\n",
              "2       [Functions as a point person for Network Strat...\n",
              "3       [ Work on the technical design, development, r...\n",
              "4       [Quantify the resources required for a task/pr...\n",
              "                              ...                        \n",
              "1511    [Support detailed reporting, statistical analy...\n",
              "1512    [Collaborate with teams to support the ML tech...\n",
              "1513    [ Work with executives and other business lead...\n",
              "1514    [Leading design ideation sessions to ensure we...\n",
              "1515    [Detection of Issues &amp; Impact Assessments ...\n",
              "Name: split, Length: 1516, dtype: object"
            ]
          },
          "metadata": {},
          "execution_count": 17
        }
      ],
      "source": [
        "###data augmentation###は下に移動しました。\n",
        "\n",
        "def get_split(x):\n",
        "    return list(filter(None, re.split(r\"<.{1,4}>\", x)))\n",
        "\n",
        "df[\"split\"] = df[\"description\"].apply(get_split)\n",
        "df[\"split\"]"
      ],
      "id": "dS3vh33KxGWJ"
    },
    {
      "cell_type": "code",
      "execution_count": null,
      "metadata": {
        "colab": {
          "base_uri": "https://localhost:8080/",
          "height": 122
        },
        "id": "0zSVFkMZOL4P",
        "outputId": "97087c99-0623-4e0d-e70e-32941aa08706"
      },
      "outputs": [
        {
          "output_type": "execute_result",
          "data": {
            "text/plain": [
              "'<li>Collaborates with internal stakeholders (e.g., Solution Architect, Account Delivery Executive, Pursuit Lead, Sales Solution Specialist) in the pre-sale process by understanding business requirements and providing industry and technical input and/or solution offerings to help shape the deal. Supports drafting proposals and/or statement of work (SOW). </li><li>Provides input on staffing and skill requirements for delivery to Resource Deployment, Technical Delivery Managers (TDMs), and/or Project Managers. </li></ul>Technical Delivery<ul><li>Follows capacity process outlined by Global Capacity Management team. Maintains tools with up-to-date skills and availability. </li><li>Leads meetings with customers/partners to understand business needs. Uses business, industry and technology strategies to map customer/partner requirements to the adoption and optimization of Microsoft technology solutions. Engages others appropriately to understand and define customer requirements. </li><li>Participates in project planning and develops project documents by identifying the risks and dependencies. Communicates the business value of planned solutions to customers/ partners. Identifies technical and business risks in programs and proposes mitigations. Assists project managers/architects in preparing for steering committee (e.g., developing artifacts). Manages their schedule and communicates to project leads. Generates and delivers Work Breakdown Structure (WBS). </li><li>Implements solutions and may provide oversight and leadership on workstreams across domains while adhering to Microsoft Services processes. Aligns solutions with the intent of the architecture. </li><li>Manages escalations, analyzes situations, and coordinates appropriate resources to resolve issues by following delivery practices, considering cost implications, and engaging in conversations with internal and external stakeholders (e.g., Customer Service and Support, Project Manager, Solution Architect, Product Group) as needed. </li><li>Acts as an ambassador in consumption of intellectual property (IP) by leveraging and/or modifying existing IP or creating repeatable content where applicable. Provides feedback on Managed IP for continuous improvement, reports IP gaps, reviews IP to be considered for harvesting and curation and ensures it is logged for consumption. Improves Managed Standard Offerings (MSO) quality and collaborates with portfolio and solution teams of the domain by providing feedback. </li></ul>Business Development<ul><li>Identifies opportunities to expand or accelerate the adoption and consumption of the cloud and Microsoft technologies. As appropriate, facilitates other team members to scale the business with existing customers by articulating value propositions of strategic Microsoft products and services and developing new offerings for the domain. Drives innovation and digital transformation. Ensures the use of existing intellectual property (IP). </li></ul>Readiness<ul><li>Learns new technologies or services based on business demands and industry trends. Obtains relevant accreditations and certification(s) as advised by domain leadership team. Identifies certifications and readiness plans in partnership with domain Chief Technology Officer (CTO). Leads or participates in relevant technical communities and conducts training sessions to evangelize technology and/or offerings based on availability. Mentors team members and acts as a technical advisor for stakeholders by providing thought leadership, articulation of solutions value, and outcomes of business strategies. </li></ul>Operational Excellence<ul><li>Completes operational tasks and readiness and ensures timeliness and accuracy. Follows Microsoft policies, compliance, and procedures (e.g., Enterprise Services Authorization Policy, Standards of Business Conduct, labor logging, expenses, travel guidelines). Leads as example and guides team members on operational tasks, readiness, and compliance. </li></ul>'"
            ],
            "application/vnd.google.colaboratory.intrinsic+json": {
              "type": "string"
            }
          },
          "metadata": {},
          "execution_count": 27
        }
      ],
      "source": [
        "df.loc[378, \"description\"]"
      ],
      "id": "0zSVFkMZOL4P"
    },
    {
      "cell_type": "code",
      "execution_count": null,
      "metadata": {
        "id": "qtH60SAt-7xj"
      },
      "outputs": [],
      "source": [
        "# df[\"description\"] = df[\"description\"].str[4:].str.strip()\n",
        "# df[\"description\"] = df[\"description\"].str.replace(\"<..>\", \"\")\n",
        "# df[\"description\"] = df[\"description\"].str.replace(\"<...>\", \"\")\n",
        "\n",
        "# df[\"description\"]"
      ],
      "id": "qtH60SAt-7xj"
    },
    {
      "cell_type": "markdown",
      "metadata": {
        "id": "TfMBtbmPxEse"
      },
      "source": [
        "#Create Weights\n"
      ],
      "id": "TfMBtbmPxEse"
    },
    {
      "cell_type": "code",
      "execution_count": null,
      "metadata": {
        "id": "IVzad4EHxH8i",
        "colab": {
          "base_uri": "https://localhost:8080/"
        },
        "outputId": "84bb0860-55b0-4f38-fbd4-5a021bbf1d0a"
      },
      "outputs": [
        {
          "output_type": "execute_result",
          "data": {
            "text/plain": [
              "array([0.80982906, 4.30681818, 0.83296703, 0.75049505])"
            ]
          },
          "metadata": {},
          "execution_count": 18
        }
      ],
      "source": [
        "weights = compute_class_weight(class_weight=\"balanced\", classes=[1, 2, 3, 4], y=df[\"jobflag\"])\n",
        "weights"
      ],
      "id": "IVzad4EHxH8i"
    },
    {
      "cell_type": "markdown",
      "metadata": {
        "id": "dfd92b1a"
      },
      "source": [
        "# <span><h1 style = \"font-family: garamond; font-size: 40px; font-style: normal; letter-spcaing: 3px; background-color: #f6f5f5; color :#fe346e; border-radius: 100px 100px; text-align:center\">Dataset Class</h1></span>"
      ],
      "id": "dfd92b1a"
    },
    {
      "cell_type": "code",
      "execution_count": null,
      "metadata": {
        "id": "53262d37"
      },
      "outputs": [],
      "source": [
        "class SignateDataset(Dataset):\n",
        "    def __init__(self, df, tokenizer, max_length):\n",
        "        self.df = df\n",
        "        self.max_len = max_length\n",
        "        self.tokenizer = tokenizer\n",
        "        self.description = df[\"description\"].values\n",
        "        self.targets = df['jobflag'].values\n",
        "        \n",
        "    def __len__(self):\n",
        "        return len(self.df)\n",
        "    \n",
        "    def __getitem__(self, index):\n",
        "        description = self.description[index]\n",
        "        inputs = self.tokenizer.encode_plus(\n",
        "                        description,\n",
        "                        truncation=True,\n",
        "                        add_special_tokens=True,\n",
        "                        max_length=self.max_len\n",
        "                    )\n",
        "        \n",
        "        return {\n",
        "            'input_ids': inputs['input_ids'],\n",
        "            'attention_mask': inputs['attention_mask'],\n",
        "            'target': self.targets[index]\n",
        "        }"
      ],
      "id": "53262d37"
    },
    {
      "cell_type": "code",
      "execution_count": null,
      "metadata": {
        "id": "5ddf6853"
      },
      "outputs": [],
      "source": [
        "collate_fn = DataCollatorWithPadding(tokenizer=CONFIG['tokenizer'])"
      ],
      "id": "5ddf6853"
    },
    {
      "cell_type": "markdown",
      "metadata": {
        "id": "40c6008c"
      },
      "source": [
        "# <span><h1 style = \"font-family: garamond; font-size: 40px; font-style: normal; letter-spcaing: 3px; background-color: #f6f5f5; color :#fe346e; border-radius: 100px 100px; text-align:center\">Create Model</h1></span>"
      ],
      "id": "40c6008c"
    },
    {
      "cell_type": "code",
      "execution_count": null,
      "metadata": {
        "id": "3cfc39d2"
      },
      "outputs": [],
      "source": [
        "class MeanPooling(nn.Module):\n",
        "    def __init__(self):\n",
        "        super(MeanPooling, self).__init__()\n",
        "        \n",
        "    def forward(self, last_hidden_state, attention_mask):\n",
        "        input_mask_expanded = attention_mask.unsqueeze(-1).expand(last_hidden_state.size()).float()\n",
        "        sum_embeddings = torch.sum(last_hidden_state * input_mask_expanded, 1)\n",
        "        sum_mask = input_mask_expanded.sum(1)\n",
        "        sum_mask = torch.clamp(sum_mask, min=1e-9)\n",
        "        mean_embeddings = sum_embeddings / sum_mask\n",
        "        return mean_embeddings"
      ],
      "id": "3cfc39d2"
    },
    {
      "cell_type": "code",
      "execution_count": null,
      "metadata": {
        "id": "39984a2d"
      },
      "outputs": [],
      "source": [
        "class SignateModel(nn.Module):\n",
        "    def __init__(self, model_name, dropout):\n",
        "        super(SignateModel, self).__init__()\n",
        "        self.model = AutoModel.from_pretrained(model_name)\n",
        "        self.config = AutoConfig.from_pretrained(model_name)\n",
        "        self.drop = nn.Dropout(p=dropout)\n",
        "        self.pooler = MeanPooling()\n",
        "        self.fc = nn.Linear(self.config.hidden_size, 4)        \n",
        "        \n",
        "    def forward(self, ids, mask):        \n",
        "        out = self.model(input_ids=ids,attention_mask=mask,\n",
        "                         output_hidden_states=False)\n",
        "        out = self.pooler(out.last_hidden_state, mask)\n",
        "        out = self.drop(out)\n",
        "        outputs = self.fc(out)\n",
        "        return outputs"
      ],
      "id": "39984a2d"
    },
    {
      "cell_type": "markdown",
      "metadata": {
        "id": "faeff787"
      },
      "source": [
        "# <span><h1 style = \"font-family: garamond; font-size: 40px; font-style: normal; letter-spcaing: 3px; background-color: #f6f5f5; color :#fe346e; border-radius: 100px 100px; text-align:center\">Loss Function</h1></span>"
      ],
      "id": "faeff787"
    },
    {
      "cell_type": "code",
      "execution_count": null,
      "metadata": {
        "id": "6dba6634"
      },
      "outputs": [],
      "source": [
        "def criterion(outputs, labels, device):\n",
        "    return nn.CrossEntropyLoss(weight=torch.Tensor(weights).to(device))(outputs, labels - 1)"
      ],
      "id": "6dba6634"
    },
    {
      "cell_type": "markdown",
      "metadata": {
        "id": "48a7f3de"
      },
      "source": [
        "# <span><h1 style = \"font-family: garamond; font-size: 40px; font-style: normal; letter-spcaing: 3px; background-color: #f6f5f5; color :#fe346e; border-radius: 100px 100px; text-align:center\">Training Function</h1></span>"
      ],
      "id": "48a7f3de"
    },
    {
      "cell_type": "code",
      "execution_count": null,
      "metadata": {
        "id": "1ab9a499"
      },
      "outputs": [],
      "source": [
        "def train_one_epoch(model, optimizer, scheduler, dataloader, device, epoch):\n",
        "    model.train()\n",
        "    \n",
        "    dataset_size = 0\n",
        "    running_loss = 0.0\n",
        "    \n",
        "    bar = tqdm(enumerate(dataloader), total=len(dataloader))\n",
        "    for step, data in bar:\n",
        "        ids = data['input_ids'].to(device, dtype = torch.long)\n",
        "        mask = data['attention_mask'].to(device, dtype = torch.long)\n",
        "        targets = data['target'].to(device, dtype=torch.long)\n",
        "        \n",
        "        batch_size = ids.size(0)\n",
        "\n",
        "        outputs = model(ids, mask)\n",
        "        \n",
        "        loss = criterion(outputs, targets, device)\n",
        "        loss = loss / CONFIG['n_accumulate']\n",
        "        loss.backward()\n",
        "    \n",
        "        if (step + 1) % CONFIG['n_accumulate'] == 0:\n",
        "            optimizer.step()\n",
        "\n",
        "            # zero the parameter gradients\n",
        "            optimizer.zero_grad()\n",
        "\n",
        "            if scheduler is not None:\n",
        "                scheduler.step()\n",
        "                \n",
        "        running_loss += (loss.item() * batch_size)\n",
        "        dataset_size += batch_size\n",
        "        \n",
        "        epoch_loss = running_loss / dataset_size\n",
        "        \n",
        "        bar.set_postfix(Epoch=epoch, Train_Loss=epoch_loss,\n",
        "                        LR=optimizer.param_groups[0]['lr'])\n",
        "    gc.collect()\n",
        "    \n",
        "    return epoch_loss"
      ],
      "id": "1ab9a499"
    },
    {
      "cell_type": "markdown",
      "metadata": {
        "id": "27a16f5b"
      },
      "source": [
        "# <span><h1 style = \"font-family: garamond; font-size: 40px; font-style: normal; letter-spcaing: 3px; background-color: #f6f5f5; color :#fe346e; border-radius: 100px 100px; text-align:center\">Validation Function</h1></span>"
      ],
      "id": "27a16f5b"
    },
    {
      "cell_type": "code",
      "execution_count": null,
      "metadata": {
        "id": "037d6962"
      },
      "outputs": [],
      "source": [
        "@torch.no_grad()\n",
        "def valid_one_epoch(model, dataloader, device, epoch):\n",
        "    output_list = []\n",
        "    target_list = []\n",
        "    model.eval()\n",
        "    \n",
        "    dataset_size = 0\n",
        "    running_loss = 0.0\n",
        "    \n",
        "    bar = tqdm(enumerate(dataloader), total=len(dataloader))\n",
        "    for step, data in bar:        \n",
        "        ids = data['input_ids'].to(device, dtype = torch.long)\n",
        "        mask = data['attention_mask'].to(device, dtype = torch.long)\n",
        "        targets = data['target'].to(device, dtype=torch.long)\n",
        "        \n",
        "        batch_size = ids.size(0)\n",
        "\n",
        "        outputs = model(ids, mask)\n",
        "        \n",
        "        loss = criterion(outputs, targets, device)\n",
        "        # print(outputs, outputs.shape)\n",
        "        # print(targets, targets.shape)\n",
        "        # f1_macro = f1_score(torch.argmax(outputs, dim=1).cpu().detach().numpy(), (targets-1).cpu().detach().numpy(), average=\"macro\")\n",
        "        # print(\"F1_macro: \", f1_macro)\n",
        "        output_list.append(torch.argmax(outputs, dim=1).cpu().detach().numpy().tolist())\n",
        "        target_list.append((targets.cpu().detach().numpy()-1).tolist())\n",
        "\n",
        "        running_loss += (loss.item() * batch_size)\n",
        "        dataset_size += batch_size\n",
        "        \n",
        "        epoch_loss = running_loss / dataset_size\n",
        "        \n",
        "        bar.set_postfix(Epoch=epoch, Valid_Loss=epoch_loss,\n",
        "                        LR=optimizer.param_groups[0]['lr'])\n",
        "\n",
        "    #appendしたoutputとtargetを１次元化する\n",
        "    output_list = sum(output_list, [])\n",
        "    target_list = sum(target_list, [])\n",
        "    f1_macro = f1_score(output_list, target_list, average=\"macro\")\n",
        "    \n",
        "    gc.collect()\n",
        "    \n",
        "    return epoch_loss, f1_macro"
      ],
      "id": "037d6962"
    },
    {
      "cell_type": "markdown",
      "metadata": {
        "id": "41bdc2c6"
      },
      "source": [
        "# <span><h1 style = \"font-family: garamond; font-size: 40px; font-style: normal; letter-spcaing: 3px; background-color: #f6f5f5; color :#fe346e; border-radius: 100px 100px; text-align:center\">Run Training</h1></span>"
      ],
      "id": "41bdc2c6"
    },
    {
      "cell_type": "code",
      "execution_count": null,
      "metadata": {
        "id": "2d584bdc"
      },
      "outputs": [],
      "source": [
        "def run_training(model, optimizer, scheduler, device, num_epochs, fold):\n",
        "    # To automatically log gradients\n",
        "    wandb.watch(model, log_freq=100)\n",
        "    \n",
        "    if torch.cuda.is_available():\n",
        "        print(\"[INFO] Using GPU: {}\\n\".format(torch.cuda.get_device_name()))\n",
        "\n",
        "    path = f\"/content/drive/MyDrive/kaggle/StudentCup/model/{CONFIG['output_name']}\"\n",
        "    if not os.path.exists(path):\n",
        "        os.mkdir(path)\n",
        "    elif not [f for f in os.listdir(path) if not f.startswith(\".\")]:\n",
        "        pass\n",
        "    # else:\n",
        "    #     raise ValueError(\"既にそのフォルダあるよ\")\n",
        "    \n",
        "    start = time.time()\n",
        "    best_model_wts = copy.deepcopy(model.state_dict())\n",
        "    best_epoch_loss = np.inf\n",
        "    best_epoch_f1 = -np.inf\n",
        "    history = defaultdict(list)\n",
        "\n",
        "\n",
        "    for epoch in range(1, num_epochs + 1): \n",
        "        gc.collect()\n",
        "        train_epoch_loss = train_one_epoch(model, optimizer, scheduler, \n",
        "                                           dataloader=train_loader, \n",
        "                                           device=CONFIG['device'], epoch=epoch)\n",
        "        \n",
        "        val_epoch_loss, f1 = valid_one_epoch(model, valid_loader, device=CONFIG['device'], \n",
        "                                         epoch=epoch)\n",
        "        \n",
        "    \n",
        "        history['Train Loss'].append(train_epoch_loss)\n",
        "        history['Valid Loss'].append(val_epoch_loss)\n",
        "        \n",
        "        # Log the metrics\n",
        "        wandb.log({\"Train Loss\": train_epoch_loss})\n",
        "        wandb.log({\"Valid Loss\": val_epoch_loss})\n",
        "        wandb.log({\"F1-macro\": f1})\n",
        "        \n",
        "        # deep copy the model\n",
        "        if val_epoch_loss <= best_epoch_loss:\n",
        "            print(f\"{b_}Validation Loss Improved ({best_epoch_loss} ---> {val_epoch_loss})\")\n",
        "            best_epoch_loss = val_epoch_loss\n",
        "            f1_macro = f1\n",
        "            run.summary[\"Best Loss\"] = best_epoch_loss\n",
        "            best_model_wts = copy.deepcopy(model.state_dict())\n",
        "            PATH = f\"/content/drive/MyDrive/kaggle/StudentCup/model/{CONFIG['output_name']}/Loss-Fold-{fold}.bin\"\n",
        "\n",
        "            torch.save(model.state_dict(), PATH)\n",
        "            # Save a model file from the current directory\n",
        "            print(f\"Model Saved{sr_}\")\n",
        "\n",
        "################################################\n",
        "#損失関数に関わらず、F1スコアが上がればモデルを保存する\n",
        "        if f1 >= best_epoch_f1:\n",
        "            best_epoch_f1 = f1\n",
        "            print(f\"{b_}F1-score Improved({best_epoch_f1})\")\n",
        "            best_model_wts = copy.deepcopy(model.state_dict())\n",
        "            PATH = f\"/content/drive/MyDrive/kaggle/StudentCup/model/{CONFIG['output_name']}/BestF1Model/Loss-Fold-{fold}.bin\"\n",
        "            DIR = f\"/content/drive/MyDrive/kaggle/StudentCup/model/{CONFIG['output_name']}/BestF1Model\"\n",
        "\n",
        "            if not os.path.exists(DIR):\n",
        "                os.mkdir(DIR)\n",
        "\n",
        "            torch.save(model.state_dict(), PATH)\n",
        "            # Save a model file from the current directory\n",
        "            print(f\"Model Saved{sr_}\")\n",
        "################################################\n",
        "\n",
        "\n",
        "            \n",
        "        print(f\"Epoch {epoch} f1_score: \", f1)\n",
        "    \n",
        "    end = time.time()\n",
        "    time_elapsed = end - start\n",
        "    print('Training complete in {:.0f}h {:.0f}m {:.0f}s'.format(\n",
        "        time_elapsed // 3600, (time_elapsed % 3600) // 60, (time_elapsed % 3600) % 60))\n",
        "    print(\"Best Loss: {:.4f}\".format(best_epoch_loss))\n",
        "    print(\"Best F1: {:.4f}\".format(best_epoch_f1))\n",
        "    \n",
        "    # load best model weights\n",
        "    model.load_state_dict(best_model_wts)\n",
        "    \n",
        "    return model, history, f1_macro, best_epoch_f1"
      ],
      "id": "2d584bdc"
    },
    {
      "cell_type": "code",
      "execution_count": null,
      "metadata": {
        "id": "686238ec"
      },
      "outputs": [],
      "source": [
        "def prepare_loaders(fold):\n",
        "    df_train = df[df.kfold != fold].reset_index(drop=True)\n",
        "    df_valid = df[df.kfold == fold].reset_index(drop=True)\n",
        "    # df_pl = pl_df[pl_df.kfold != fold].reset_index(drop=True)\n",
        "\n",
        "####df_trainだけdata augmentation############################################\n",
        "\n",
        "    n_sample = 1 #sampleする数\n",
        "\n",
        "    for texts, flag, fold in zip(df_train[\"split\"], df_train[\"jobflag\"], df_train[\"kfold\"]):\n",
        "        if len(texts) > n_sample:\n",
        "            texts.remove(random.choice(texts))\n",
        "            # texts = list(set(texts) - set(random.sample(texts, n_sample)))\n",
        "        # random.shuffle(texts)\n",
        "        des = []\n",
        "        for text in texts:\n",
        "            text = \"<li>\"+text+\"</li>\"\n",
        "            des.append(text)\n",
        "        texts = \"\".join(des)\n",
        "        df_train = df_train.append({\"description\": texts, \"jobflag\": flag, \"kfold\": fold}, ignore_index=True)\n",
        "\n",
        "    \n",
        "    # df_train = pd.concat([df_train, df_pl], axis=0) #pseudo labelをtrainデータに結合\n",
        "    train_dataset = SignateDataset(df_train, tokenizer=CONFIG['tokenizer'], max_length=CONFIG['max_length'])\n",
        "    valid_dataset = SignateDataset(df_valid, tokenizer=CONFIG['tokenizer'], max_length=CONFIG['max_length'])\n",
        "\n",
        "    train_loader = DataLoader(train_dataset, batch_size=CONFIG['train_batch_size'], collate_fn=collate_fn, \n",
        "                              num_workers=2, shuffle=True, pin_memory=True, drop_last=True)\n",
        "    valid_loader = DataLoader(valid_dataset, batch_size=CONFIG['valid_batch_size'], collate_fn=collate_fn,\n",
        "                              num_workers=2, shuffle=False, pin_memory=True)\n",
        "    \n",
        "    return train_loader, valid_loader"
      ],
      "id": "686238ec"
    },
    {
      "cell_type": "code",
      "execution_count": null,
      "metadata": {
        "id": "6b656405"
      },
      "outputs": [],
      "source": [
        "def fetch_scheduler(optimizer):\n",
        "    if CONFIG['scheduler'] == 'CosineAnnealingLR':\n",
        "        scheduler = lr_scheduler.CosineAnnealingLR(optimizer,T_max=CONFIG['T_max'], \n",
        "                                                   eta_min=CONFIG['min_lr'])\n",
        "    elif CONFIG['scheduler'] == 'CosineAnnealingWarmRestarts':\n",
        "        scheduler = lr_scheduler.CosineAnnealingWarmRestarts(optimizer,T_0=CONFIG['T_0'], \n",
        "                                                             eta_min=CONFIG['min_lr'])\n",
        "    elif CONFIG['scheduler'] == None:\n",
        "        return None\n",
        "        \n",
        "    return scheduler"
      ],
      "id": "6b656405"
    },
    {
      "cell_type": "markdown",
      "metadata": {
        "id": "0ae14a83"
      },
      "source": [
        "<span style=\"color: #000508; font-family: Segoe UI; font-size: 1.5em; font-weight: 300;\">Start Training</span>"
      ],
      "id": "0ae14a83"
    },
    {
      "cell_type": "code",
      "source": [
        "if torch.cuda.is_available:\n",
        "  print('GPU available')\n",
        "else:\n",
        "  print('Please set GPU via Edit -> Notebook Settings.')"
      ],
      "metadata": {
        "colab": {
          "base_uri": "https://localhost:8080/"
        },
        "id": "EMC202F8qjJp",
        "outputId": "5de49d4d-3864-492f-faea-a2c238dcfc57"
      },
      "id": "EMC202F8qjJp",
      "execution_count": null,
      "outputs": [
        {
          "output_type": "stream",
          "name": "stdout",
          "text": [
            "GPU available\n"
          ]
        }
      ]
    },
    {
      "cell_type": "code",
      "execution_count": null,
      "metadata": {
        "id": "87e4f8d3"
      },
      "outputs": [],
      "source": [
        "f1_average = []\n",
        "best_f1_average = []\n",
        "for fold in range(0, CONFIG['n_fold']):\n",
        "    print(f\"{y_}====== Fold: {fold} ======{sr_}\")\n",
        "    run = wandb.init(project='Signate', \n",
        "                     config=CONFIG,\n",
        "                     job_type='Train',\n",
        "                     group=CONFIG['group'],\n",
        "                     tags=[CONFIG['model_name'], f'{CONFIG[\"output_name\"]}'],\n",
        "                     name=f'{CONFIG[\"output_name\"]}-fold-{fold}',\n",
        "                     anonymous='must')\n",
        "    \n",
        "    # Create Dataloaders\n",
        "    train_loader, valid_loader = prepare_loaders(fold=fold)\n",
        "    \n",
        "    model = SignateModel(CONFIG['model_name'], CONFIG[\"dropout\"])\n",
        "    model.to(CONFIG['device'])\n",
        "    \n",
        "    # Define Optimizer and Scheduler\n",
        "    optimizer = AdamW(model.parameters(), lr=CONFIG['learning_rate'], weight_decay=CONFIG['weight_decay'])\n",
        "    scheduler = fetch_scheduler(optimizer)\n",
        "    \n",
        "    model, history, best_f1_fold, best_epoch_f1 = run_training(model, optimizer, scheduler,\n",
        "                                  device=CONFIG['device'],\n",
        "                                  num_epochs=CONFIG['epochs'],\n",
        "                                  fold=fold)\n",
        "    \n",
        "    print(\"F1-macro: \", best_f1_fold)\n",
        "    f1_average.append(best_f1_fold)\n",
        "    best_f1_average.append(best_epoch_f1)\n",
        "    if fold == CONFIG[\"n_fold\"] - 1:\n",
        "        f1_cv = sum(f1_average) / CONFIG[\"n_fold\"]\n",
        "        best_f1_cv = sum(best_f1_average) / CONFIG[\"n_fold\"]\n",
        "        run.summary[\"CV\"] = f1_cv\n",
        "        run.summary[\"BestF1CV\"] = best_f1_cv\n",
        "    run.finish()\n",
        "    \n",
        "    del model, history, train_loader, valid_loader\n",
        "    _ = gc.collect()\n",
        "    print()\n",
        "\n",
        "\n",
        "print(f\"CV: {f1_cv:5f}\")\n",
        "print(f\"Best f1 CV: {best_f1_cv:5f}\")"
      ],
      "id": "87e4f8d3"
    },
    {
      "cell_type": "code",
      "execution_count": null,
      "metadata": {
        "id": "b4c308c6"
      },
      "outputs": [],
      "source": [
        "url = f\"https://wandb.ai/ando0718/Signate/groups/{CONFIG['group']}/\"\n",
        "\n",
        "# This is just to display the W&B run page in this interactive session.\n",
        "from IPython import display\n",
        "\n",
        "# we create an IFrame and set the width and height\n",
        "# iF = display.IFrame(url, width=1080, height=720)\n",
        "iF = display.IFrame(url, width=1500, height=600)\n",
        "\n",
        "iF"
      ],
      "id": "b4c308c6"
    }
  ],
  "metadata": {
    "accelerator": "GPU",
    "colab": {
      "machine_shape": "hm",
      "provenance": []
    },
    "gpuClass": "standard",
    "kernelspec": {
      "display_name": "Python 3",
      "language": "python",
      "name": "python3"
    },
    "language_info": {
      "codemirror_mode": {
        "name": "ipython",
        "version": 3
      },
      "file_extension": ".py",
      "mimetype": "text/x-python",
      "name": "python",
      "nbconvert_exporter": "python",
      "pygments_lexer": "ipython3",
      "version": "3.7.12"
    },
    "papermill": {
      "default_parameters": {},
      "duration": 25372.109482,
      "end_time": "2022-06-01T21:02:51.634429",
      "environment_variables": {},
      "exception": null,
      "input_path": "__notebook__.ipynb",
      "output_path": "__notebook__.ipynb",
      "parameters": {},
      "start_time": "2022-06-01T13:59:59.524947",
      "version": "2.3.4"
    },
    "widgets": {
      "application/vnd.jupyter.widget-state+json": {
        "c80f15ef27894107860d23fcaf1b6582": {
          "model_module": "@jupyter-widgets/controls",
          "model_name": "HBoxModel",
          "model_module_version": "1.5.0",
          "state": {
            "_dom_classes": [],
            "_model_module": "@jupyter-widgets/controls",
            "_model_module_version": "1.5.0",
            "_model_name": "HBoxModel",
            "_view_count": null,
            "_view_module": "@jupyter-widgets/controls",
            "_view_module_version": "1.5.0",
            "_view_name": "HBoxView",
            "box_style": "",
            "children": [
              "IPY_MODEL_f38a6416ac2d40e8970a9f156f04c8c7",
              "IPY_MODEL_4c7a812ad6224675900220c3ebd0a035",
              "IPY_MODEL_f82c911f86324339a603e1cb7d169c84"
            ],
            "layout": "IPY_MODEL_714b052c89c5432998a246ce3779194c"
          }
        },
        "f38a6416ac2d40e8970a9f156f04c8c7": {
          "model_module": "@jupyter-widgets/controls",
          "model_name": "HTMLModel",
          "model_module_version": "1.5.0",
          "state": {
            "_dom_classes": [],
            "_model_module": "@jupyter-widgets/controls",
            "_model_module_version": "1.5.0",
            "_model_name": "HTMLModel",
            "_view_count": null,
            "_view_module": "@jupyter-widgets/controls",
            "_view_module_version": "1.5.0",
            "_view_name": "HTMLView",
            "description": "",
            "description_tooltip": null,
            "layout": "IPY_MODEL_cc6f96c77db34224be1fe23e750d7dc3",
            "placeholder": "​",
            "style": "IPY_MODEL_c064329ac66f436fb3831ea09267b5ce",
            "value": "Downloading tokenizer_config.json: 100%"
          }
        },
        "4c7a812ad6224675900220c3ebd0a035": {
          "model_module": "@jupyter-widgets/controls",
          "model_name": "FloatProgressModel",
          "model_module_version": "1.5.0",
          "state": {
            "_dom_classes": [],
            "_model_module": "@jupyter-widgets/controls",
            "_model_module_version": "1.5.0",
            "_model_name": "FloatProgressModel",
            "_view_count": null,
            "_view_module": "@jupyter-widgets/controls",
            "_view_module_version": "1.5.0",
            "_view_name": "ProgressView",
            "bar_style": "success",
            "description": "",
            "description_tooltip": null,
            "layout": "IPY_MODEL_bcd8fb473df74c3b8a9b1ee999478a9b",
            "max": 52,
            "min": 0,
            "orientation": "horizontal",
            "style": "IPY_MODEL_333b7c84ab7843029c6ba3ae61697d72",
            "value": 52
          }
        },
        "f82c911f86324339a603e1cb7d169c84": {
          "model_module": "@jupyter-widgets/controls",
          "model_name": "HTMLModel",
          "model_module_version": "1.5.0",
          "state": {
            "_dom_classes": [],
            "_model_module": "@jupyter-widgets/controls",
            "_model_module_version": "1.5.0",
            "_model_name": "HTMLModel",
            "_view_count": null,
            "_view_module": "@jupyter-widgets/controls",
            "_view_module_version": "1.5.0",
            "_view_name": "HTMLView",
            "description": "",
            "description_tooltip": null,
            "layout": "IPY_MODEL_b01e97c42c68419caa458ea90c3bf872",
            "placeholder": "​",
            "style": "IPY_MODEL_1ce3022e862f426d88ecfcf173509487",
            "value": " 52.0/52.0 [00:00&lt;00:00, 675B/s]"
          }
        },
        "714b052c89c5432998a246ce3779194c": {
          "model_module": "@jupyter-widgets/base",
          "model_name": "LayoutModel",
          "model_module_version": "1.2.0",
          "state": {
            "_model_module": "@jupyter-widgets/base",
            "_model_module_version": "1.2.0",
            "_model_name": "LayoutModel",
            "_view_count": null,
            "_view_module": "@jupyter-widgets/base",
            "_view_module_version": "1.2.0",
            "_view_name": "LayoutView",
            "align_content": null,
            "align_items": null,
            "align_self": null,
            "border": null,
            "bottom": null,
            "display": null,
            "flex": null,
            "flex_flow": null,
            "grid_area": null,
            "grid_auto_columns": null,
            "grid_auto_flow": null,
            "grid_auto_rows": null,
            "grid_column": null,
            "grid_gap": null,
            "grid_row": null,
            "grid_template_areas": null,
            "grid_template_columns": null,
            "grid_template_rows": null,
            "height": null,
            "justify_content": null,
            "justify_items": null,
            "left": null,
            "margin": null,
            "max_height": null,
            "max_width": null,
            "min_height": null,
            "min_width": null,
            "object_fit": null,
            "object_position": null,
            "order": null,
            "overflow": null,
            "overflow_x": null,
            "overflow_y": null,
            "padding": null,
            "right": null,
            "top": null,
            "visibility": null,
            "width": null
          }
        },
        "cc6f96c77db34224be1fe23e750d7dc3": {
          "model_module": "@jupyter-widgets/base",
          "model_name": "LayoutModel",
          "model_module_version": "1.2.0",
          "state": {
            "_model_module": "@jupyter-widgets/base",
            "_model_module_version": "1.2.0",
            "_model_name": "LayoutModel",
            "_view_count": null,
            "_view_module": "@jupyter-widgets/base",
            "_view_module_version": "1.2.0",
            "_view_name": "LayoutView",
            "align_content": null,
            "align_items": null,
            "align_self": null,
            "border": null,
            "bottom": null,
            "display": null,
            "flex": null,
            "flex_flow": null,
            "grid_area": null,
            "grid_auto_columns": null,
            "grid_auto_flow": null,
            "grid_auto_rows": null,
            "grid_column": null,
            "grid_gap": null,
            "grid_row": null,
            "grid_template_areas": null,
            "grid_template_columns": null,
            "grid_template_rows": null,
            "height": null,
            "justify_content": null,
            "justify_items": null,
            "left": null,
            "margin": null,
            "max_height": null,
            "max_width": null,
            "min_height": null,
            "min_width": null,
            "object_fit": null,
            "object_position": null,
            "order": null,
            "overflow": null,
            "overflow_x": null,
            "overflow_y": null,
            "padding": null,
            "right": null,
            "top": null,
            "visibility": null,
            "width": null
          }
        },
        "c064329ac66f436fb3831ea09267b5ce": {
          "model_module": "@jupyter-widgets/controls",
          "model_name": "DescriptionStyleModel",
          "model_module_version": "1.5.0",
          "state": {
            "_model_module": "@jupyter-widgets/controls",
            "_model_module_version": "1.5.0",
            "_model_name": "DescriptionStyleModel",
            "_view_count": null,
            "_view_module": "@jupyter-widgets/base",
            "_view_module_version": "1.2.0",
            "_view_name": "StyleView",
            "description_width": ""
          }
        },
        "bcd8fb473df74c3b8a9b1ee999478a9b": {
          "model_module": "@jupyter-widgets/base",
          "model_name": "LayoutModel",
          "model_module_version": "1.2.0",
          "state": {
            "_model_module": "@jupyter-widgets/base",
            "_model_module_version": "1.2.0",
            "_model_name": "LayoutModel",
            "_view_count": null,
            "_view_module": "@jupyter-widgets/base",
            "_view_module_version": "1.2.0",
            "_view_name": "LayoutView",
            "align_content": null,
            "align_items": null,
            "align_self": null,
            "border": null,
            "bottom": null,
            "display": null,
            "flex": null,
            "flex_flow": null,
            "grid_area": null,
            "grid_auto_columns": null,
            "grid_auto_flow": null,
            "grid_auto_rows": null,
            "grid_column": null,
            "grid_gap": null,
            "grid_row": null,
            "grid_template_areas": null,
            "grid_template_columns": null,
            "grid_template_rows": null,
            "height": null,
            "justify_content": null,
            "justify_items": null,
            "left": null,
            "margin": null,
            "max_height": null,
            "max_width": null,
            "min_height": null,
            "min_width": null,
            "object_fit": null,
            "object_position": null,
            "order": null,
            "overflow": null,
            "overflow_x": null,
            "overflow_y": null,
            "padding": null,
            "right": null,
            "top": null,
            "visibility": null,
            "width": null
          }
        },
        "333b7c84ab7843029c6ba3ae61697d72": {
          "model_module": "@jupyter-widgets/controls",
          "model_name": "ProgressStyleModel",
          "model_module_version": "1.5.0",
          "state": {
            "_model_module": "@jupyter-widgets/controls",
            "_model_module_version": "1.5.0",
            "_model_name": "ProgressStyleModel",
            "_view_count": null,
            "_view_module": "@jupyter-widgets/base",
            "_view_module_version": "1.2.0",
            "_view_name": "StyleView",
            "bar_color": null,
            "description_width": ""
          }
        },
        "b01e97c42c68419caa458ea90c3bf872": {
          "model_module": "@jupyter-widgets/base",
          "model_name": "LayoutModel",
          "model_module_version": "1.2.0",
          "state": {
            "_model_module": "@jupyter-widgets/base",
            "_model_module_version": "1.2.0",
            "_model_name": "LayoutModel",
            "_view_count": null,
            "_view_module": "@jupyter-widgets/base",
            "_view_module_version": "1.2.0",
            "_view_name": "LayoutView",
            "align_content": null,
            "align_items": null,
            "align_self": null,
            "border": null,
            "bottom": null,
            "display": null,
            "flex": null,
            "flex_flow": null,
            "grid_area": null,
            "grid_auto_columns": null,
            "grid_auto_flow": null,
            "grid_auto_rows": null,
            "grid_column": null,
            "grid_gap": null,
            "grid_row": null,
            "grid_template_areas": null,
            "grid_template_columns": null,
            "grid_template_rows": null,
            "height": null,
            "justify_content": null,
            "justify_items": null,
            "left": null,
            "margin": null,
            "max_height": null,
            "max_width": null,
            "min_height": null,
            "min_width": null,
            "object_fit": null,
            "object_position": null,
            "order": null,
            "overflow": null,
            "overflow_x": null,
            "overflow_y": null,
            "padding": null,
            "right": null,
            "top": null,
            "visibility": null,
            "width": null
          }
        },
        "1ce3022e862f426d88ecfcf173509487": {
          "model_module": "@jupyter-widgets/controls",
          "model_name": "DescriptionStyleModel",
          "model_module_version": "1.5.0",
          "state": {
            "_model_module": "@jupyter-widgets/controls",
            "_model_module_version": "1.5.0",
            "_model_name": "DescriptionStyleModel",
            "_view_count": null,
            "_view_module": "@jupyter-widgets/base",
            "_view_module_version": "1.2.0",
            "_view_name": "StyleView",
            "description_width": ""
          }
        },
        "7b59b7fcc9ad4cb2a2c7a9983a33cc03": {
          "model_module": "@jupyter-widgets/controls",
          "model_name": "HBoxModel",
          "model_module_version": "1.5.0",
          "state": {
            "_dom_classes": [],
            "_model_module": "@jupyter-widgets/controls",
            "_model_module_version": "1.5.0",
            "_model_name": "HBoxModel",
            "_view_count": null,
            "_view_module": "@jupyter-widgets/controls",
            "_view_module_version": "1.5.0",
            "_view_name": "HBoxView",
            "box_style": "",
            "children": [
              "IPY_MODEL_469f7a5f895b43199e471de464c86a33",
              "IPY_MODEL_fa1cd34a73db423a9683ba9d7fe22af5",
              "IPY_MODEL_3ae87819fc7a46caa54098e5b3744bdd"
            ],
            "layout": "IPY_MODEL_5c7004a368234716824940e546bff11f"
          }
        },
        "469f7a5f895b43199e471de464c86a33": {
          "model_module": "@jupyter-widgets/controls",
          "model_name": "HTMLModel",
          "model_module_version": "1.5.0",
          "state": {
            "_dom_classes": [],
            "_model_module": "@jupyter-widgets/controls",
            "_model_module_version": "1.5.0",
            "_model_name": "HTMLModel",
            "_view_count": null,
            "_view_module": "@jupyter-widgets/controls",
            "_view_module_version": "1.5.0",
            "_view_name": "HTMLView",
            "description": "",
            "description_tooltip": null,
            "layout": "IPY_MODEL_f2e91f6c5f6543d3850e3b88940fd6a0",
            "placeholder": "​",
            "style": "IPY_MODEL_9a6fd5d624454cf2bea3e56b4de67311",
            "value": "Downloading config.json: 100%"
          }
        },
        "fa1cd34a73db423a9683ba9d7fe22af5": {
          "model_module": "@jupyter-widgets/controls",
          "model_name": "FloatProgressModel",
          "model_module_version": "1.5.0",
          "state": {
            "_dom_classes": [],
            "_model_module": "@jupyter-widgets/controls",
            "_model_module_version": "1.5.0",
            "_model_name": "FloatProgressModel",
            "_view_count": null,
            "_view_module": "@jupyter-widgets/controls",
            "_view_module_version": "1.5.0",
            "_view_name": "ProgressView",
            "bar_style": "success",
            "description": "",
            "description_tooltip": null,
            "layout": "IPY_MODEL_e4bad518c2d3435b9e5d2bf72e94f822",
            "max": 580,
            "min": 0,
            "orientation": "horizontal",
            "style": "IPY_MODEL_bc2ac147e98d45b885e4a8e05e0169d6",
            "value": 580
          }
        },
        "3ae87819fc7a46caa54098e5b3744bdd": {
          "model_module": "@jupyter-widgets/controls",
          "model_name": "HTMLModel",
          "model_module_version": "1.5.0",
          "state": {
            "_dom_classes": [],
            "_model_module": "@jupyter-widgets/controls",
            "_model_module_version": "1.5.0",
            "_model_name": "HTMLModel",
            "_view_count": null,
            "_view_module": "@jupyter-widgets/controls",
            "_view_module_version": "1.5.0",
            "_view_name": "HTMLView",
            "description": "",
            "description_tooltip": null,
            "layout": "IPY_MODEL_8a62110df1e7492f81199310173285c5",
            "placeholder": "​",
            "style": "IPY_MODEL_b995d62f0c4d49899e05b487b667eb5c",
            "value": " 580/580 [00:00&lt;00:00, 17.7kB/s]"
          }
        },
        "5c7004a368234716824940e546bff11f": {
          "model_module": "@jupyter-widgets/base",
          "model_name": "LayoutModel",
          "model_module_version": "1.2.0",
          "state": {
            "_model_module": "@jupyter-widgets/base",
            "_model_module_version": "1.2.0",
            "_model_name": "LayoutModel",
            "_view_count": null,
            "_view_module": "@jupyter-widgets/base",
            "_view_module_version": "1.2.0",
            "_view_name": "LayoutView",
            "align_content": null,
            "align_items": null,
            "align_self": null,
            "border": null,
            "bottom": null,
            "display": null,
            "flex": null,
            "flex_flow": null,
            "grid_area": null,
            "grid_auto_columns": null,
            "grid_auto_flow": null,
            "grid_auto_rows": null,
            "grid_column": null,
            "grid_gap": null,
            "grid_row": null,
            "grid_template_areas": null,
            "grid_template_columns": null,
            "grid_template_rows": null,
            "height": null,
            "justify_content": null,
            "justify_items": null,
            "left": null,
            "margin": null,
            "max_height": null,
            "max_width": null,
            "min_height": null,
            "min_width": null,
            "object_fit": null,
            "object_position": null,
            "order": null,
            "overflow": null,
            "overflow_x": null,
            "overflow_y": null,
            "padding": null,
            "right": null,
            "top": null,
            "visibility": null,
            "width": null
          }
        },
        "f2e91f6c5f6543d3850e3b88940fd6a0": {
          "model_module": "@jupyter-widgets/base",
          "model_name": "LayoutModel",
          "model_module_version": "1.2.0",
          "state": {
            "_model_module": "@jupyter-widgets/base",
            "_model_module_version": "1.2.0",
            "_model_name": "LayoutModel",
            "_view_count": null,
            "_view_module": "@jupyter-widgets/base",
            "_view_module_version": "1.2.0",
            "_view_name": "LayoutView",
            "align_content": null,
            "align_items": null,
            "align_self": null,
            "border": null,
            "bottom": null,
            "display": null,
            "flex": null,
            "flex_flow": null,
            "grid_area": null,
            "grid_auto_columns": null,
            "grid_auto_flow": null,
            "grid_auto_rows": null,
            "grid_column": null,
            "grid_gap": null,
            "grid_row": null,
            "grid_template_areas": null,
            "grid_template_columns": null,
            "grid_template_rows": null,
            "height": null,
            "justify_content": null,
            "justify_items": null,
            "left": null,
            "margin": null,
            "max_height": null,
            "max_width": null,
            "min_height": null,
            "min_width": null,
            "object_fit": null,
            "object_position": null,
            "order": null,
            "overflow": null,
            "overflow_x": null,
            "overflow_y": null,
            "padding": null,
            "right": null,
            "top": null,
            "visibility": null,
            "width": null
          }
        },
        "9a6fd5d624454cf2bea3e56b4de67311": {
          "model_module": "@jupyter-widgets/controls",
          "model_name": "DescriptionStyleModel",
          "model_module_version": "1.5.0",
          "state": {
            "_model_module": "@jupyter-widgets/controls",
            "_model_module_version": "1.5.0",
            "_model_name": "DescriptionStyleModel",
            "_view_count": null,
            "_view_module": "@jupyter-widgets/base",
            "_view_module_version": "1.2.0",
            "_view_name": "StyleView",
            "description_width": ""
          }
        },
        "e4bad518c2d3435b9e5d2bf72e94f822": {
          "model_module": "@jupyter-widgets/base",
          "model_name": "LayoutModel",
          "model_module_version": "1.2.0",
          "state": {
            "_model_module": "@jupyter-widgets/base",
            "_model_module_version": "1.2.0",
            "_model_name": "LayoutModel",
            "_view_count": null,
            "_view_module": "@jupyter-widgets/base",
            "_view_module_version": "1.2.0",
            "_view_name": "LayoutView",
            "align_content": null,
            "align_items": null,
            "align_self": null,
            "border": null,
            "bottom": null,
            "display": null,
            "flex": null,
            "flex_flow": null,
            "grid_area": null,
            "grid_auto_columns": null,
            "grid_auto_flow": null,
            "grid_auto_rows": null,
            "grid_column": null,
            "grid_gap": null,
            "grid_row": null,
            "grid_template_areas": null,
            "grid_template_columns": null,
            "grid_template_rows": null,
            "height": null,
            "justify_content": null,
            "justify_items": null,
            "left": null,
            "margin": null,
            "max_height": null,
            "max_width": null,
            "min_height": null,
            "min_width": null,
            "object_fit": null,
            "object_position": null,
            "order": null,
            "overflow": null,
            "overflow_x": null,
            "overflow_y": null,
            "padding": null,
            "right": null,
            "top": null,
            "visibility": null,
            "width": null
          }
        },
        "bc2ac147e98d45b885e4a8e05e0169d6": {
          "model_module": "@jupyter-widgets/controls",
          "model_name": "ProgressStyleModel",
          "model_module_version": "1.5.0",
          "state": {
            "_model_module": "@jupyter-widgets/controls",
            "_model_module_version": "1.5.0",
            "_model_name": "ProgressStyleModel",
            "_view_count": null,
            "_view_module": "@jupyter-widgets/base",
            "_view_module_version": "1.2.0",
            "_view_name": "StyleView",
            "bar_color": null,
            "description_width": ""
          }
        },
        "8a62110df1e7492f81199310173285c5": {
          "model_module": "@jupyter-widgets/base",
          "model_name": "LayoutModel",
          "model_module_version": "1.2.0",
          "state": {
            "_model_module": "@jupyter-widgets/base",
            "_model_module_version": "1.2.0",
            "_model_name": "LayoutModel",
            "_view_count": null,
            "_view_module": "@jupyter-widgets/base",
            "_view_module_version": "1.2.0",
            "_view_name": "LayoutView",
            "align_content": null,
            "align_items": null,
            "align_self": null,
            "border": null,
            "bottom": null,
            "display": null,
            "flex": null,
            "flex_flow": null,
            "grid_area": null,
            "grid_auto_columns": null,
            "grid_auto_flow": null,
            "grid_auto_rows": null,
            "grid_column": null,
            "grid_gap": null,
            "grid_row": null,
            "grid_template_areas": null,
            "grid_template_columns": null,
            "grid_template_rows": null,
            "height": null,
            "justify_content": null,
            "justify_items": null,
            "left": null,
            "margin": null,
            "max_height": null,
            "max_width": null,
            "min_height": null,
            "min_width": null,
            "object_fit": null,
            "object_position": null,
            "order": null,
            "overflow": null,
            "overflow_x": null,
            "overflow_y": null,
            "padding": null,
            "right": null,
            "top": null,
            "visibility": null,
            "width": null
          }
        },
        "b995d62f0c4d49899e05b487b667eb5c": {
          "model_module": "@jupyter-widgets/controls",
          "model_name": "DescriptionStyleModel",
          "model_module_version": "1.5.0",
          "state": {
            "_model_module": "@jupyter-widgets/controls",
            "_model_module_version": "1.5.0",
            "_model_name": "DescriptionStyleModel",
            "_view_count": null,
            "_view_module": "@jupyter-widgets/base",
            "_view_module_version": "1.2.0",
            "_view_name": "StyleView",
            "description_width": ""
          }
        },
        "c2a5769951264332bbfa14bc61ca088f": {
          "model_module": "@jupyter-widgets/controls",
          "model_name": "HBoxModel",
          "model_module_version": "1.5.0",
          "state": {
            "_dom_classes": [],
            "_model_module": "@jupyter-widgets/controls",
            "_model_module_version": "1.5.0",
            "_model_name": "HBoxModel",
            "_view_count": null,
            "_view_module": "@jupyter-widgets/controls",
            "_view_module_version": "1.5.0",
            "_view_name": "HBoxView",
            "box_style": "",
            "children": [
              "IPY_MODEL_22d9dea899104ffd9c77441335fd37e4",
              "IPY_MODEL_b60b11f45e7443169917da5fd3f5279e",
              "IPY_MODEL_01d504529be54aff8c35d34695661801"
            ],
            "layout": "IPY_MODEL_eb7b6870caeb481394a976f1814d6652"
          }
        },
        "22d9dea899104ffd9c77441335fd37e4": {
          "model_module": "@jupyter-widgets/controls",
          "model_name": "HTMLModel",
          "model_module_version": "1.5.0",
          "state": {
            "_dom_classes": [],
            "_model_module": "@jupyter-widgets/controls",
            "_model_module_version": "1.5.0",
            "_model_name": "HTMLModel",
            "_view_count": null,
            "_view_module": "@jupyter-widgets/controls",
            "_view_module_version": "1.5.0",
            "_view_name": "HTMLView",
            "description": "",
            "description_tooltip": null,
            "layout": "IPY_MODEL_1f2f8947d43042b699e4ffddff5a9350",
            "placeholder": "​",
            "style": "IPY_MODEL_39cf050d6ffe44738de4c2f078345e56",
            "value": "Downloading spm.model: 100%"
          }
        },
        "b60b11f45e7443169917da5fd3f5279e": {
          "model_module": "@jupyter-widgets/controls",
          "model_name": "FloatProgressModel",
          "model_module_version": "1.5.0",
          "state": {
            "_dom_classes": [],
            "_model_module": "@jupyter-widgets/controls",
            "_model_module_version": "1.5.0",
            "_model_name": "FloatProgressModel",
            "_view_count": null,
            "_view_module": "@jupyter-widgets/controls",
            "_view_module_version": "1.5.0",
            "_view_name": "ProgressView",
            "bar_style": "success",
            "description": "",
            "description_tooltip": null,
            "layout": "IPY_MODEL_7437c27354854923b5d3cafb05d3848b",
            "max": 2464616,
            "min": 0,
            "orientation": "horizontal",
            "style": "IPY_MODEL_7e940f9da52b445094af3cde96d2dcb2",
            "value": 2464616
          }
        },
        "01d504529be54aff8c35d34695661801": {
          "model_module": "@jupyter-widgets/controls",
          "model_name": "HTMLModel",
          "model_module_version": "1.5.0",
          "state": {
            "_dom_classes": [],
            "_model_module": "@jupyter-widgets/controls",
            "_model_module_version": "1.5.0",
            "_model_name": "HTMLModel",
            "_view_count": null,
            "_view_module": "@jupyter-widgets/controls",
            "_view_module_version": "1.5.0",
            "_view_name": "HTMLView",
            "description": "",
            "description_tooltip": null,
            "layout": "IPY_MODEL_3a2b4e5340294384bb2e1dfa12ba0b4a",
            "placeholder": "​",
            "style": "IPY_MODEL_a4471f08889a47ebaa5d53be020c4698",
            "value": " 2.35M/2.35M [00:00&lt;00:00, 25.2MB/s]"
          }
        },
        "eb7b6870caeb481394a976f1814d6652": {
          "model_module": "@jupyter-widgets/base",
          "model_name": "LayoutModel",
          "model_module_version": "1.2.0",
          "state": {
            "_model_module": "@jupyter-widgets/base",
            "_model_module_version": "1.2.0",
            "_model_name": "LayoutModel",
            "_view_count": null,
            "_view_module": "@jupyter-widgets/base",
            "_view_module_version": "1.2.0",
            "_view_name": "LayoutView",
            "align_content": null,
            "align_items": null,
            "align_self": null,
            "border": null,
            "bottom": null,
            "display": null,
            "flex": null,
            "flex_flow": null,
            "grid_area": null,
            "grid_auto_columns": null,
            "grid_auto_flow": null,
            "grid_auto_rows": null,
            "grid_column": null,
            "grid_gap": null,
            "grid_row": null,
            "grid_template_areas": null,
            "grid_template_columns": null,
            "grid_template_rows": null,
            "height": null,
            "justify_content": null,
            "justify_items": null,
            "left": null,
            "margin": null,
            "max_height": null,
            "max_width": null,
            "min_height": null,
            "min_width": null,
            "object_fit": null,
            "object_position": null,
            "order": null,
            "overflow": null,
            "overflow_x": null,
            "overflow_y": null,
            "padding": null,
            "right": null,
            "top": null,
            "visibility": null,
            "width": null
          }
        },
        "1f2f8947d43042b699e4ffddff5a9350": {
          "model_module": "@jupyter-widgets/base",
          "model_name": "LayoutModel",
          "model_module_version": "1.2.0",
          "state": {
            "_model_module": "@jupyter-widgets/base",
            "_model_module_version": "1.2.0",
            "_model_name": "LayoutModel",
            "_view_count": null,
            "_view_module": "@jupyter-widgets/base",
            "_view_module_version": "1.2.0",
            "_view_name": "LayoutView",
            "align_content": null,
            "align_items": null,
            "align_self": null,
            "border": null,
            "bottom": null,
            "display": null,
            "flex": null,
            "flex_flow": null,
            "grid_area": null,
            "grid_auto_columns": null,
            "grid_auto_flow": null,
            "grid_auto_rows": null,
            "grid_column": null,
            "grid_gap": null,
            "grid_row": null,
            "grid_template_areas": null,
            "grid_template_columns": null,
            "grid_template_rows": null,
            "height": null,
            "justify_content": null,
            "justify_items": null,
            "left": null,
            "margin": null,
            "max_height": null,
            "max_width": null,
            "min_height": null,
            "min_width": null,
            "object_fit": null,
            "object_position": null,
            "order": null,
            "overflow": null,
            "overflow_x": null,
            "overflow_y": null,
            "padding": null,
            "right": null,
            "top": null,
            "visibility": null,
            "width": null
          }
        },
        "39cf050d6ffe44738de4c2f078345e56": {
          "model_module": "@jupyter-widgets/controls",
          "model_name": "DescriptionStyleModel",
          "model_module_version": "1.5.0",
          "state": {
            "_model_module": "@jupyter-widgets/controls",
            "_model_module_version": "1.5.0",
            "_model_name": "DescriptionStyleModel",
            "_view_count": null,
            "_view_module": "@jupyter-widgets/base",
            "_view_module_version": "1.2.0",
            "_view_name": "StyleView",
            "description_width": ""
          }
        },
        "7437c27354854923b5d3cafb05d3848b": {
          "model_module": "@jupyter-widgets/base",
          "model_name": "LayoutModel",
          "model_module_version": "1.2.0",
          "state": {
            "_model_module": "@jupyter-widgets/base",
            "_model_module_version": "1.2.0",
            "_model_name": "LayoutModel",
            "_view_count": null,
            "_view_module": "@jupyter-widgets/base",
            "_view_module_version": "1.2.0",
            "_view_name": "LayoutView",
            "align_content": null,
            "align_items": null,
            "align_self": null,
            "border": null,
            "bottom": null,
            "display": null,
            "flex": null,
            "flex_flow": null,
            "grid_area": null,
            "grid_auto_columns": null,
            "grid_auto_flow": null,
            "grid_auto_rows": null,
            "grid_column": null,
            "grid_gap": null,
            "grid_row": null,
            "grid_template_areas": null,
            "grid_template_columns": null,
            "grid_template_rows": null,
            "height": null,
            "justify_content": null,
            "justify_items": null,
            "left": null,
            "margin": null,
            "max_height": null,
            "max_width": null,
            "min_height": null,
            "min_width": null,
            "object_fit": null,
            "object_position": null,
            "order": null,
            "overflow": null,
            "overflow_x": null,
            "overflow_y": null,
            "padding": null,
            "right": null,
            "top": null,
            "visibility": null,
            "width": null
          }
        },
        "7e940f9da52b445094af3cde96d2dcb2": {
          "model_module": "@jupyter-widgets/controls",
          "model_name": "ProgressStyleModel",
          "model_module_version": "1.5.0",
          "state": {
            "_model_module": "@jupyter-widgets/controls",
            "_model_module_version": "1.5.0",
            "_model_name": "ProgressStyleModel",
            "_view_count": null,
            "_view_module": "@jupyter-widgets/base",
            "_view_module_version": "1.2.0",
            "_view_name": "StyleView",
            "bar_color": null,
            "description_width": ""
          }
        },
        "3a2b4e5340294384bb2e1dfa12ba0b4a": {
          "model_module": "@jupyter-widgets/base",
          "model_name": "LayoutModel",
          "model_module_version": "1.2.0",
          "state": {
            "_model_module": "@jupyter-widgets/base",
            "_model_module_version": "1.2.0",
            "_model_name": "LayoutModel",
            "_view_count": null,
            "_view_module": "@jupyter-widgets/base",
            "_view_module_version": "1.2.0",
            "_view_name": "LayoutView",
            "align_content": null,
            "align_items": null,
            "align_self": null,
            "border": null,
            "bottom": null,
            "display": null,
            "flex": null,
            "flex_flow": null,
            "grid_area": null,
            "grid_auto_columns": null,
            "grid_auto_flow": null,
            "grid_auto_rows": null,
            "grid_column": null,
            "grid_gap": null,
            "grid_row": null,
            "grid_template_areas": null,
            "grid_template_columns": null,
            "grid_template_rows": null,
            "height": null,
            "justify_content": null,
            "justify_items": null,
            "left": null,
            "margin": null,
            "max_height": null,
            "max_width": null,
            "min_height": null,
            "min_width": null,
            "object_fit": null,
            "object_position": null,
            "order": null,
            "overflow": null,
            "overflow_x": null,
            "overflow_y": null,
            "padding": null,
            "right": null,
            "top": null,
            "visibility": null,
            "width": null
          }
        },
        "a4471f08889a47ebaa5d53be020c4698": {
          "model_module": "@jupyter-widgets/controls",
          "model_name": "DescriptionStyleModel",
          "model_module_version": "1.5.0",
          "state": {
            "_model_module": "@jupyter-widgets/controls",
            "_model_module_version": "1.5.0",
            "_model_name": "DescriptionStyleModel",
            "_view_count": null,
            "_view_module": "@jupyter-widgets/base",
            "_view_module_version": "1.2.0",
            "_view_name": "StyleView",
            "description_width": ""
          }
        }
      }
    }
  },
  "nbformat": 4,
  "nbformat_minor": 5
}
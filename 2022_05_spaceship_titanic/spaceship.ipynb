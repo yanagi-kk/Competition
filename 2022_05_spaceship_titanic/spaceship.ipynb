{
 "cells": [
  {
   "cell_type": "code",
   "execution_count": 1,
   "id": "9f66d021",
   "metadata": {
    "_cell_guid": "b1076dfc-b9ad-4769-8c92-a6c4dae69d19",
    "_uuid": "8f2839f25d086af736a60e9eeb907d3b93b6e0e5",
    "execution": {
     "iopub.execute_input": "2022-07-20T14:40:44.074987Z",
     "iopub.status.busy": "2022-07-20T14:40:44.074543Z",
     "iopub.status.idle": "2022-07-20T14:40:44.089575Z",
     "shell.execute_reply": "2022-07-20T14:40:44.088609Z"
    },
    "papermill": {
     "duration": 0.032544,
     "end_time": "2022-07-20T14:40:44.092513",
     "exception": false,
     "start_time": "2022-07-20T14:40:44.059969",
     "status": "completed"
    },
    "tags": []
   },
   "outputs": [
    {
     "name": "stdout",
     "output_type": "stream",
     "text": [
      "/kaggle/input/spaceship-titanic/sample_submission.csv\n",
      "/kaggle/input/spaceship-titanic/train.csv\n",
      "/kaggle/input/spaceship-titanic/test.csv\n"
     ]
    }
   ],
   "source": [
    "# This Python 3 environment comes with many helpful analytics libraries installed\n",
    "# It is defined by the kaggle/python Docker image: https://github.com/kaggle/docker-python\n",
    "# For example, here's several helpful packages to load\n",
    "\n",
    "import numpy as np # linear algebra\n",
    "import pandas as pd # data processing, CSV file I/O (e.g. pd.read_csv)\n",
    "\n",
    "# Input data files are available in the read-only \"../input/\" directory\n",
    "# For example, running this (by clicking run or pressing Shift+Enter) will list all files under the input directory\n",
    "\n",
    "import os\n",
    "for dirname, _, filenames in os.walk('/kaggle/input'):\n",
    "    for filename in filenames:\n",
    "        print(os.path.join(dirname, filename))\n",
    "\n",
    "# You can write up to 20GB to the current directory (/kaggle/working/) that gets preserved as output when you create a version using \"Save & Run All\" \n",
    "# You can also write temporary files to /kaggle/temp/, but they won't be saved outside of the current session"
   ]
  },
  {
   "cell_type": "markdown",
   "id": "941380f2",
   "metadata": {
    "papermill": {
     "duration": 0.010939,
     "end_time": "2022-07-20T14:40:44.115014",
     "exception": false,
     "start_time": "2022-07-20T14:40:44.104075",
     "status": "completed"
    },
    "tags": []
   },
   "source": [
    "# データ読み込み"
   ]
  },
  {
   "cell_type": "code",
   "execution_count": 2,
   "id": "bdc78b0a",
   "metadata": {
    "execution": {
     "iopub.execute_input": "2022-07-20T14:40:44.139623Z",
     "iopub.status.busy": "2022-07-20T14:40:44.139014Z",
     "iopub.status.idle": "2022-07-20T14:40:44.235656Z",
     "shell.execute_reply": "2022-07-20T14:40:44.234558Z"
    },
    "papermill": {
     "duration": 0.1124,
     "end_time": "2022-07-20T14:40:44.238714",
     "exception": false,
     "start_time": "2022-07-20T14:40:44.126314",
     "status": "completed"
    },
    "tags": []
   },
   "outputs": [],
   "source": [
    "train = pd.read_csv('../input/spaceship-titanic/train.csv')\n",
    "test = pd.read_csv('../input/spaceship-titanic/test.csv')\n",
    "submit = pd.read_csv('../input/spaceship-titanic/sample_submission.csv')"
   ]
  },
  {
   "cell_type": "markdown",
   "id": "cbc611ab",
   "metadata": {
    "papermill": {
     "duration": 0.011524,
     "end_time": "2022-07-20T14:40:44.263112",
     "exception": false,
     "start_time": "2022-07-20T14:40:44.251588",
     "status": "completed"
    },
    "tags": []
   },
   "source": [
    "# EDA"
   ]
  },
  {
   "cell_type": "code",
   "execution_count": 3,
   "id": "da5416ae",
   "metadata": {
    "execution": {
     "iopub.execute_input": "2022-07-20T14:40:44.288360Z",
     "iopub.status.busy": "2022-07-20T14:40:44.287375Z",
     "iopub.status.idle": "2022-07-20T14:40:44.324808Z",
     "shell.execute_reply": "2022-07-20T14:40:44.323915Z"
    },
    "papermill": {
     "duration": 0.053858,
     "end_time": "2022-07-20T14:40:44.328529",
     "exception": false,
     "start_time": "2022-07-20T14:40:44.274671",
     "status": "completed"
    },
    "tags": []
   },
   "outputs": [
    {
     "name": "stdout",
     "output_type": "stream",
     "text": [
      "<class 'pandas.core.frame.DataFrame'>\n",
      "RangeIndex: 8693 entries, 0 to 8692\n",
      "Data columns (total 14 columns):\n",
      " #   Column        Non-Null Count  Dtype  \n",
      "---  ------        --------------  -----  \n",
      " 0   PassengerId   8693 non-null   object \n",
      " 1   HomePlanet    8492 non-null   object \n",
      " 2   CryoSleep     8476 non-null   object \n",
      " 3   Cabin         8494 non-null   object \n",
      " 4   Destination   8511 non-null   object \n",
      " 5   Age           8514 non-null   float64\n",
      " 6   VIP           8490 non-null   object \n",
      " 7   RoomService   8512 non-null   float64\n",
      " 8   FoodCourt     8510 non-null   float64\n",
      " 9   ShoppingMall  8485 non-null   float64\n",
      " 10  Spa           8510 non-null   float64\n",
      " 11  VRDeck        8505 non-null   float64\n",
      " 12  Name          8493 non-null   object \n",
      " 13  Transported   8693 non-null   bool   \n",
      "dtypes: bool(1), float64(6), object(7)\n",
      "memory usage: 891.5+ KB\n"
     ]
    }
   ],
   "source": [
    "train.info()"
   ]
  },
  {
   "cell_type": "code",
   "execution_count": 4,
   "id": "5861f5ad",
   "metadata": {
    "execution": {
     "iopub.execute_input": "2022-07-20T14:40:44.354800Z",
     "iopub.status.busy": "2022-07-20T14:40:44.354223Z",
     "iopub.status.idle": "2022-07-20T14:40:44.371168Z",
     "shell.execute_reply": "2022-07-20T14:40:44.370405Z"
    },
    "papermill": {
     "duration": 0.032675,
     "end_time": "2022-07-20T14:40:44.373804",
     "exception": false,
     "start_time": "2022-07-20T14:40:44.341129",
     "status": "completed"
    },
    "tags": []
   },
   "outputs": [
    {
     "name": "stdout",
     "output_type": "stream",
     "text": [
      "<class 'pandas.core.frame.DataFrame'>\n",
      "RangeIndex: 4277 entries, 0 to 4276\n",
      "Data columns (total 13 columns):\n",
      " #   Column        Non-Null Count  Dtype  \n",
      "---  ------        --------------  -----  \n",
      " 0   PassengerId   4277 non-null   object \n",
      " 1   HomePlanet    4190 non-null   object \n",
      " 2   CryoSleep     4184 non-null   object \n",
      " 3   Cabin         4177 non-null   object \n",
      " 4   Destination   4185 non-null   object \n",
      " 5   Age           4186 non-null   float64\n",
      " 6   VIP           4184 non-null   object \n",
      " 7   RoomService   4195 non-null   float64\n",
      " 8   FoodCourt     4171 non-null   float64\n",
      " 9   ShoppingMall  4179 non-null   float64\n",
      " 10  Spa           4176 non-null   float64\n",
      " 11  VRDeck        4197 non-null   float64\n",
      " 12  Name          4183 non-null   object \n",
      "dtypes: float64(6), object(7)\n",
      "memory usage: 434.5+ KB\n"
     ]
    }
   ],
   "source": [
    "test.info()"
   ]
  },
  {
   "cell_type": "code",
   "execution_count": 5,
   "id": "681a8290",
   "metadata": {
    "execution": {
     "iopub.execute_input": "2022-07-20T14:40:44.401062Z",
     "iopub.status.busy": "2022-07-20T14:40:44.400215Z",
     "iopub.status.idle": "2022-07-20T14:40:44.417238Z",
     "shell.execute_reply": "2022-07-20T14:40:44.416214Z"
    },
    "papermill": {
     "duration": 0.032128,
     "end_time": "2022-07-20T14:40:44.419511",
     "exception": false,
     "start_time": "2022-07-20T14:40:44.387383",
     "status": "completed"
    },
    "tags": []
   },
   "outputs": [
    {
     "data": {
      "text/html": [
       "<div>\n",
       "<style scoped>\n",
       "    .dataframe tbody tr th:only-of-type {\n",
       "        vertical-align: middle;\n",
       "    }\n",
       "\n",
       "    .dataframe tbody tr th {\n",
       "        vertical-align: top;\n",
       "    }\n",
       "\n",
       "    .dataframe thead th {\n",
       "        text-align: right;\n",
       "    }\n",
       "</style>\n",
       "<table border=\"1\" class=\"dataframe\">\n",
       "  <thead>\n",
       "    <tr style=\"text-align: right;\">\n",
       "      <th></th>\n",
       "      <th>PassengerId</th>\n",
       "      <th>Transported</th>\n",
       "    </tr>\n",
       "  </thead>\n",
       "  <tbody>\n",
       "    <tr>\n",
       "      <th>0</th>\n",
       "      <td>0013_01</td>\n",
       "      <td>False</td>\n",
       "    </tr>\n",
       "    <tr>\n",
       "      <th>1</th>\n",
       "      <td>0018_01</td>\n",
       "      <td>False</td>\n",
       "    </tr>\n",
       "    <tr>\n",
       "      <th>2</th>\n",
       "      <td>0019_01</td>\n",
       "      <td>False</td>\n",
       "    </tr>\n",
       "    <tr>\n",
       "      <th>3</th>\n",
       "      <td>0021_01</td>\n",
       "      <td>False</td>\n",
       "    </tr>\n",
       "    <tr>\n",
       "      <th>4</th>\n",
       "      <td>0023_01</td>\n",
       "      <td>False</td>\n",
       "    </tr>\n",
       "  </tbody>\n",
       "</table>\n",
       "</div>"
      ],
      "text/plain": [
       "  PassengerId  Transported\n",
       "0     0013_01        False\n",
       "1     0018_01        False\n",
       "2     0019_01        False\n",
       "3     0021_01        False\n",
       "4     0023_01        False"
      ]
     },
     "execution_count": 5,
     "metadata": {},
     "output_type": "execute_result"
    }
   ],
   "source": [
    "submit.head()"
   ]
  },
  {
   "cell_type": "code",
   "execution_count": 6,
   "id": "0a68b3a3",
   "metadata": {
    "execution": {
     "iopub.execute_input": "2022-07-20T14:40:44.448187Z",
     "iopub.status.busy": "2022-07-20T14:40:44.447620Z",
     "iopub.status.idle": "2022-07-20T14:40:59.660198Z",
     "shell.execute_reply": "2022-07-20T14:40:59.658357Z"
    },
    "papermill": {
     "duration": 15.230602,
     "end_time": "2022-07-20T14:40:59.663410",
     "exception": false,
     "start_time": "2022-07-20T14:40:44.432808",
     "status": "completed"
    },
    "tags": []
   },
   "outputs": [
    {
     "name": "stdout",
     "output_type": "stream",
     "text": [
      "Collecting sweetviz\r\n",
      "  Downloading sweetviz-2.1.4-py3-none-any.whl (15.1 MB)\r\n",
      "\u001b[2K     \u001b[90m━━━━━━━━━━━━━━━━━━━━━━━━━━━━━━━━━━━━━━━━\u001b[0m \u001b[32m15.1/15.1 MB\u001b[0m \u001b[31m48.8 MB/s\u001b[0m eta \u001b[36m0:00:00\u001b[0m\r\n",
      "\u001b[?25hRequirement already satisfied: matplotlib>=3.1.3 in /opt/conda/lib/python3.7/site-packages (from sweetviz) (3.5.2)\r\n",
      "Requirement already satisfied: importlib-resources>=1.2.0 in /opt/conda/lib/python3.7/site-packages (from sweetviz) (5.7.1)\r\n",
      "Requirement already satisfied: tqdm>=4.43.0 in /opt/conda/lib/python3.7/site-packages (from sweetviz) (4.64.0)\r\n",
      "Requirement already satisfied: scipy>=1.3.2 in /opt/conda/lib/python3.7/site-packages (from sweetviz) (1.7.3)\r\n",
      "Requirement already satisfied: numpy>=1.16.0 in /opt/conda/lib/python3.7/site-packages (from sweetviz) (1.21.6)\r\n",
      "Requirement already satisfied: jinja2>=2.11.1 in /opt/conda/lib/python3.7/site-packages (from sweetviz) (3.1.2)\r\n",
      "Requirement already satisfied: pandas!=1.0.0,!=1.0.1,!=1.0.2,>=0.25.3 in /opt/conda/lib/python3.7/site-packages (from sweetviz) (1.3.5)\r\n",
      "Requirement already satisfied: zipp>=3.1.0 in /opt/conda/lib/python3.7/site-packages (from importlib-resources>=1.2.0->sweetviz) (3.8.0)\r\n",
      "Requirement already satisfied: MarkupSafe>=2.0 in /opt/conda/lib/python3.7/site-packages (from jinja2>=2.11.1->sweetviz) (2.0.1)\r\n",
      "Requirement already satisfied: python-dateutil>=2.7 in /opt/conda/lib/python3.7/site-packages (from matplotlib>=3.1.3->sweetviz) (2.8.2)\r\n",
      "Requirement already satisfied: pillow>=6.2.0 in /opt/conda/lib/python3.7/site-packages (from matplotlib>=3.1.3->sweetviz) (9.1.0)\r\n",
      "Requirement already satisfied: cycler>=0.10 in /opt/conda/lib/python3.7/site-packages (from matplotlib>=3.1.3->sweetviz) (0.11.0)\r\n",
      "Requirement already satisfied: fonttools>=4.22.0 in /opt/conda/lib/python3.7/site-packages (from matplotlib>=3.1.3->sweetviz) (4.33.3)\r\n",
      "Requirement already satisfied: pyparsing>=2.2.1 in /opt/conda/lib/python3.7/site-packages (from matplotlib>=3.1.3->sweetviz) (3.0.9)\r\n",
      "Requirement already satisfied: packaging>=20.0 in /opt/conda/lib/python3.7/site-packages (from matplotlib>=3.1.3->sweetviz) (21.3)\r\n",
      "Requirement already satisfied: kiwisolver>=1.0.1 in /opt/conda/lib/python3.7/site-packages (from matplotlib>=3.1.3->sweetviz) (1.4.2)\r\n",
      "Requirement already satisfied: pytz>=2017.3 in /opt/conda/lib/python3.7/site-packages (from pandas!=1.0.0,!=1.0.1,!=1.0.2,>=0.25.3->sweetviz) (2022.1)\r\n",
      "Requirement already satisfied: typing-extensions in /opt/conda/lib/python3.7/site-packages (from kiwisolver>=1.0.1->matplotlib>=3.1.3->sweetviz) (4.2.0)\r\n",
      "Requirement already satisfied: six>=1.5 in /opt/conda/lib/python3.7/site-packages (from python-dateutil>=2.7->matplotlib>=3.1.3->sweetviz) (1.16.0)\r\n",
      "Installing collected packages: sweetviz\r\n",
      "Successfully installed sweetviz-2.1.4\r\n",
      "\u001b[33mWARNING: Running pip as the 'root' user can result in broken permissions and conflicting behaviour with the system package manager. It is recommended to use a virtual environment instead: https://pip.pypa.io/warnings/venv\u001b[0m\u001b[33m\r\n",
      "\u001b[0m"
     ]
    }
   ],
   "source": [
    "!pip install sweetviz\n",
    "import sweetviz as sv"
   ]
  },
  {
   "cell_type": "code",
   "execution_count": 7,
   "id": "f5ba9c4b",
   "metadata": {
    "execution": {
     "iopub.execute_input": "2022-07-20T14:40:59.692254Z",
     "iopub.status.busy": "2022-07-20T14:40:59.691830Z",
     "iopub.status.idle": "2022-07-20T14:40:59.696241Z",
     "shell.execute_reply": "2022-07-20T14:40:59.695246Z"
    },
    "papermill": {
     "duration": 0.022237,
     "end_time": "2022-07-20T14:40:59.698765",
     "exception": false,
     "start_time": "2022-07-20T14:40:59.676528",
     "status": "completed"
    },
    "tags": []
   },
   "outputs": [],
   "source": [
    "# # train のEDA\n",
    "# my_report_train = sv.analyze(train)\n",
    "# my_report_train.show_html(\"sweetviz_report_Spaceship_train_V1.html\")\n",
    "\n",
    "# # train と test の関係\n",
    "# my_report_trainVStest = sv.compare([train, \"Train\"], [test, \"Test\"], \"Transported\")\n",
    "# my_report_trainVStest.show_html(\"sweetviz_report_Spaceship_trainVStest_V1.html\")"
   ]
  },
  {
   "cell_type": "markdown",
   "id": "56632738",
   "metadata": {
    "papermill": {
     "duration": 0.012489,
     "end_time": "2022-07-20T14:40:59.725009",
     "exception": false,
     "start_time": "2022-07-20T14:40:59.712520",
     "status": "completed"
    },
    "tags": []
   },
   "source": [
    "# 前処理 \n",
    "1. NaNがあるかないか\n",
    "2. Cabin分裂(deck(encoding),side(encoding),num(そのまま))\n",
    "3. サービス系(RoomService, FoodCourt, ShoppingMall, Spa, VRDeck)の欠損値をLightGBMで予測して補完\n",
    "4. HomePlanetとDestination合併\n",
    "3. 家族(nameから)\n",
    "4. 同室人数\n",
    "5. カテゴリ変数の欠損値補完\n",
    "6. カテゴリ変数の変換 (HomePlanet・Destination・CryoSleep・VIP・Transportedを数値変換)\n",
    "7. 同室確認\n",
    "8. サービス料合計\n",
    "9. 不要な列を削除\n",
    "10. clipping\n",
    "11. binning"
   ]
  },
  {
   "cell_type": "code",
   "execution_count": 8,
   "id": "2b33dcdd",
   "metadata": {
    "execution": {
     "iopub.execute_input": "2022-07-20T14:40:59.752974Z",
     "iopub.status.busy": "2022-07-20T14:40:59.752382Z",
     "iopub.status.idle": "2022-07-20T14:40:59.767830Z",
     "shell.execute_reply": "2022-07-20T14:40:59.766801Z"
    },
    "papermill": {
     "duration": 0.032441,
     "end_time": "2022-07-20T14:40:59.770591",
     "exception": false,
     "start_time": "2022-07-20T14:40:59.738150",
     "status": "completed"
    },
    "tags": []
   },
   "outputs": [],
   "source": [
    "df = pd.concat([train.drop([\"Transported\"], axis=1), test], ignore_index=True)"
   ]
  },
  {
   "cell_type": "code",
   "execution_count": 9,
   "id": "e04913a8",
   "metadata": {
    "execution": {
     "iopub.execute_input": "2022-07-20T14:40:59.799592Z",
     "iopub.status.busy": "2022-07-20T14:40:59.798845Z",
     "iopub.status.idle": "2022-07-20T14:40:59.826385Z",
     "shell.execute_reply": "2022-07-20T14:40:59.825310Z"
    },
    "papermill": {
     "duration": 0.044412,
     "end_time": "2022-07-20T14:40:59.828774",
     "exception": false,
     "start_time": "2022-07-20T14:40:59.784362",
     "status": "completed"
    },
    "tags": []
   },
   "outputs": [],
   "source": [
    "#　NaNがあるかないか\n",
    "df_colmns_list = df.drop([\"PassengerId\"], axis=1).columns\n",
    "\n",
    "for column in df_colmns_list:\n",
    "    df[\"Nan_\"+ column] = np.where(df[column].isna(), 1, 0)"
   ]
  },
  {
   "cell_type": "code",
   "execution_count": 10,
   "id": "b177b9e2",
   "metadata": {
    "execution": {
     "iopub.execute_input": "2022-07-20T14:40:59.857087Z",
     "iopub.status.busy": "2022-07-20T14:40:59.855872Z",
     "iopub.status.idle": "2022-07-20T14:40:59.891130Z",
     "shell.execute_reply": "2022-07-20T14:40:59.890078Z"
    },
    "papermill": {
     "duration": 0.051978,
     "end_time": "2022-07-20T14:40:59.893673",
     "exception": false,
     "start_time": "2022-07-20T14:40:59.841695",
     "status": "completed"
    },
    "tags": []
   },
   "outputs": [],
   "source": [
    "# Cabin分裂(deck(encoding),side(encoding),num(そのまま))\n",
    "\n",
    "CabinAry_df = df[\"Cabin\"].str.split(\"/\", expand=True)\n",
    "\n",
    "df[\"Cabin_Deck\"] = CabinAry_df[0]\n",
    "df[\"Cabin_Num\"] = CabinAry_df[1]\n",
    "df[\"Cabin_Side\"] = CabinAry_df[2]\n",
    "\n",
    "# Cabin_Num がoblect型になっていてlightgbmに突っ込めないからfloat型にする\n",
    "df[\"Cabin_Num\"] = df[\"Cabin_Num\"].astype(float)"
   ]
  },
  {
   "cell_type": "code",
   "execution_count": 11,
   "id": "ee20625c",
   "metadata": {
    "execution": {
     "iopub.execute_input": "2022-07-20T14:40:59.920867Z",
     "iopub.status.busy": "2022-07-20T14:40:59.920465Z",
     "iopub.status.idle": "2022-07-20T14:41:01.221265Z",
     "shell.execute_reply": "2022-07-20T14:41:01.220260Z"
    },
    "papermill": {
     "duration": 1.31723,
     "end_time": "2022-07-20T14:41:01.223899",
     "exception": false,
     "start_time": "2022-07-20T14:40:59.906669",
     "status": "completed"
    },
    "tags": []
   },
   "outputs": [
    {
     "data": {
      "text/html": [
       "<style type='text/css'>\n",
       ".datatable table.frame { margin-bottom: 0; }\n",
       ".datatable table.frame thead { border-bottom: none; }\n",
       ".datatable table.frame tr.coltypes td {  color: #FFFFFF;  line-height: 6px;  padding: 0 0.5em;}\n",
       ".datatable .bool    { background: #DDDD99; }\n",
       ".datatable .object  { background: #565656; }\n",
       ".datatable .int     { background: #5D9E5D; }\n",
       ".datatable .float   { background: #4040CC; }\n",
       ".datatable .str     { background: #CC4040; }\n",
       ".datatable .time    { background: #40CC40; }\n",
       ".datatable .row_index {  background: var(--jp-border-color3);  border-right: 1px solid var(--jp-border-color0);  color: var(--jp-ui-font-color3);  font-size: 9px;}\n",
       ".datatable .frame tbody td { text-align: left; }\n",
       ".datatable .frame tr.coltypes .row_index {  background: var(--jp-border-color0);}\n",
       ".datatable th:nth-child(2) { padding-left: 12px; }\n",
       ".datatable .hellipsis {  color: var(--jp-cell-editor-border-color);}\n",
       ".datatable .vellipsis {  background: var(--jp-layout-color0);  color: var(--jp-cell-editor-border-color);}\n",
       ".datatable .na {  color: var(--jp-cell-editor-border-color);  font-size: 80%;}\n",
       ".datatable .sp {  opacity: 0.25;}\n",
       ".datatable .footer { font-size: 9px; }\n",
       ".datatable .frame_dimensions {  background: var(--jp-border-color3);  border-top: 1px solid var(--jp-border-color0);  color: var(--jp-ui-font-color3);  display: inline-block;  opacity: 0.6;  padding: 1px 10px 1px 5px;}\n",
       "</style>\n"
      ],
      "text/plain": [
       "<IPython.core.display.HTML object>"
      ]
     },
     "metadata": {},
     "output_type": "display_data"
    }
   ],
   "source": [
    "import lightgbm as lgbm\n",
    "from lightgbm import early_stopping, log_evaluation\n",
    "from sklearn.metrics import mean_squared_error\n",
    "from sklearn.model_selection import train_test_split\n",
    "from sklearn.preprocessing import LabelEncoder\n",
    "import warnings\n",
    "warnings.simplefilter('ignore')"
   ]
  },
  {
   "cell_type": "code",
   "execution_count": 12,
   "id": "4308e5ea",
   "metadata": {
    "execution": {
     "iopub.execute_input": "2022-07-20T14:41:01.251695Z",
     "iopub.status.busy": "2022-07-20T14:41:01.251257Z",
     "iopub.status.idle": "2022-07-20T14:41:01.277913Z",
     "shell.execute_reply": "2022-07-20T14:41:01.276742Z"
    },
    "papermill": {
     "duration": 0.043307,
     "end_time": "2022-07-20T14:41:01.280439",
     "exception": false,
     "start_time": "2022-07-20T14:41:01.237132",
     "status": "completed"
    },
    "tags": []
   },
   "outputs": [],
   "source": [
    "# 欠損値学習のためのLabelEncording\n",
    "\n",
    "NaN_cat_columns_df = [\"HomePlanet\",\"CryoSleep\",\"Cabin_Deck\"]\n",
    "NaN_drop_list = [\"PassengerId\",\"Cabin\",'Nan_HomePlanet', 'Nan_CryoSleep', 'Nan_Cabin', 'Nan_Destination',\n",
    "                 'Nan_Age', 'Nan_VIP', 'Nan_RoomService', 'Nan_FoodCourt','Nan_ShoppingMall',\n",
    "                 'Nan_Spa', 'Nan_VRDeck', 'Nan_Name',\"Cabin_Side\",\"Destination\",\"VIP\",\"Name\"]\n",
    "df_NaN = df.drop(NaN_drop_list, axis=1) # 欠損値学習に使わないカラムを落とす\n",
    "\n",
    "for c in NaN_cat_columns_df:\n",
    "    le = LabelEncoder()\n",
    "    le.fit(df_NaN[c])\n",
    "    df_NaN[c] = le.transform(df_NaN[c])"
   ]
  },
  {
   "cell_type": "code",
   "execution_count": 13,
   "id": "1bc7ea83",
   "metadata": {
    "execution": {
     "iopub.execute_input": "2022-07-20T14:41:01.308910Z",
     "iopub.status.busy": "2022-07-20T14:41:01.308506Z",
     "iopub.status.idle": "2022-07-20T14:41:03.086991Z",
     "shell.execute_reply": "2022-07-20T14:41:03.086126Z"
    },
    "papermill": {
     "duration": 1.795469,
     "end_time": "2022-07-20T14:41:03.089108",
     "exception": false,
     "start_time": "2022-07-20T14:41:01.293639",
     "status": "completed"
    },
    "tags": []
   },
   "outputs": [
    {
     "name": "stdout",
     "output_type": "stream",
     "text": [
      "RoomService:RMSE=596.9059976426911\n",
      "\n"
     ]
    },
    {
     "data": {
      "text/html": [
       "<div>\n",
       "<style scoped>\n",
       "    .dataframe tbody tr th:only-of-type {\n",
       "        vertical-align: middle;\n",
       "    }\n",
       "\n",
       "    .dataframe tbody tr th {\n",
       "        vertical-align: top;\n",
       "    }\n",
       "\n",
       "    .dataframe thead th {\n",
       "        text-align: right;\n",
       "    }\n",
       "</style>\n",
       "<table border=\"1\" class=\"dataframe\">\n",
       "  <thead>\n",
       "    <tr style=\"text-align: right;\">\n",
       "      <th></th>\n",
       "      <th>importance</th>\n",
       "    </tr>\n",
       "  </thead>\n",
       "  <tbody>\n",
       "    <tr>\n",
       "      <th>ShoppingMall</th>\n",
       "      <td>2.377750e+09</td>\n",
       "    </tr>\n",
       "    <tr>\n",
       "      <th>FoodCourt</th>\n",
       "      <td>1.480773e+09</td>\n",
       "    </tr>\n",
       "    <tr>\n",
       "      <th>Spa</th>\n",
       "      <td>1.474482e+09</td>\n",
       "    </tr>\n",
       "    <tr>\n",
       "      <th>HomePlanet</th>\n",
       "      <td>1.442062e+09</td>\n",
       "    </tr>\n",
       "    <tr>\n",
       "      <th>VRDeck</th>\n",
       "      <td>1.252732e+09</td>\n",
       "    </tr>\n",
       "    <tr>\n",
       "      <th>CryoSleep</th>\n",
       "      <td>1.223125e+09</td>\n",
       "    </tr>\n",
       "    <tr>\n",
       "      <th>Age</th>\n",
       "      <td>1.007205e+09</td>\n",
       "    </tr>\n",
       "    <tr>\n",
       "      <th>Cabin_Num</th>\n",
       "      <td>9.679669e+08</td>\n",
       "    </tr>\n",
       "    <tr>\n",
       "      <th>Cabin_Deck</th>\n",
       "      <td>5.951792e+08</td>\n",
       "    </tr>\n",
       "  </tbody>\n",
       "</table>\n",
       "</div>"
      ],
      "text/plain": [
       "                importance\n",
       "ShoppingMall  2.377750e+09\n",
       "FoodCourt     1.480773e+09\n",
       "Spa           1.474482e+09\n",
       "HomePlanet    1.442062e+09\n",
       "VRDeck        1.252732e+09\n",
       "CryoSleep     1.223125e+09\n",
       "Age           1.007205e+09\n",
       "Cabin_Num     9.679669e+08\n",
       "Cabin_Deck    5.951792e+08"
      ]
     },
     "metadata": {},
     "output_type": "display_data"
    },
    {
     "name": "stdout",
     "output_type": "stream",
     "text": [
      "--------------------------------------------------\n",
      "FoodCourt:RMSE=1278.8690831817303\n",
      "\n"
     ]
    },
    {
     "data": {
      "text/html": [
       "<div>\n",
       "<style scoped>\n",
       "    .dataframe tbody tr th:only-of-type {\n",
       "        vertical-align: middle;\n",
       "    }\n",
       "\n",
       "    .dataframe tbody tr th {\n",
       "        vertical-align: top;\n",
       "    }\n",
       "\n",
       "    .dataframe thead th {\n",
       "        text-align: right;\n",
       "    }\n",
       "</style>\n",
       "<table border=\"1\" class=\"dataframe\">\n",
       "  <thead>\n",
       "    <tr style=\"text-align: right;\">\n",
       "      <th></th>\n",
       "      <th>importance</th>\n",
       "    </tr>\n",
       "  </thead>\n",
       "  <tbody>\n",
       "    <tr>\n",
       "      <th>VRDeck</th>\n",
       "      <td>1.699674e+10</td>\n",
       "    </tr>\n",
       "    <tr>\n",
       "      <th>HomePlanet</th>\n",
       "      <td>9.988744e+09</td>\n",
       "    </tr>\n",
       "    <tr>\n",
       "      <th>Cabin_Deck</th>\n",
       "      <td>7.233991e+09</td>\n",
       "    </tr>\n",
       "    <tr>\n",
       "      <th>Spa</th>\n",
       "      <td>6.907900e+09</td>\n",
       "    </tr>\n",
       "    <tr>\n",
       "      <th>Cabin_Num</th>\n",
       "      <td>4.334519e+09</td>\n",
       "    </tr>\n",
       "    <tr>\n",
       "      <th>ShoppingMall</th>\n",
       "      <td>3.420084e+09</td>\n",
       "    </tr>\n",
       "    <tr>\n",
       "      <th>Age</th>\n",
       "      <td>2.731422e+09</td>\n",
       "    </tr>\n",
       "    <tr>\n",
       "      <th>RoomService</th>\n",
       "      <td>2.599131e+09</td>\n",
       "    </tr>\n",
       "    <tr>\n",
       "      <th>CryoSleep</th>\n",
       "      <td>1.633594e+09</td>\n",
       "    </tr>\n",
       "  </tbody>\n",
       "</table>\n",
       "</div>"
      ],
      "text/plain": [
       "                importance\n",
       "VRDeck        1.699674e+10\n",
       "HomePlanet    9.988744e+09\n",
       "Cabin_Deck    7.233991e+09\n",
       "Spa           6.907900e+09\n",
       "Cabin_Num     4.334519e+09\n",
       "ShoppingMall  3.420084e+09\n",
       "Age           2.731422e+09\n",
       "RoomService   2.599131e+09\n",
       "CryoSleep     1.633594e+09"
      ]
     },
     "metadata": {},
     "output_type": "display_data"
    },
    {
     "name": "stdout",
     "output_type": "stream",
     "text": [
      "--------------------------------------------------\n",
      "ShoppingMall:RMSE=658.895631074394\n",
      "\n"
     ]
    },
    {
     "data": {
      "text/html": [
       "<div>\n",
       "<style scoped>\n",
       "    .dataframe tbody tr th:only-of-type {\n",
       "        vertical-align: middle;\n",
       "    }\n",
       "\n",
       "    .dataframe tbody tr th {\n",
       "        vertical-align: top;\n",
       "    }\n",
       "\n",
       "    .dataframe thead th {\n",
       "        text-align: right;\n",
       "    }\n",
       "</style>\n",
       "<table border=\"1\" class=\"dataframe\">\n",
       "  <thead>\n",
       "    <tr style=\"text-align: right;\">\n",
       "      <th></th>\n",
       "      <th>importance</th>\n",
       "    </tr>\n",
       "  </thead>\n",
       "  <tbody>\n",
       "    <tr>\n",
       "      <th>RoomService</th>\n",
       "      <td>1.017830e+09</td>\n",
       "    </tr>\n",
       "    <tr>\n",
       "      <th>VRDeck</th>\n",
       "      <td>9.694241e+08</td>\n",
       "    </tr>\n",
       "    <tr>\n",
       "      <th>Spa</th>\n",
       "      <td>9.213617e+08</td>\n",
       "    </tr>\n",
       "    <tr>\n",
       "      <th>FoodCourt</th>\n",
       "      <td>9.135434e+08</td>\n",
       "    </tr>\n",
       "    <tr>\n",
       "      <th>HomePlanet</th>\n",
       "      <td>6.332942e+08</td>\n",
       "    </tr>\n",
       "    <tr>\n",
       "      <th>CryoSleep</th>\n",
       "      <td>6.140815e+08</td>\n",
       "    </tr>\n",
       "    <tr>\n",
       "      <th>Age</th>\n",
       "      <td>5.714734e+08</td>\n",
       "    </tr>\n",
       "    <tr>\n",
       "      <th>Cabin_Num</th>\n",
       "      <td>4.815289e+08</td>\n",
       "    </tr>\n",
       "    <tr>\n",
       "      <th>Cabin_Deck</th>\n",
       "      <td>3.736637e+08</td>\n",
       "    </tr>\n",
       "  </tbody>\n",
       "</table>\n",
       "</div>"
      ],
      "text/plain": [
       "               importance\n",
       "RoomService  1.017830e+09\n",
       "VRDeck       9.694241e+08\n",
       "Spa          9.213617e+08\n",
       "FoodCourt    9.135434e+08\n",
       "HomePlanet   6.332942e+08\n",
       "CryoSleep    6.140815e+08\n",
       "Age          5.714734e+08\n",
       "Cabin_Num    4.815289e+08\n",
       "Cabin_Deck   3.736637e+08"
      ]
     },
     "metadata": {},
     "output_type": "display_data"
    },
    {
     "name": "stdout",
     "output_type": "stream",
     "text": [
      "--------------------------------------------------\n",
      "Spa:RMSE=974.4089196703671\n",
      "\n"
     ]
    },
    {
     "data": {
      "text/html": [
       "<div>\n",
       "<style scoped>\n",
       "    .dataframe tbody tr th:only-of-type {\n",
       "        vertical-align: middle;\n",
       "    }\n",
       "\n",
       "    .dataframe tbody tr th {\n",
       "        vertical-align: top;\n",
       "    }\n",
       "\n",
       "    .dataframe thead th {\n",
       "        text-align: right;\n",
       "    }\n",
       "</style>\n",
       "<table border=\"1\" class=\"dataframe\">\n",
       "  <thead>\n",
       "    <tr style=\"text-align: right;\">\n",
       "      <th></th>\n",
       "      <th>importance</th>\n",
       "    </tr>\n",
       "  </thead>\n",
       "  <tbody>\n",
       "    <tr>\n",
       "      <th>FoodCourt</th>\n",
       "      <td>6.876536e+09</td>\n",
       "    </tr>\n",
       "    <tr>\n",
       "      <th>VRDeck</th>\n",
       "      <td>5.291890e+09</td>\n",
       "    </tr>\n",
       "    <tr>\n",
       "      <th>HomePlanet</th>\n",
       "      <td>3.606993e+09</td>\n",
       "    </tr>\n",
       "    <tr>\n",
       "      <th>Cabin_Deck</th>\n",
       "      <td>3.383555e+09</td>\n",
       "    </tr>\n",
       "    <tr>\n",
       "      <th>Age</th>\n",
       "      <td>3.086155e+09</td>\n",
       "    </tr>\n",
       "    <tr>\n",
       "      <th>Cabin_Num</th>\n",
       "      <td>2.147600e+09</td>\n",
       "    </tr>\n",
       "    <tr>\n",
       "      <th>RoomService</th>\n",
       "      <td>1.479557e+09</td>\n",
       "    </tr>\n",
       "    <tr>\n",
       "      <th>ShoppingMall</th>\n",
       "      <td>1.167144e+09</td>\n",
       "    </tr>\n",
       "    <tr>\n",
       "      <th>CryoSleep</th>\n",
       "      <td>5.615519e+08</td>\n",
       "    </tr>\n",
       "  </tbody>\n",
       "</table>\n",
       "</div>"
      ],
      "text/plain": [
       "                importance\n",
       "FoodCourt     6.876536e+09\n",
       "VRDeck        5.291890e+09\n",
       "HomePlanet    3.606993e+09\n",
       "Cabin_Deck    3.383555e+09\n",
       "Age           3.086155e+09\n",
       "Cabin_Num     2.147600e+09\n",
       "RoomService   1.479557e+09\n",
       "ShoppingMall  1.167144e+09\n",
       "CryoSleep     5.615519e+08"
      ]
     },
     "metadata": {},
     "output_type": "display_data"
    },
    {
     "name": "stdout",
     "output_type": "stream",
     "text": [
      "--------------------------------------------------\n",
      "VRDeck:RMSE=975.6148241513913\n",
      "\n"
     ]
    },
    {
     "data": {
      "text/html": [
       "<div>\n",
       "<style scoped>\n",
       "    .dataframe tbody tr th:only-of-type {\n",
       "        vertical-align: middle;\n",
       "    }\n",
       "\n",
       "    .dataframe tbody tr th {\n",
       "        vertical-align: top;\n",
       "    }\n",
       "\n",
       "    .dataframe thead th {\n",
       "        text-align: right;\n",
       "    }\n",
       "</style>\n",
       "<table border=\"1\" class=\"dataframe\">\n",
       "  <thead>\n",
       "    <tr style=\"text-align: right;\">\n",
       "      <th></th>\n",
       "      <th>importance</th>\n",
       "    </tr>\n",
       "  </thead>\n",
       "  <tbody>\n",
       "    <tr>\n",
       "      <th>FoodCourt</th>\n",
       "      <td>9.909232e+09</td>\n",
       "    </tr>\n",
       "    <tr>\n",
       "      <th>Spa</th>\n",
       "      <td>4.566580e+09</td>\n",
       "    </tr>\n",
       "    <tr>\n",
       "      <th>HomePlanet</th>\n",
       "      <td>3.546268e+09</td>\n",
       "    </tr>\n",
       "    <tr>\n",
       "      <th>Cabin_Deck</th>\n",
       "      <td>2.763924e+09</td>\n",
       "    </tr>\n",
       "    <tr>\n",
       "      <th>ShoppingMall</th>\n",
       "      <td>1.985691e+09</td>\n",
       "    </tr>\n",
       "    <tr>\n",
       "      <th>RoomService</th>\n",
       "      <td>1.695580e+09</td>\n",
       "    </tr>\n",
       "    <tr>\n",
       "      <th>Age</th>\n",
       "      <td>1.614680e+09</td>\n",
       "    </tr>\n",
       "    <tr>\n",
       "      <th>Cabin_Num</th>\n",
       "      <td>1.476423e+09</td>\n",
       "    </tr>\n",
       "    <tr>\n",
       "      <th>CryoSleep</th>\n",
       "      <td>7.169997e+08</td>\n",
       "    </tr>\n",
       "  </tbody>\n",
       "</table>\n",
       "</div>"
      ],
      "text/plain": [
       "                importance\n",
       "FoodCourt     9.909232e+09\n",
       "Spa           4.566580e+09\n",
       "HomePlanet    3.546268e+09\n",
       "Cabin_Deck    2.763924e+09\n",
       "ShoppingMall  1.985691e+09\n",
       "RoomService   1.695580e+09\n",
       "Age           1.614680e+09\n",
       "Cabin_Num     1.476423e+09\n",
       "CryoSleep     7.169997e+08"
      ]
     },
     "metadata": {},
     "output_type": "display_data"
    },
    {
     "name": "stdout",
     "output_type": "stream",
     "text": [
      "--------------------------------------------------\n"
     ]
    }
   ],
   "source": [
    "# サービス系(RoomService, FoodCourt, ShoppingMall, Spa, VRDeck)の欠損値をLightGBMで予測して補完\n",
    "\n",
    "Service_list = [\"RoomService\", \"FoodCourt\", \"ShoppingMall\", \"Spa\", \"VRDeck\"]\n",
    "\n",
    "for column_service in Service_list:\n",
    "    NonExist_NaN_df = df_NaN[df_NaN[column_service].notna()]  # columnにNaNがないdf\n",
    "    Only_NaN_df = df_NaN[df_NaN[column_service].isna()]  # columnがNaNのみのdf\n",
    "\n",
    "    NaN_train_X_row = NonExist_NaN_df.drop([column_service], axis=1)\n",
    "    NaN_train_y_row = NonExist_NaN_df[column_service]\n",
    "    NaN_test_X = Only_NaN_df.drop([column_service], axis=1)\n",
    "    NaN_test_y = Only_NaN_df[column_service]\n",
    "\n",
    "    NaN_train_X,NaN_valid_X, NaN_train_y, NaN_valid_y = train_test_split(NaN_train_X_row, NaN_train_y_row, test_size=0.25, random_state=42)\n",
    "\n",
    "    lgb_NaN_train = lgbm.Dataset(NaN_train_X,NaN_train_y)\n",
    "    lgb_NaN_valid = lgbm.Dataset(NaN_valid_X,NaN_valid_y)\n",
    "\n",
    "    params = {\n",
    "                    \"objective\": \"regression\", \n",
    "                    'metric': 'rmse',\n",
    "                    \"learning_rate\": .1,\n",
    "                    \"reg_lambda\": .1,\n",
    "                    \"reg_alpha\": 0,\n",
    "                    \"max_depth\": 5, \n",
    "                    \"n_estimators\": 10000, \n",
    "                    \"colsample_bytree\": .5, \n",
    "                    \"min_child_samples\": 10,\n",
    "                    \"subsample_freq\": 3,\n",
    "                    \"subsample\": .9,\n",
    "                    \"random_state\": 1,\n",
    "                    'verbose': -1\n",
    "                }\n",
    "\n",
    "    gbm = lgbm.train(params,\n",
    "                     train_set=lgb_NaN_train,\n",
    "                     valid_sets=[lgb_NaN_valid],\n",
    "                     callbacks=[early_stopping(stopping_rounds=100,\n",
    "                                    verbose=False),\n",
    "                               log_evaluation(0)]\n",
    "                     )\n",
    "\n",
    "    NaN_valid_y_pred = gbm.predict(NaN_valid_X)\n",
    "    NaN_score = mean_squared_error(y_true=NaN_valid_y, y_pred=NaN_valid_y_pred, squared=False)\n",
    "    print(f'{column_service}:RMSE={NaN_score}\\n')\n",
    "\n",
    "    # feature importanceを表示\n",
    "    importance = pd.DataFrame(gbm.feature_importance(importance_type='gain'), index=NaN_train_X.columns, columns=['importance'])\n",
    "    importance = importance.sort_values('importance', ascending=False)\n",
    "    display(importance)\n",
    "    print(\"-\" * 50)\n",
    "\n",
    "    NaN_test_y_pred = gbm.predict(NaN_test_X)\n",
    "    NaN_test_y = pd.Series(data=NaN_test_y_pred, index=NaN_test_y.index)\n",
    "    \n",
    "    df[column_service].fillna(NaN_test_y, inplace=True)"
   ]
  },
  {
   "cell_type": "code",
   "execution_count": 14,
   "id": "c4a57195",
   "metadata": {
    "execution": {
     "iopub.execute_input": "2022-07-20T14:41:03.122668Z",
     "iopub.status.busy": "2022-07-20T14:41:03.122276Z",
     "iopub.status.idle": "2022-07-20T14:41:03.145739Z",
     "shell.execute_reply": "2022-07-20T14:41:03.144944Z"
    },
    "papermill": {
     "duration": 0.04126,
     "end_time": "2022-07-20T14:41:03.147681",
     "exception": false,
     "start_time": "2022-07-20T14:41:03.106421",
     "status": "completed"
    },
    "tags": []
   },
   "outputs": [
    {
     "data": {
      "text/plain": [
       "PassengerId           0\n",
       "HomePlanet          288\n",
       "CryoSleep           310\n",
       "Cabin               299\n",
       "Destination         274\n",
       "Age                 270\n",
       "VIP                 296\n",
       "RoomService           0\n",
       "FoodCourt             0\n",
       "ShoppingMall          0\n",
       "Spa                   0\n",
       "VRDeck                0\n",
       "Name                294\n",
       "Nan_HomePlanet        0\n",
       "Nan_CryoSleep         0\n",
       "Nan_Cabin             0\n",
       "Nan_Destination       0\n",
       "Nan_Age               0\n",
       "Nan_VIP               0\n",
       "Nan_RoomService       0\n",
       "Nan_FoodCourt         0\n",
       "Nan_ShoppingMall      0\n",
       "Nan_Spa               0\n",
       "Nan_VRDeck            0\n",
       "Nan_Name              0\n",
       "Cabin_Deck          299\n",
       "Cabin_Num           299\n",
       "Cabin_Side          299\n",
       "dtype: int64"
      ]
     },
     "execution_count": 14,
     "metadata": {},
     "output_type": "execute_result"
    }
   ],
   "source": [
    "df.isna().sum()"
   ]
  },
  {
   "cell_type": "code",
   "execution_count": 15,
   "id": "406e53ba",
   "metadata": {
    "execution": {
     "iopub.execute_input": "2022-07-20T14:41:03.180044Z",
     "iopub.status.busy": "2022-07-20T14:41:03.179412Z",
     "iopub.status.idle": "2022-07-20T14:41:03.190622Z",
     "shell.execute_reply": "2022-07-20T14:41:03.189700Z"
    },
    "papermill": {
     "duration": 0.030145,
     "end_time": "2022-07-20T14:41:03.192847",
     "exception": false,
     "start_time": "2022-07-20T14:41:03.162702",
     "status": "completed"
    },
    "tags": []
   },
   "outputs": [],
   "source": [
    "# HomePlanetとDestination合併\n",
    "\n",
    "df[\"Home×Dest\"] = df[\"HomePlanet\"] + df[\"Destination\"]"
   ]
  },
  {
   "cell_type": "code",
   "execution_count": 16,
   "id": "37108730",
   "metadata": {
    "execution": {
     "iopub.execute_input": "2022-07-20T14:41:03.224595Z",
     "iopub.status.busy": "2022-07-20T14:41:03.224006Z",
     "iopub.status.idle": "2022-07-20T14:41:03.255440Z",
     "shell.execute_reply": "2022-07-20T14:41:03.254571Z"
    },
    "papermill": {
     "duration": 0.049849,
     "end_time": "2022-07-20T14:41:03.257838",
     "exception": false,
     "start_time": "2022-07-20T14:41:03.207989",
     "status": "completed"
    },
    "tags": []
   },
   "outputs": [],
   "source": [
    "# 家族(nameから)\n",
    "\n",
    "df[\"Family\"] = df[\"Name\"].str.split(\" \", expand=True)[1]"
   ]
  },
  {
   "cell_type": "code",
   "execution_count": 17,
   "id": "7b162ab0",
   "metadata": {
    "execution": {
     "iopub.execute_input": "2022-07-20T14:41:03.290029Z",
     "iopub.status.busy": "2022-07-20T14:41:03.289462Z",
     "iopub.status.idle": "2022-07-20T14:41:03.339078Z",
     "shell.execute_reply": "2022-07-20T14:41:03.338060Z"
    },
    "papermill": {
     "duration": 0.06865,
     "end_time": "2022-07-20T14:41:03.341888",
     "exception": false,
     "start_time": "2022-07-20T14:41:03.273238",
     "status": "completed"
    },
    "tags": []
   },
   "outputs": [],
   "source": [
    "# 同室人数\n",
    "\n",
    "cabin_group = df.groupby(\"Cabin\")\n",
    "df_Sameroom = pd.DataFrame({\"SameRoomNum\":cabin_group.size()})\n",
    "df = pd.merge(df,df_Sameroom,how=\"left\",on=\"Cabin\")"
   ]
  },
  {
   "cell_type": "code",
   "execution_count": 18,
   "id": "140beea7",
   "metadata": {
    "execution": {
     "iopub.execute_input": "2022-07-20T14:41:03.373022Z",
     "iopub.status.busy": "2022-07-20T14:41:03.372648Z",
     "iopub.status.idle": "2022-07-20T14:41:03.380133Z",
     "shell.execute_reply": "2022-07-20T14:41:03.379122Z"
    },
    "papermill": {
     "duration": 0.025471,
     "end_time": "2022-07-20T14:41:03.382222",
     "exception": false,
     "start_time": "2022-07-20T14:41:03.356751",
     "status": "completed"
    },
    "tags": []
   },
   "outputs": [],
   "source": [
    "# 同室確認\n",
    "\n",
    "df[\"SameRoomBinary\"] = np.where((df[\"SameRoomNum\"]==1) | (df[\"SameRoomNum\"].isna()), 0, 1)"
   ]
  },
  {
   "cell_type": "code",
   "execution_count": 19,
   "id": "2fc6affe",
   "metadata": {
    "execution": {
     "iopub.execute_input": "2022-07-20T14:41:03.414739Z",
     "iopub.status.busy": "2022-07-20T14:41:03.413663Z",
     "iopub.status.idle": "2022-07-20T14:41:03.429015Z",
     "shell.execute_reply": "2022-07-20T14:41:03.428002Z"
    },
    "papermill": {
     "duration": 0.033873,
     "end_time": "2022-07-20T14:41:03.431327",
     "exception": false,
     "start_time": "2022-07-20T14:41:03.397454",
     "status": "completed"
    },
    "tags": []
   },
   "outputs": [],
   "source": [
    "#  サービス料合計\n",
    "\n",
    "df[\"Service_Sum\"] = df[Service_list].sum(axis=1)"
   ]
  },
  {
   "cell_type": "code",
   "execution_count": 20,
   "id": "6e2c169c",
   "metadata": {
    "execution": {
     "iopub.execute_input": "2022-07-20T14:41:03.463347Z",
     "iopub.status.busy": "2022-07-20T14:41:03.462448Z",
     "iopub.status.idle": "2022-07-20T14:41:03.521716Z",
     "shell.execute_reply": "2022-07-20T14:41:03.520471Z"
    },
    "papermill": {
     "duration": 0.077973,
     "end_time": "2022-07-20T14:41:03.524278",
     "exception": false,
     "start_time": "2022-07-20T14:41:03.446305",
     "status": "completed"
    },
    "tags": []
   },
   "outputs": [],
   "source": [
    "# カテゴリ変数の変換 (HomePlanet,Destination,CryoSleep,VIP,Cabin_Deck,Cabin_Side,Home×Dest,Family,Transported を数値変換)\n",
    "\n",
    "from sklearn.preprocessing import LabelEncoder\n",
    "\n",
    "cat_columns_df = [\"HomePlanet\",\"Destination\",\"CryoSleep\",\"VIP\",\"Cabin_Deck\",\"Cabin_Side\",\"Home×Dest\",\"Family\"]\n",
    "\n",
    "for c in cat_columns_df:\n",
    "    le = LabelEncoder()\n",
    "    le.fit(df[c])\n",
    "    df[c] = le.transform(df[c])"
   ]
  },
  {
   "cell_type": "code",
   "execution_count": 21,
   "id": "ba850000",
   "metadata": {
    "execution": {
     "iopub.execute_input": "2022-07-20T14:41:03.556532Z",
     "iopub.status.busy": "2022-07-20T14:41:03.556136Z",
     "iopub.status.idle": "2022-07-20T14:41:19.804254Z",
     "shell.execute_reply": "2022-07-20T14:41:19.802980Z"
    },
    "papermill": {
     "duration": 16.267325,
     "end_time": "2022-07-20T14:41:19.806697",
     "exception": false,
     "start_time": "2022-07-20T14:41:03.539372",
     "status": "completed"
    },
    "tags": []
   },
   "outputs": [
    {
     "data": {
      "application/vnd.jupyter.widget-view+json": {
       "model_id": "4b86bb7c46ac48b38f6278965d90916b",
       "version_major": 2,
       "version_minor": 0
      },
      "text/plain": [
       "                                             |          | [  0%]   00:00 -> (? left)"
      ]
     },
     "metadata": {},
     "output_type": "display_data"
    },
    {
     "name": "stdout",
     "output_type": "stream",
     "text": [
      "Report sweetviz_report_Spaceship_train_V2.html was generated! NOTEBOOK/COLAB USERS: the web browser MAY not pop up, regardless, the report IS saved in your notebook/colab files.\n"
     ]
    },
    {
     "data": {
      "application/vnd.jupyter.widget-view+json": {
       "model_id": "d07d8104e88243b1a1ac850308e635ce",
       "version_major": 2,
       "version_minor": 0
      },
      "text/plain": [
       "                                             |          | [  0%]   00:00 -> (? left)"
      ]
     },
     "metadata": {},
     "output_type": "display_data"
    },
    {
     "name": "stdout",
     "output_type": "stream",
     "text": [
      "Report sweetviz_report_Spaceship_trainVStest_V2.html was generated! NOTEBOOK/COLAB USERS: the web browser MAY not pop up, regardless, the report IS saved in your notebook/colab files.\n"
     ]
    }
   ],
   "source": [
    "# 前処理後の train のEDA\n",
    "my_report_train = sv.analyze(train)\n",
    "my_report_train.show_html(\"sweetviz_report_Spaceship_train_V2.html\")\n",
    "\n",
    "# 前処理後の train と test の関係\n",
    "my_report_trainVStest = sv.compare([train, \"Train\"], [test, \"Test\"], \"Transported\")\n",
    "my_report_trainVStest.show_html(\"sweetviz_report_Spaceship_trainVStest_V2.html\")"
   ]
  },
  {
   "cell_type": "code",
   "execution_count": 22,
   "id": "c81b6359",
   "metadata": {
    "execution": {
     "iopub.execute_input": "2022-07-20T14:41:19.839837Z",
     "iopub.status.busy": "2022-07-20T14:41:19.839386Z",
     "iopub.status.idle": "2022-07-20T14:41:19.845990Z",
     "shell.execute_reply": "2022-07-20T14:41:19.844907Z"
    },
    "papermill": {
     "duration": 0.025502,
     "end_time": "2022-07-20T14:41:19.848131",
     "exception": false,
     "start_time": "2022-07-20T14:41:19.822629",
     "status": "completed"
    },
    "tags": []
   },
   "outputs": [
    {
     "data": {
      "text/plain": [
       "Index(['PassengerId', 'HomePlanet', 'CryoSleep', 'Cabin', 'Destination', 'Age',\n",
       "       'VIP', 'RoomService', 'FoodCourt', 'ShoppingMall', 'Spa', 'VRDeck',\n",
       "       'Name', 'Nan_HomePlanet', 'Nan_CryoSleep', 'Nan_Cabin',\n",
       "       'Nan_Destination', 'Nan_Age', 'Nan_VIP', 'Nan_RoomService',\n",
       "       'Nan_FoodCourt', 'Nan_ShoppingMall', 'Nan_Spa', 'Nan_VRDeck',\n",
       "       'Nan_Name', 'Cabin_Deck', 'Cabin_Num', 'Cabin_Side', 'Home×Dest',\n",
       "       'Family', 'SameRoomNum', 'SameRoomBinary', 'Service_Sum'],\n",
       "      dtype='object')"
      ]
     },
     "execution_count": 22,
     "metadata": {},
     "output_type": "execute_result"
    }
   ],
   "source": [
    "df.columns"
   ]
  },
  {
   "cell_type": "code",
   "execution_count": 23,
   "id": "e5920d9d",
   "metadata": {
    "execution": {
     "iopub.execute_input": "2022-07-20T14:41:19.880848Z",
     "iopub.status.busy": "2022-07-20T14:41:19.880408Z",
     "iopub.status.idle": "2022-07-20T14:41:19.892143Z",
     "shell.execute_reply": "2022-07-20T14:41:19.891116Z"
    },
    "papermill": {
     "duration": 0.030977,
     "end_time": "2022-07-20T14:41:19.894593",
     "exception": false,
     "start_time": "2022-07-20T14:41:19.863616",
     "status": "completed"
    },
    "tags": []
   },
   "outputs": [],
   "source": [
    "# 不要な列を削除\n",
    "drop_list = ['PassengerId', 'Cabin', 'Name', \"VIP\", \"Destination\", \"HomePlanet\", \"SameRoomNum\"]\n",
    "\n",
    "df.drop(drop_list, axis=1, inplace=True)"
   ]
  },
  {
   "cell_type": "code",
   "execution_count": 24,
   "id": "8fff74fb",
   "metadata": {
    "execution": {
     "iopub.execute_input": "2022-07-20T14:41:19.929104Z",
     "iopub.status.busy": "2022-07-20T14:41:19.928721Z",
     "iopub.status.idle": "2022-07-20T14:41:19.966818Z",
     "shell.execute_reply": "2022-07-20T14:41:19.965770Z"
    },
    "papermill": {
     "duration": 0.058372,
     "end_time": "2022-07-20T14:41:19.969128",
     "exception": false,
     "start_time": "2022-07-20T14:41:19.910756",
     "status": "completed"
    },
    "tags": []
   },
   "outputs": [
    {
     "data": {
      "text/html": [
       "<div>\n",
       "<style scoped>\n",
       "    .dataframe tbody tr th:only-of-type {\n",
       "        vertical-align: middle;\n",
       "    }\n",
       "\n",
       "    .dataframe tbody tr th {\n",
       "        vertical-align: top;\n",
       "    }\n",
       "\n",
       "    .dataframe thead th {\n",
       "        text-align: right;\n",
       "    }\n",
       "</style>\n",
       "<table border=\"1\" class=\"dataframe\">\n",
       "  <thead>\n",
       "    <tr style=\"text-align: right;\">\n",
       "      <th></th>\n",
       "      <th>CryoSleep</th>\n",
       "      <th>Age</th>\n",
       "      <th>RoomService</th>\n",
       "      <th>FoodCourt</th>\n",
       "      <th>ShoppingMall</th>\n",
       "      <th>Spa</th>\n",
       "      <th>VRDeck</th>\n",
       "      <th>Nan_HomePlanet</th>\n",
       "      <th>Nan_CryoSleep</th>\n",
       "      <th>Nan_Cabin</th>\n",
       "      <th>...</th>\n",
       "      <th>Nan_Spa</th>\n",
       "      <th>Nan_VRDeck</th>\n",
       "      <th>Nan_Name</th>\n",
       "      <th>Cabin_Deck</th>\n",
       "      <th>Cabin_Num</th>\n",
       "      <th>Cabin_Side</th>\n",
       "      <th>Home×Dest</th>\n",
       "      <th>Family</th>\n",
       "      <th>SameRoomBinary</th>\n",
       "      <th>Service_Sum</th>\n",
       "    </tr>\n",
       "  </thead>\n",
       "  <tbody>\n",
       "    <tr>\n",
       "      <th>0</th>\n",
       "      <td>0</td>\n",
       "      <td>39.0</td>\n",
       "      <td>0.0</td>\n",
       "      <td>0.0</td>\n",
       "      <td>0.0</td>\n",
       "      <td>0.0</td>\n",
       "      <td>0.0</td>\n",
       "      <td>0</td>\n",
       "      <td>0</td>\n",
       "      <td>0</td>\n",
       "      <td>...</td>\n",
       "      <td>0</td>\n",
       "      <td>0</td>\n",
       "      <td>0</td>\n",
       "      <td>1</td>\n",
       "      <td>0.0</td>\n",
       "      <td>0</td>\n",
       "      <td>5</td>\n",
       "      <td>1551</td>\n",
       "      <td>0</td>\n",
       "      <td>0.0</td>\n",
       "    </tr>\n",
       "    <tr>\n",
       "      <th>1</th>\n",
       "      <td>0</td>\n",
       "      <td>24.0</td>\n",
       "      <td>109.0</td>\n",
       "      <td>9.0</td>\n",
       "      <td>25.0</td>\n",
       "      <td>549.0</td>\n",
       "      <td>44.0</td>\n",
       "      <td>0</td>\n",
       "      <td>0</td>\n",
       "      <td>0</td>\n",
       "      <td>...</td>\n",
       "      <td>0</td>\n",
       "      <td>0</td>\n",
       "      <td>0</td>\n",
       "      <td>5</td>\n",
       "      <td>0.0</td>\n",
       "      <td>1</td>\n",
       "      <td>2</td>\n",
       "      <td>2289</td>\n",
       "      <td>0</td>\n",
       "      <td>736.0</td>\n",
       "    </tr>\n",
       "    <tr>\n",
       "      <th>2</th>\n",
       "      <td>0</td>\n",
       "      <td>58.0</td>\n",
       "      <td>43.0</td>\n",
       "      <td>3576.0</td>\n",
       "      <td>0.0</td>\n",
       "      <td>6715.0</td>\n",
       "      <td>49.0</td>\n",
       "      <td>0</td>\n",
       "      <td>0</td>\n",
       "      <td>0</td>\n",
       "      <td>...</td>\n",
       "      <td>0</td>\n",
       "      <td>0</td>\n",
       "      <td>0</td>\n",
       "      <td>0</td>\n",
       "      <td>0.0</td>\n",
       "      <td>1</td>\n",
       "      <td>5</td>\n",
       "      <td>2153</td>\n",
       "      <td>1</td>\n",
       "      <td>10383.0</td>\n",
       "    </tr>\n",
       "    <tr>\n",
       "      <th>3</th>\n",
       "      <td>0</td>\n",
       "      <td>33.0</td>\n",
       "      <td>0.0</td>\n",
       "      <td>1283.0</td>\n",
       "      <td>371.0</td>\n",
       "      <td>3329.0</td>\n",
       "      <td>193.0</td>\n",
       "      <td>0</td>\n",
       "      <td>0</td>\n",
       "      <td>0</td>\n",
       "      <td>...</td>\n",
       "      <td>0</td>\n",
       "      <td>0</td>\n",
       "      <td>0</td>\n",
       "      <td>0</td>\n",
       "      <td>0.0</td>\n",
       "      <td>1</td>\n",
       "      <td>5</td>\n",
       "      <td>2153</td>\n",
       "      <td>1</td>\n",
       "      <td>5176.0</td>\n",
       "    </tr>\n",
       "    <tr>\n",
       "      <th>4</th>\n",
       "      <td>0</td>\n",
       "      <td>16.0</td>\n",
       "      <td>303.0</td>\n",
       "      <td>70.0</td>\n",
       "      <td>151.0</td>\n",
       "      <td>565.0</td>\n",
       "      <td>2.0</td>\n",
       "      <td>0</td>\n",
       "      <td>0</td>\n",
       "      <td>0</td>\n",
       "      <td>...</td>\n",
       "      <td>0</td>\n",
       "      <td>0</td>\n",
       "      <td>0</td>\n",
       "      <td>5</td>\n",
       "      <td>1.0</td>\n",
       "      <td>1</td>\n",
       "      <td>2</td>\n",
       "      <td>1924</td>\n",
       "      <td>0</td>\n",
       "      <td>1091.0</td>\n",
       "    </tr>\n",
       "    <tr>\n",
       "      <th>...</th>\n",
       "      <td>...</td>\n",
       "      <td>...</td>\n",
       "      <td>...</td>\n",
       "      <td>...</td>\n",
       "      <td>...</td>\n",
       "      <td>...</td>\n",
       "      <td>...</td>\n",
       "      <td>...</td>\n",
       "      <td>...</td>\n",
       "      <td>...</td>\n",
       "      <td>...</td>\n",
       "      <td>...</td>\n",
       "      <td>...</td>\n",
       "      <td>...</td>\n",
       "      <td>...</td>\n",
       "      <td>...</td>\n",
       "      <td>...</td>\n",
       "      <td>...</td>\n",
       "      <td>...</td>\n",
       "      <td>...</td>\n",
       "      <td>...</td>\n",
       "    </tr>\n",
       "    <tr>\n",
       "      <th>12965</th>\n",
       "      <td>1</td>\n",
       "      <td>34.0</td>\n",
       "      <td>0.0</td>\n",
       "      <td>0.0</td>\n",
       "      <td>0.0</td>\n",
       "      <td>0.0</td>\n",
       "      <td>0.0</td>\n",
       "      <td>0</td>\n",
       "      <td>0</td>\n",
       "      <td>0</td>\n",
       "      <td>...</td>\n",
       "      <td>0</td>\n",
       "      <td>0</td>\n",
       "      <td>0</td>\n",
       "      <td>6</td>\n",
       "      <td>1496.0</td>\n",
       "      <td>1</td>\n",
       "      <td>2</td>\n",
       "      <td>1657</td>\n",
       "      <td>0</td>\n",
       "      <td>0.0</td>\n",
       "    </tr>\n",
       "    <tr>\n",
       "      <th>12966</th>\n",
       "      <td>0</td>\n",
       "      <td>42.0</td>\n",
       "      <td>0.0</td>\n",
       "      <td>847.0</td>\n",
       "      <td>17.0</td>\n",
       "      <td>10.0</td>\n",
       "      <td>144.0</td>\n",
       "      <td>0</td>\n",
       "      <td>0</td>\n",
       "      <td>1</td>\n",
       "      <td>...</td>\n",
       "      <td>0</td>\n",
       "      <td>0</td>\n",
       "      <td>0</td>\n",
       "      <td>8</td>\n",
       "      <td>NaN</td>\n",
       "      <td>2</td>\n",
       "      <td>2</td>\n",
       "      <td>1937</td>\n",
       "      <td>0</td>\n",
       "      <td>1018.0</td>\n",
       "    </tr>\n",
       "    <tr>\n",
       "      <th>12967</th>\n",
       "      <td>1</td>\n",
       "      <td>NaN</td>\n",
       "      <td>0.0</td>\n",
       "      <td>0.0</td>\n",
       "      <td>0.0</td>\n",
       "      <td>0.0</td>\n",
       "      <td>0.0</td>\n",
       "      <td>0</td>\n",
       "      <td>0</td>\n",
       "      <td>0</td>\n",
       "      <td>...</td>\n",
       "      <td>0</td>\n",
       "      <td>0</td>\n",
       "      <td>0</td>\n",
       "      <td>3</td>\n",
       "      <td>296.0</td>\n",
       "      <td>0</td>\n",
       "      <td>6</td>\n",
       "      <td>1707</td>\n",
       "      <td>0</td>\n",
       "      <td>0.0</td>\n",
       "    </tr>\n",
       "    <tr>\n",
       "      <th>12968</th>\n",
       "      <td>0</td>\n",
       "      <td>NaN</td>\n",
       "      <td>0.0</td>\n",
       "      <td>2680.0</td>\n",
       "      <td>0.0</td>\n",
       "      <td>0.0</td>\n",
       "      <td>523.0</td>\n",
       "      <td>0</td>\n",
       "      <td>0</td>\n",
       "      <td>0</td>\n",
       "      <td>...</td>\n",
       "      <td>0</td>\n",
       "      <td>0</td>\n",
       "      <td>0</td>\n",
       "      <td>3</td>\n",
       "      <td>297.0</td>\n",
       "      <td>0</td>\n",
       "      <td>9</td>\n",
       "      <td>496</td>\n",
       "      <td>0</td>\n",
       "      <td>3203.0</td>\n",
       "    </tr>\n",
       "    <tr>\n",
       "      <th>12969</th>\n",
       "      <td>1</td>\n",
       "      <td>43.0</td>\n",
       "      <td>0.0</td>\n",
       "      <td>0.0</td>\n",
       "      <td>0.0</td>\n",
       "      <td>0.0</td>\n",
       "      <td>0.0</td>\n",
       "      <td>0</td>\n",
       "      <td>0</td>\n",
       "      <td>0</td>\n",
       "      <td>...</td>\n",
       "      <td>0</td>\n",
       "      <td>0</td>\n",
       "      <td>0</td>\n",
       "      <td>6</td>\n",
       "      <td>1498.0</td>\n",
       "      <td>1</td>\n",
       "      <td>1</td>\n",
       "      <td>1296</td>\n",
       "      <td>0</td>\n",
       "      <td>0.0</td>\n",
       "    </tr>\n",
       "  </tbody>\n",
       "</table>\n",
       "<p>12970 rows × 26 columns</p>\n",
       "</div>"
      ],
      "text/plain": [
       "       CryoSleep   Age  RoomService  FoodCourt  ShoppingMall     Spa  VRDeck  \\\n",
       "0              0  39.0          0.0        0.0           0.0     0.0     0.0   \n",
       "1              0  24.0        109.0        9.0          25.0   549.0    44.0   \n",
       "2              0  58.0         43.0     3576.0           0.0  6715.0    49.0   \n",
       "3              0  33.0          0.0     1283.0         371.0  3329.0   193.0   \n",
       "4              0  16.0        303.0       70.0         151.0   565.0     2.0   \n",
       "...          ...   ...          ...        ...           ...     ...     ...   \n",
       "12965          1  34.0          0.0        0.0           0.0     0.0     0.0   \n",
       "12966          0  42.0          0.0      847.0          17.0    10.0   144.0   \n",
       "12967          1   NaN          0.0        0.0           0.0     0.0     0.0   \n",
       "12968          0   NaN          0.0     2680.0           0.0     0.0   523.0   \n",
       "12969          1  43.0          0.0        0.0           0.0     0.0     0.0   \n",
       "\n",
       "       Nan_HomePlanet  Nan_CryoSleep  Nan_Cabin  ...  Nan_Spa  Nan_VRDeck  \\\n",
       "0                   0              0          0  ...        0           0   \n",
       "1                   0              0          0  ...        0           0   \n",
       "2                   0              0          0  ...        0           0   \n",
       "3                   0              0          0  ...        0           0   \n",
       "4                   0              0          0  ...        0           0   \n",
       "...               ...            ...        ...  ...      ...         ...   \n",
       "12965               0              0          0  ...        0           0   \n",
       "12966               0              0          1  ...        0           0   \n",
       "12967               0              0          0  ...        0           0   \n",
       "12968               0              0          0  ...        0           0   \n",
       "12969               0              0          0  ...        0           0   \n",
       "\n",
       "       Nan_Name  Cabin_Deck  Cabin_Num  Cabin_Side  Home×Dest  Family  \\\n",
       "0             0           1        0.0           0          5    1551   \n",
       "1             0           5        0.0           1          2    2289   \n",
       "2             0           0        0.0           1          5    2153   \n",
       "3             0           0        0.0           1          5    2153   \n",
       "4             0           5        1.0           1          2    1924   \n",
       "...         ...         ...        ...         ...        ...     ...   \n",
       "12965         0           6     1496.0           1          2    1657   \n",
       "12966         0           8        NaN           2          2    1937   \n",
       "12967         0           3      296.0           0          6    1707   \n",
       "12968         0           3      297.0           0          9     496   \n",
       "12969         0           6     1498.0           1          1    1296   \n",
       "\n",
       "       SameRoomBinary  Service_Sum  \n",
       "0                   0          0.0  \n",
       "1                   0        736.0  \n",
       "2                   1      10383.0  \n",
       "3                   1       5176.0  \n",
       "4                   0       1091.0  \n",
       "...               ...          ...  \n",
       "12965               0          0.0  \n",
       "12966               0       1018.0  \n",
       "12967               0          0.0  \n",
       "12968               0       3203.0  \n",
       "12969               0          0.0  \n",
       "\n",
       "[12970 rows x 26 columns]"
      ]
     },
     "execution_count": 24,
     "metadata": {},
     "output_type": "execute_result"
    }
   ],
   "source": [
    "df"
   ]
  },
  {
   "cell_type": "code",
   "execution_count": 25,
   "id": "06dd003e",
   "metadata": {
    "execution": {
     "iopub.execute_input": "2022-07-20T14:41:20.003248Z",
     "iopub.status.busy": "2022-07-20T14:41:20.002829Z",
     "iopub.status.idle": "2022-07-20T14:41:20.006825Z",
     "shell.execute_reply": "2022-07-20T14:41:20.005874Z"
    },
    "papermill": {
     "duration": 0.023601,
     "end_time": "2022-07-20T14:41:20.008789",
     "exception": false,
     "start_time": "2022-07-20T14:41:19.985188",
     "status": "completed"
    },
    "tags": []
   },
   "outputs": [],
   "source": [
    "# clipping"
   ]
  },
  {
   "cell_type": "code",
   "execution_count": 26,
   "id": "1ea34ec0",
   "metadata": {
    "execution": {
     "iopub.execute_input": "2022-07-20T14:41:20.042451Z",
     "iopub.status.busy": "2022-07-20T14:41:20.042061Z",
     "iopub.status.idle": "2022-07-20T14:41:20.046392Z",
     "shell.execute_reply": "2022-07-20T14:41:20.045123Z"
    },
    "papermill": {
     "duration": 0.02372,
     "end_time": "2022-07-20T14:41:20.048477",
     "exception": false,
     "start_time": "2022-07-20T14:41:20.024757",
     "status": "completed"
    },
    "tags": []
   },
   "outputs": [],
   "source": [
    "# binning"
   ]
  },
  {
   "cell_type": "markdown",
   "id": "fe2094b2",
   "metadata": {
    "papermill": {
     "duration": 0.016143,
     "end_time": "2022-07-20T14:41:20.081566",
     "exception": false,
     "start_time": "2022-07-20T14:41:20.065423",
     "status": "completed"
    },
    "tags": []
   },
   "source": [
    "# 学習"
   ]
  },
  {
   "cell_type": "code",
   "execution_count": 27,
   "id": "88d923a2",
   "metadata": {
    "execution": {
     "iopub.execute_input": "2022-07-20T14:41:20.114750Z",
     "iopub.status.busy": "2022-07-20T14:41:20.114367Z",
     "iopub.status.idle": "2022-07-20T14:41:20.203530Z",
     "shell.execute_reply": "2022-07-20T14:41:20.202585Z"
    },
    "papermill": {
     "duration": 0.108814,
     "end_time": "2022-07-20T14:41:20.206169",
     "exception": false,
     "start_time": "2022-07-20T14:41:20.097355",
     "status": "completed"
    },
    "tags": []
   },
   "outputs": [],
   "source": [
    "import matplotlib.pyplot as plt\n",
    "import seaborn as sns\n",
    "from sklearn.model_selection import StratifiedKFold\n",
    "from sklearn.metrics import accuracy_score, f1_score, log_loss"
   ]
  },
  {
   "cell_type": "code",
   "execution_count": 28,
   "id": "19c342d4",
   "metadata": {
    "execution": {
     "iopub.execute_input": "2022-07-20T14:41:20.239529Z",
     "iopub.status.busy": "2022-07-20T14:41:20.239154Z",
     "iopub.status.idle": "2022-07-20T14:41:20.245250Z",
     "shell.execute_reply": "2022-07-20T14:41:20.244526Z"
    },
    "papermill": {
     "duration": 0.024859,
     "end_time": "2022-07-20T14:41:20.247018",
     "exception": false,
     "start_time": "2022-07-20T14:41:20.222159",
     "status": "completed"
    },
    "tags": []
   },
   "outputs": [],
   "source": [
    "train_X = df.iloc[:train.shape[0],]\n",
    "train_y = train[\"Transported\"].astype(int)\n",
    "test = df.iloc[train.shape[0]:,:]"
   ]
  },
  {
   "cell_type": "code",
   "execution_count": 29,
   "id": "92593b42",
   "metadata": {
    "execution": {
     "iopub.execute_input": "2022-07-20T14:41:20.280778Z",
     "iopub.status.busy": "2022-07-20T14:41:20.280370Z",
     "iopub.status.idle": "2022-07-20T14:41:20.305324Z",
     "shell.execute_reply": "2022-07-20T14:41:20.304322Z"
    },
    "papermill": {
     "duration": 0.044931,
     "end_time": "2022-07-20T14:41:20.307951",
     "exception": false,
     "start_time": "2022-07-20T14:41:20.263020",
     "status": "completed"
    },
    "tags": []
   },
   "outputs": [],
   "source": [
    "class LightGBMCV:\n",
    "    def __init__(self, fold, params=None):\n",
    "        if params is None:\n",
    "            self.params = {\n",
    "                \"objective\": \"binary\", \n",
    "                \"learning_rate\": .1,\n",
    "                \"reg_lambda\": .1,\n",
    "                \"reg_alpha\": 0,\n",
    "                \"max_depth\": 5, \n",
    "                \"n_estimators\": 10000, \n",
    "                \"colsample_bytree\": .5, \n",
    "                \"min_child_samples\": 10,\n",
    "                \"subsample_freq\": 3,\n",
    "                \"subsample\": .9,\n",
    "                \"importance_type\": \"gain\", \n",
    "                \"random_state\": 1\n",
    "            }\n",
    "        else:\n",
    "            self.params = params\n",
    "        self.fold = fold\n",
    "    \n",
    "    @property\n",
    "    def models(self):\n",
    "        return self._models\n",
    "    \n",
    "    @property\n",
    "    def pred_array(self):\n",
    "        return self._pred_array\n",
    "    \n",
    "    def fit(self, X, y, early_stopping, score_func, **kwargs):\n",
    "        self._feature_name = X.columns\n",
    "        X, y = X.values, y.values\n",
    "        self._models = []\n",
    "        self._pred_array = np.zeros(len(y), dtype=np.float32)\n",
    "            \n",
    "        cv = self.fold.split(X, y)\n",
    "        for i, (idx_train, idx_valid) in enumerate(cv):\n",
    "            X_train, y_train = X[idx_train], y[idx_train]\n",
    "            X_valid, y_valid = X[idx_valid], y[idx_valid]\n",
    "            \n",
    "            model = lgbm.LGBMModel(**self.params)\n",
    "            model.fit(\n",
    "                X_train,\n",
    "                y_train,\n",
    "                eval_set=[(X_valid, y_valid)],\n",
    "                callbacks=[early_stopping, log_evaluation(period=0, show_stdv=False)]\n",
    "            )\n",
    "            self._models.append(model)\n",
    "            y_pred = model.predict(X_valid, **kwargs)\n",
    "            self._pred_array[idx_valid] = y_pred\n",
    "            if score_func in [accuracy_score, f1_score]:\n",
    "                score = score_func(y_valid, np.where(y_pred >= 0.5, 1, 0), **kwargs)\n",
    "            else:\n",
    "                score = score_func(y_valid, y_pred, **kwargs)\n",
    "            print(f\" - fold{i + 1} - {score: .4f}\")\n",
    "        \n",
    "        if score_func in [accuracy_score, f1_score]:\n",
    "            total_score = score_func(y, np.rint(self._pred_array), **kwargs)\n",
    "        else:\n",
    "            total_score = score_func(y, self._pred_array, **kwargs)\n",
    "        print(f\": {total_score: .4f}\")\n",
    "        \n",
    "    def predict(self, test):\n",
    "        test = test.values\n",
    "        pred = np.array([model.predict(test) for model in self._models])\n",
    "        pred = np.mean(pred, axis=0)\n",
    "        return pred\n",
    "    \n",
    "    @property\n",
    "    def df_feature_importance(self):\n",
    "        return self._df_feature_importance\n",
    "        \n",
    "    def visualize_importance(self, top_num=10):\n",
    "        \n",
    "        fig, ax = plt.subplots(1, 1, figsize=(max(8, 1.2*top_num), 20))\n",
    "        \n",
    "        self._df_feature_importance = pd.DataFrame()\n",
    "        for idx, clf  in enumerate(self._models):\n",
    "            _df = pd.DataFrame()\n",
    "            _df[\"feature_importance\"] = clf.feature_importances_\n",
    "            _df[\"feature_name\"] = self._feature_name\n",
    "            _df[\"fold\"] = idx + 1\n",
    "            self._df_feature_importance = pd.concat([self._df_feature_importance, _df])\n",
    "\n",
    "        order = self._df_feature_importance.groupby(\"feature_name\")[\"feature_importance\"].sum()\\\n",
    "                                .sort_values(ascending=False).index[:top_num]\n",
    "\n",
    "        sns.boxenplot(\n",
    "            x=\"feature_importance\", \n",
    "            y=\"feature_name\", \n",
    "            data=self._df_feature_importance, \n",
    "            order=order, ax=ax\n",
    "        )\n",
    "        ax.grid()\n",
    "        \n",
    "        plt.show()"
   ]
  },
  {
   "cell_type": "markdown",
   "id": "f7625a33",
   "metadata": {
    "papermill": {
     "duration": 0.015976,
     "end_time": "2022-07-20T14:41:20.340223",
     "exception": false,
     "start_time": "2022-07-20T14:41:20.324247",
     "status": "completed"
    },
    "tags": []
   },
   "source": [
    "# fit"
   ]
  },
  {
   "cell_type": "code",
   "execution_count": 30,
   "id": "588542cb",
   "metadata": {
    "execution": {
     "iopub.execute_input": "2022-07-20T14:41:20.375100Z",
     "iopub.status.busy": "2022-07-20T14:41:20.374611Z",
     "iopub.status.idle": "2022-07-20T14:41:20.379680Z",
     "shell.execute_reply": "2022-07-20T14:41:20.378658Z"
    },
    "papermill": {
     "duration": 0.025647,
     "end_time": "2022-07-20T14:41:20.381916",
     "exception": false,
     "start_time": "2022-07-20T14:41:20.356269",
     "status": "completed"
    },
    "tags": []
   },
   "outputs": [],
   "source": [
    "fold = StratifiedKFold(n_splits=5, shuffle=True, random_state=0)\n",
    "model = LightGBMCV(fold=fold)"
   ]
  },
  {
   "cell_type": "code",
   "execution_count": 31,
   "id": "0fdac674",
   "metadata": {
    "execution": {
     "iopub.execute_input": "2022-07-20T14:41:20.416271Z",
     "iopub.status.busy": "2022-07-20T14:41:20.415628Z",
     "iopub.status.idle": "2022-07-20T14:41:22.467679Z",
     "shell.execute_reply": "2022-07-20T14:41:22.466913Z"
    },
    "papermill": {
     "duration": 2.073529,
     "end_time": "2022-07-20T14:41:22.471803",
     "exception": false,
     "start_time": "2022-07-20T14:41:20.398274",
     "status": "completed"
    },
    "tags": []
   },
   "outputs": [
    {
     "name": "stdout",
     "output_type": "stream",
     "text": [
      " - fold1 -  0.8212\n",
      " - fold2 -  0.8005\n",
      " - fold3 -  0.8097\n",
      " - fold4 -  0.8049\n",
      " - fold5 -  0.8147\n",
      ":  0.8102\n",
      "CPU times: user 7.97 s, sys: 139 ms, total: 8.11 s\n",
      "Wall time: 2.05 s\n"
     ]
    }
   ],
   "source": [
    "%%time\n",
    "model.fit(\n",
    "    train_X, \n",
    "    train_y, \n",
    "    early_stopping=early_stopping(100, verbose=False),\n",
    "    score_func=accuracy_score\n",
    ")"
   ]
  },
  {
   "cell_type": "code",
   "execution_count": 32,
   "id": "2a54e76e",
   "metadata": {
    "execution": {
     "iopub.execute_input": "2022-07-20T14:41:22.508061Z",
     "iopub.status.busy": "2022-07-20T14:41:22.507673Z",
     "iopub.status.idle": "2022-07-20T14:41:23.057484Z",
     "shell.execute_reply": "2022-07-20T14:41:23.056459Z"
    },
    "papermill": {
     "duration": 0.569614,
     "end_time": "2022-07-20T14:41:23.059796",
     "exception": false,
     "start_time": "2022-07-20T14:41:22.490182",
     "status": "completed"
    },
    "tags": []
   },
   "outputs": [
    {
     "data": {
      "image/png": "[encoded data removed]",
      "text/plain": [
       "<Figure size 1000x600 with 1 Axes>"
      ]
     },
     "metadata": {},
     "output_type": "display_data"
    }
   ],
   "source": [
    "predict_prob = model.predict(test)\n",
    "\n",
    "fig, ax = plt.subplots(1, 1, figsize=(10, 6))\n",
    "sns.histplot(x=model.pred_array, bins=50, alpha=0.5, ax=ax, stat=\"density\", label=\"Out Of Fold (Train)\", color=\"tab:blue\")\n",
    "sns.histplot(x=predict_prob, bins=50, alpha=0.5, ax=ax, stat=\"density\", label=\"Test\", color=\"tab:red\")\n",
    "\n",
    "ax.set_title(\"Probability Density\")\n",
    "ax.legend()\n",
    "plt.show()"
   ]
  },
  {
   "cell_type": "code",
   "execution_count": 33,
   "id": "25a4aba1",
   "metadata": {
    "execution": {
     "iopub.execute_input": "2022-07-20T14:41:23.095554Z",
     "iopub.status.busy": "2022-07-20T14:41:23.094750Z",
     "iopub.status.idle": "2022-07-20T14:41:23.890055Z",
     "shell.execute_reply": "2022-07-20T14:41:23.888558Z"
    },
    "papermill": {
     "duration": 0.815986,
     "end_time": "2022-07-20T14:41:23.892664",
     "exception": false,
     "start_time": "2022-07-20T14:41:23.076678",
     "status": "completed"
    },
    "tags": []
   },
   "outputs": [
    {
     "data": {
      "image/png": "[encoded data removed]",
      "text/plain": [
       "<Figure size 3000x2000 with 1 Axes>"
      ]
     },
     "metadata": {},
     "output_type": "display_data"
    }
   ],
   "source": [
    "model.visualize_importance(top_num=25)"
   ]
  },
  {
   "cell_type": "code",
   "execution_count": 34,
   "id": "73c125c9",
   "metadata": {
    "execution": {
     "iopub.execute_input": "2022-07-20T14:41:23.932981Z",
     "iopub.status.busy": "2022-07-20T14:41:23.932462Z",
     "iopub.status.idle": "2022-07-20T14:41:23.938088Z",
     "shell.execute_reply": "2022-07-20T14:41:23.937109Z"
    },
    "papermill": {
     "duration": 0.028204,
     "end_time": "2022-07-20T14:41:23.940159",
     "exception": false,
     "start_time": "2022-07-20T14:41:23.911955",
     "status": "completed"
    },
    "tags": []
   },
   "outputs": [
    {
     "data": {
      "text/plain": [
       "array([0.65180789, 0.01798574, 0.98474345, ..., 0.94212644, 0.81363217,\n",
       "       0.64050613])"
      ]
     },
     "execution_count": 34,
     "metadata": {},
     "output_type": "execute_result"
    }
   ],
   "source": [
    "predict_prob"
   ]
  },
  {
   "cell_type": "code",
   "execution_count": 35,
   "id": "6a1af226",
   "metadata": {
    "execution": {
     "iopub.execute_input": "2022-07-20T14:41:23.979162Z",
     "iopub.status.busy": "2022-07-20T14:41:23.978494Z",
     "iopub.status.idle": "2022-07-20T14:41:23.982174Z",
     "shell.execute_reply": "2022-07-20T14:41:23.981503Z"
    },
    "papermill": {
     "duration": 0.025361,
     "end_time": "2022-07-20T14:41:23.983999",
     "exception": false,
     "start_time": "2022-07-20T14:41:23.958638",
     "status": "completed"
    },
    "tags": []
   },
   "outputs": [],
   "source": [
    "# spaceship_tiatanic.competition_submit(\n",
    "#     submit.assign(Transported=np.where(predict_prob >= 0.5, True, False)),\n",
    "#     message=\"cv; StratifiedKfold(5) features; add CabinCount DestinationFromDepature AgeByHomePlanetMean AgeByHomePlanetStd LuxuryBilledAmount LuxuryBilledCount, without VIP from Baseline\",\n",
    "#     file_name=\"7th_sub\",\n",
    "#     path=\"submission\"\n",
    "# )"
   ]
  },
  {
   "cell_type": "code",
   "execution_count": 36,
   "id": "6153c6e4",
   "metadata": {
    "execution": {
     "iopub.execute_input": "2022-07-20T14:41:24.023922Z",
     "iopub.status.busy": "2022-07-20T14:41:24.023268Z",
     "iopub.status.idle": "2022-07-20T14:41:24.039834Z",
     "shell.execute_reply": "2022-07-20T14:41:24.039102Z"
    },
    "papermill": {
     "duration": 0.039793,
     "end_time": "2022-07-20T14:41:24.042103",
     "exception": false,
     "start_time": "2022-07-20T14:41:24.002310",
     "status": "completed"
    },
    "tags": []
   },
   "outputs": [],
   "source": [
    "sub = submit.assign(Transported=np.where(predict_prob >= 0.5, True, False))\n",
    "\n",
    "sub.to_csv(\"spaceship_StratifiedKFold_5-fold_CV_Yuiki's_Model_Service_fullNaN.csv\", index=False)"
   ]
  },
  {
   "cell_type": "markdown",
   "id": "85f5321a",
   "metadata": {
    "papermill": {
     "duration": 0.018109,
     "end_time": "2022-07-20T14:41:24.078775",
     "exception": false,
     "start_time": "2022-07-20T14:41:24.060666",
     "status": "completed"
    },
    "tags": []
   },
   "source": [
    "# 課題\n",
    "1. trainとtestをdfでまとめて特徴量を作る\n",
    "2. for分を減らして実行速度上げる\n",
    "3. "
   ]
  }
 ],
 "metadata": {
  "kernelspec": {
   "display_name": "Python 3",
   "language": "python",
   "name": "python3"
  },
  "language_info": {
   "codemirror_mode": {
    "name": "ipython",
    "version": 3
   },
   "file_extension": ".py",
   "mimetype": "text/x-python",
   "name": "python",
   "nbconvert_exporter": "python",
   "pygments_lexer": "ipython3",
   "version": "3.7.12"
  },
  "papermill": {
   "default_parameters": {},
   "duration": 52.866138,
   "end_time": "2022-07-20T14:41:25.627928",
   "environment_variables": {},
   "exception": null,
   "input_path": "__notebook__.ipynb",
   "output_path": "__notebook__.ipynb",
   "parameters": {},
   "start_time": "2022-07-20T14:40:32.761790",
   "version": "2.3.4"
  },
  "widgets": {
   "application/vnd.jupyter.widget-state+json": {
    "state": {
     "0af367a67e7c46f28feeb57a7cb22735": {
      "model_module": "@jupyter-widgets/controls",
      "model_module_version": "1.5.0",
      "model_name": "ProgressStyleModel",
      "state": {
       "_model_module": "@jupyter-widgets/controls",
       "_model_module_version": "1.5.0",
       "_model_name": "ProgressStyleModel",
       "_view_count": null,
       "_view_module": "@jupyter-widgets/base",
       "_view_module_version": "1.2.0",
       "_view_name": "StyleView",
       "bar_color": null,
       "description_width": ""
      }
     },
     "221ecc5d21a04fb0a4c3eba5c6bf1e4c": {
      "model_module": "@jupyter-widgets/controls",
      "model_module_version": "1.5.0",
      "model_name": "DescriptionStyleModel",
      "state": {
       "_model_module": "@jupyter-widgets/controls",
       "_model_module_version": "1.5.0",
       "_model_name": "DescriptionStyleModel",
       "_view_count": null,
       "_view_module": "@jupyter-widgets/base",
       "_view_module_version": "1.2.0",
       "_view_name": "StyleView",
       "description_width": ""
      }
     },
     "337bb9d02d2a4380ad76090c6c42f1ed": {
      "model_module": "@jupyter-widgets/base",
      "model_module_version": "1.2.0",
      "model_name": "LayoutModel",
      "state": {
       "_model_module": "@jupyter-widgets/base",
       "_model_module_version": "1.2.0",
       "_model_name": "LayoutModel",
       "_view_count": null,
       "_view_module": "@jupyter-widgets/base",
       "_view_module_version": "1.2.0",
       "_view_name": "LayoutView",
       "align_content": null,
       "align_items": null,
       "align_self": null,
       "border": null,
       "bottom": null,
       "display": null,
       "flex": "2",
       "flex_flow": null,
       "grid_area": null,
       "grid_auto_columns": null,
       "grid_auto_flow": null,
       "grid_auto_rows": null,
       "grid_column": null,
       "grid_gap": null,
       "grid_row": null,
       "grid_template_areas": null,
       "grid_template_columns": null,
       "grid_template_rows": null,
       "height": null,
       "justify_content": null,
       "justify_items": null,
       "left": null,
       "margin": null,
       "max_height": null,
       "max_width": null,
       "min_height": null,
       "min_width": null,
       "object_fit": null,
       "object_position": null,
       "order": null,
       "overflow": null,
       "overflow_x": null,
       "overflow_y": null,
       "padding": null,
       "right": null,
       "top": null,
       "visibility": null,
       "width": null
      }
     },
     "37ab173974dd46dcabfc53a9156361a4": {
      "model_module": "@jupyter-widgets/controls",
      "model_module_version": "1.5.0",
      "model_name": "ProgressStyleModel",
      "state": {
       "_model_module": "@jupyter-widgets/controls",
       "_model_module_version": "1.5.0",
       "_model_name": "ProgressStyleModel",
       "_view_count": null,
       "_view_module": "@jupyter-widgets/base",
       "_view_module_version": "1.2.0",
       "_view_name": "StyleView",
       "bar_color": null,
       "description_width": ""
      }
     },
     "4b86bb7c46ac48b38f6278965d90916b": {
      "model_module": "@jupyter-widgets/controls",
      "model_module_version": "1.5.0",
      "model_name": "HBoxModel",
      "state": {
       "_dom_classes": [],
       "_model_module": "@jupyter-widgets/controls",
       "_model_module_version": "1.5.0",
       "_model_name": "HBoxModel",
       "_view_count": null,
       "_view_module": "@jupyter-widgets/controls",
       "_view_module_version": "1.5.0",
       "_view_name": "HBoxView",
       "box_style": "",
       "children": [
        "IPY_MODEL_57ca3e16ac7044458c9c47f8c2a9e460",
        "IPY_MODEL_d7124dc5b5bc41998c52dc556dc7ac99",
        "IPY_MODEL_de52dc812a63400c89f42f9085b56fd9"
       ],
       "layout": "IPY_MODEL_a015b0786469466f8f64de7fa00535b7"
      }
     },
     "57ca3e16ac7044458c9c47f8c2a9e460": {
      "model_module": "@jupyter-widgets/controls",
      "model_module_version": "1.5.0",
      "model_name": "HTMLModel",
      "state": {
       "_dom_classes": [],
       "_model_module": "@jupyter-widgets/controls",
       "_model_module_version": "1.5.0",
       "_model_name": "HTMLModel",
       "_view_count": null,
       "_view_module": "@jupyter-widgets/controls",
       "_view_module_version": "1.5.0",
       "_view_name": "HTMLView",
       "description": "",
       "description_tooltip": null,
       "layout": "IPY_MODEL_ae9529a2c0124e7d93711769e36b355c",
       "placeholder": "​",
       "style": "IPY_MODEL_65306fb047764272be3c0ba40ffc66dd",
       "value": "Done! Use &#x27;show&#x27; commands to display/save.   "
      }
     },
     "65306fb047764272be3c0ba40ffc66dd": {
      "model_module": "@jupyter-widgets/controls",
      "model_module_version": "1.5.0",
      "model_name": "DescriptionStyleModel",
      "state": {
       "_model_module": "@jupyter-widgets/controls",
       "_model_module_version": "1.5.0",
       "_model_name": "DescriptionStyleModel",
       "_view_count": null,
       "_view_module": "@jupyter-widgets/base",
       "_view_module_version": "1.2.0",
       "_view_name": "StyleView",
       "description_width": ""
      }
     },
     "92c7c9ee2cab49269be187c78c938411": {
      "model_module": "@jupyter-widgets/controls",
      "model_module_version": "1.5.0",
      "model_name": "HTMLModel",
      "state": {
       "_dom_classes": [],
       "_model_module": "@jupyter-widgets/controls",
       "_model_module_version": "1.5.0",
       "_model_name": "HTMLModel",
       "_view_count": null,
       "_view_module": "@jupyter-widgets/controls",
       "_view_module_version": "1.5.0",
       "_view_name": "HTMLView",
       "description": "",
       "description_tooltip": null,
       "layout": "IPY_MODEL_c225e76354e84f23a8b9e8c631cd5ea3",
       "placeholder": "​",
       "style": "IPY_MODEL_c166753e3ab94956ae604da355c79475",
       "value": "Done! Use &#x27;show&#x27; commands to display/save.   "
      }
     },
     "9891ac549acf47ab90ea912e3c069dcb": {
      "model_module": "@jupyter-widgets/controls",
      "model_module_version": "1.5.0",
      "model_name": "FloatProgressModel",
      "state": {
       "_dom_classes": [],
       "_model_module": "@jupyter-widgets/controls",
       "_model_module_version": "1.5.0",
       "_model_name": "FloatProgressModel",
       "_view_count": null,
       "_view_module": "@jupyter-widgets/controls",
       "_view_module_version": "1.5.0",
       "_view_name": "ProgressView",
       "bar_style": "success",
       "description": "",
       "description_tooltip": null,
       "layout": "IPY_MODEL_ecd10430331b421cbebc86a2de731c66",
       "max": 1.0,
       "min": 0.0,
       "orientation": "horizontal",
       "style": "IPY_MODEL_0af367a67e7c46f28feeb57a7cb22735",
       "value": 1.0
      }
     },
     "a015b0786469466f8f64de7fa00535b7": {
      "model_module": "@jupyter-widgets/base",
      "model_module_version": "1.2.0",
      "model_name": "LayoutModel",
      "state": {
       "_model_module": "@jupyter-widgets/base",
       "_model_module_version": "1.2.0",
       "_model_name": "LayoutModel",
       "_view_count": null,
       "_view_module": "@jupyter-widgets/base",
       "_view_module_version": "1.2.0",
       "_view_name": "LayoutView",
       "align_content": null,
       "align_items": null,
       "align_self": null,
       "border": null,
       "bottom": null,
       "display": "inline-flex",
       "flex": null,
       "flex_flow": "row wrap",
       "grid_area": null,
       "grid_auto_columns": null,
       "grid_auto_flow": null,
       "grid_auto_rows": null,
       "grid_column": null,
       "grid_gap": null,
       "grid_row": null,
       "grid_template_areas": null,
       "grid_template_columns": null,
       "grid_template_rows": null,
       "height": null,
       "justify_content": null,
       "justify_items": null,
       "left": null,
       "margin": null,
       "max_height": null,
       "max_width": null,
       "min_height": null,
       "min_width": null,
       "object_fit": null,
       "object_position": null,
       "order": null,
       "overflow": null,
       "overflow_x": null,
       "overflow_y": null,
       "padding": null,
       "right": null,
       "top": null,
       "visibility": null,
       "width": "100%"
      }
     },
     "a59ac6414cdd487892e12bdba7f5abf4": {
      "model_module": "@jupyter-widgets/base",
      "model_module_version": "1.2.0",
      "model_name": "LayoutModel",
      "state": {
       "_model_module": "@jupyter-widgets/base",
       "_model_module_version": "1.2.0",
       "_model_name": "LayoutModel",
       "_view_count": null,
       "_view_module": "@jupyter-widgets/base",
       "_view_module_version": "1.2.0",
       "_view_name": "LayoutView",
       "align_content": null,
       "align_items": null,
       "align_self": null,
       "border": null,
       "bottom": null,
       "display": null,
       "flex": null,
       "flex_flow": null,
       "grid_area": null,
       "grid_auto_columns": null,
       "grid_auto_flow": null,
       "grid_auto_rows": null,
       "grid_column": null,
       "grid_gap": null,
       "grid_row": null,
       "grid_template_areas": null,
       "grid_template_columns": null,
       "grid_template_rows": null,
       "height": null,
       "justify_content": null,
       "justify_items": null,
       "left": null,
       "margin": null,
       "max_height": null,
       "max_width": null,
       "min_height": null,
       "min_width": null,
       "object_fit": null,
       "object_position": null,
       "order": null,
       "overflow": null,
       "overflow_x": null,
       "overflow_y": null,
       "padding": null,
       "right": null,
       "top": null,
       "visibility": null,
       "width": null
      }
     },
     "ae9529a2c0124e7d93711769e36b355c": {
      "model_module": "@jupyter-widgets/base",
      "model_module_version": "1.2.0",
      "model_name": "LayoutModel",
      "state": {
       "_model_module": "@jupyter-widgets/base",
       "_model_module_version": "1.2.0",
       "_model_name": "LayoutModel",
       "_view_count": null,
       "_view_module": "@jupyter-widgets/base",
       "_view_module_version": "1.2.0",
       "_view_name": "LayoutView",
       "align_content": null,
       "align_items": null,
       "align_self": null,
       "border": null,
       "bottom": null,
       "display": null,
       "flex": null,
       "flex_flow": null,
       "grid_area": null,
       "grid_auto_columns": null,
       "grid_auto_flow": null,
       "grid_auto_rows": null,
       "grid_column": null,
       "grid_gap": null,
       "grid_row": null,
       "grid_template_areas": null,
       "grid_template_columns": null,
       "grid_template_rows": null,
       "height": null,
       "justify_content": null,
       "justify_items": null,
       "left": null,
       "margin": null,
       "max_height": null,
       "max_width": null,
       "min_height": null,
       "min_width": null,
       "object_fit": null,
       "object_position": null,
       "order": null,
       "overflow": null,
       "overflow_x": null,
       "overflow_y": null,
       "padding": null,
       "right": null,
       "top": null,
       "visibility": null,
       "width": null
      }
     },
     "c166753e3ab94956ae604da355c79475": {
      "model_module": "@jupyter-widgets/controls",
      "model_module_version": "1.5.0",
      "model_name": "DescriptionStyleModel",
      "state": {
       "_model_module": "@jupyter-widgets/controls",
       "_model_module_version": "1.5.0",
       "_model_name": "DescriptionStyleModel",
       "_view_count": null,
       "_view_module": "@jupyter-widgets/base",
       "_view_module_version": "1.2.0",
       "_view_name": "StyleView",
       "description_width": ""
      }
     },
     "c225e76354e84f23a8b9e8c631cd5ea3": {
      "model_module": "@jupyter-widgets/base",
      "model_module_version": "1.2.0",
      "model_name": "LayoutModel",
      "state": {
       "_model_module": "@jupyter-widgets/base",
       "_model_module_version": "1.2.0",
       "_model_name": "LayoutModel",
       "_view_count": null,
       "_view_module": "@jupyter-widgets/base",
       "_view_module_version": "1.2.0",
       "_view_name": "LayoutView",
       "align_content": null,
       "align_items": null,
       "align_self": null,
       "border": null,
       "bottom": null,
       "display": null,
       "flex": null,
       "flex_flow": null,
       "grid_area": null,
       "grid_auto_columns": null,
       "grid_auto_flow": null,
       "grid_auto_rows": null,
       "grid_column": null,
       "grid_gap": null,
       "grid_row": null,
       "grid_template_areas": null,
       "grid_template_columns": null,
       "grid_template_rows": null,
       "height": null,
       "justify_content": null,
       "justify_items": null,
       "left": null,
       "margin": null,
       "max_height": null,
       "max_width": null,
       "min_height": null,
       "min_width": null,
       "object_fit": null,
       "object_position": null,
       "order": null,
       "overflow": null,
       "overflow_x": null,
       "overflow_y": null,
       "padding": null,
       "right": null,
       "top": null,
       "visibility": null,
       "width": null
      }
     },
     "d07d8104e88243b1a1ac850308e635ce": {
      "model_module": "@jupyter-widgets/controls",
      "model_module_version": "1.5.0",
      "model_name": "HBoxModel",
      "state": {
       "_dom_classes": [],
       "_model_module": "@jupyter-widgets/controls",
       "_model_module_version": "1.5.0",
       "_model_name": "HBoxModel",
       "_view_count": null,
       "_view_module": "@jupyter-widgets/controls",
       "_view_module_version": "1.5.0",
       "_view_name": "HBoxView",
       "box_style": "",
       "children": [
        "IPY_MODEL_92c7c9ee2cab49269be187c78c938411",
        "IPY_MODEL_9891ac549acf47ab90ea912e3c069dcb",
        "IPY_MODEL_fbd68afa6ae44bfcb53901a3091a0bdc"
       ],
       "layout": "IPY_MODEL_e41de115dc3140fb907789afff2c8ba0"
      }
     },
     "d0fd03d45075436eb47d97f3ae0e0e52": {
      "model_module": "@jupyter-widgets/base",
      "model_module_version": "1.2.0",
      "model_name": "LayoutModel",
      "state": {
       "_model_module": "@jupyter-widgets/base",
       "_model_module_version": "1.2.0",
       "_model_name": "LayoutModel",
       "_view_count": null,
       "_view_module": "@jupyter-widgets/base",
       "_view_module_version": "1.2.0",
       "_view_name": "LayoutView",
       "align_content": null,
       "align_items": null,
       "align_self": null,
       "border": null,
       "bottom": null,
       "display": null,
       "flex": null,
       "flex_flow": null,
       "grid_area": null,
       "grid_auto_columns": null,
       "grid_auto_flow": null,
       "grid_auto_rows": null,
       "grid_column": null,
       "grid_gap": null,
       "grid_row": null,
       "grid_template_areas": null,
       "grid_template_columns": null,
       "grid_template_rows": null,
       "height": null,
       "justify_content": null,
       "justify_items": null,
       "left": null,
       "margin": null,
       "max_height": null,
       "max_width": null,
       "min_height": null,
       "min_width": null,
       "object_fit": null,
       "object_position": null,
       "order": null,
       "overflow": null,
       "overflow_x": null,
       "overflow_y": null,
       "padding": null,
       "right": null,
       "top": null,
       "visibility": null,
       "width": null
      }
     },
     "d7124dc5b5bc41998c52dc556dc7ac99": {
      "model_module": "@jupyter-widgets/controls",
      "model_module_version": "1.5.0",
      "model_name": "FloatProgressModel",
      "state": {
       "_dom_classes": [],
       "_model_module": "@jupyter-widgets/controls",
       "_model_module_version": "1.5.0",
       "_model_name": "FloatProgressModel",
       "_view_count": null,
       "_view_module": "@jupyter-widgets/controls",
       "_view_module_version": "1.5.0",
       "_view_name": "ProgressView",
       "bar_style": "success",
       "description": "",
       "description_tooltip": null,
       "layout": "IPY_MODEL_337bb9d02d2a4380ad76090c6c42f1ed",
       "max": 1.0,
       "min": 0.0,
       "orientation": "horizontal",
       "style": "IPY_MODEL_37ab173974dd46dcabfc53a9156361a4",
       "value": 1.0
      }
     },
     "de52dc812a63400c89f42f9085b56fd9": {
      "model_module": "@jupyter-widgets/controls",
      "model_module_version": "1.5.0",
      "model_name": "HTMLModel",
      "state": {
       "_dom_classes": [],
       "_model_module": "@jupyter-widgets/controls",
       "_model_module_version": "1.5.0",
       "_model_name": "HTMLModel",
       "_view_count": null,
       "_view_module": "@jupyter-widgets/controls",
       "_view_module_version": "1.5.0",
       "_view_name": "HTMLView",
       "description": "",
       "description_tooltip": null,
       "layout": "IPY_MODEL_d0fd03d45075436eb47d97f3ae0e0e52",
       "placeholder": "​",
       "style": "IPY_MODEL_fbf6e6caed624d37be8a9b4be01ae78d",
       "value": " [100%]   00:00 -&gt; (00:00 left)"
      }
     },
     "e41de115dc3140fb907789afff2c8ba0": {
      "model_module": "@jupyter-widgets/base",
      "model_module_version": "1.2.0",
      "model_name": "LayoutModel",
      "state": {
       "_model_module": "@jupyter-widgets/base",
       "_model_module_version": "1.2.0",
       "_model_name": "LayoutModel",
       "_view_count": null,
       "_view_module": "@jupyter-widgets/base",
       "_view_module_version": "1.2.0",
       "_view_name": "LayoutView",
       "align_content": null,
       "align_items": null,
       "align_self": null,
       "border": null,
       "bottom": null,
       "display": "inline-flex",
       "flex": null,
       "flex_flow": "row wrap",
       "grid_area": null,
       "grid_auto_columns": null,
       "grid_auto_flow": null,
       "grid_auto_rows": null,
       "grid_column": null,
       "grid_gap": null,
       "grid_row": null,
       "grid_template_areas": null,
       "grid_template_columns": null,
       "grid_template_rows": null,
       "height": null,
       "justify_content": null,
       "justify_items": null,
       "left": null,
       "margin": null,
       "max_height": null,
       "max_width": null,
       "min_height": null,
       "min_width": null,
       "object_fit": null,
       "object_position": null,
       "order": null,
       "overflow": null,
       "overflow_x": null,
       "overflow_y": null,
       "padding": null,
       "right": null,
       "top": null,
       "visibility": null,
       "width": "100%"
      }
     },
     "ecd10430331b421cbebc86a2de731c66": {
      "model_module": "@jupyter-widgets/base",
      "model_module_version": "1.2.0",
      "model_name": "LayoutModel",
      "state": {
       "_model_module": "@jupyter-widgets/base",
       "_model_module_version": "1.2.0",
       "_model_name": "LayoutModel",
       "_view_count": null,
       "_view_module": "@jupyter-widgets/base",
       "_view_module_version": "1.2.0",
       "_view_name": "LayoutView",
       "align_content": null,
       "align_items": null,
       "align_self": null,
       "border": null,
       "bottom": null,
       "display": null,
       "flex": "2",
       "flex_flow": null,
       "grid_area": null,
       "grid_auto_columns": null,
       "grid_auto_flow": null,
       "grid_auto_rows": null,
       "grid_column": null,
       "grid_gap": null,
       "grid_row": null,
       "grid_template_areas": null,
       "grid_template_columns": null,
       "grid_template_rows": null,
       "height": null,
       "justify_content": null,
       "justify_items": null,
       "left": null,
       "margin": null,
       "max_height": null,
       "max_width": null,
       "min_height": null,
       "min_width": null,
       "object_fit": null,
       "object_position": null,
       "order": null,
       "overflow": null,
       "overflow_x": null,
       "overflow_y": null,
       "padding": null,
       "right": null,
       "top": null,
       "visibility": null,
       "width": null
      }
     },
     "fbd68afa6ae44bfcb53901a3091a0bdc": {
      "model_module": "@jupyter-widgets/controls",
      "model_module_version": "1.5.0",
      "model_name": "HTMLModel",
      "state": {
       "_dom_classes": [],
       "_model_module": "@jupyter-widgets/controls",
       "_model_module_version": "1.5.0",
       "_model_name": "HTMLModel",
       "_view_count": null,
       "_view_module": "@jupyter-widgets/controls",
       "_view_module_version": "1.5.0",
       "_view_name": "HTMLView",
       "description": "",
       "description_tooltip": null,
       "layout": "IPY_MODEL_a59ac6414cdd487892e12bdba7f5abf4",
       "placeholder": "​",
       "style": "IPY_MODEL_221ecc5d21a04fb0a4c3eba5c6bf1e4c",
       "value": " [100%]   00:01 -&gt; (00:00 left)"
      }
     },
     "fbf6e6caed624d37be8a9b4be01ae78d": {
      "model_module": "@jupyter-widgets/controls",
      "model_module_version": "1.5.0",
      "model_name": "DescriptionStyleModel",
      "state": {
       "_model_module": "@jupyter-widgets/controls",
       "_model_module_version": "1.5.0",
       "_model_name": "DescriptionStyleModel",
       "_view_count": null,
       "_view_module": "@jupyter-widgets/base",
       "_view_module_version": "1.2.0",
       "_view_name": "StyleView",
       "description_width": ""
      }
     }
    },
    "version_major": 2,
    "version_minor": 0
   }
  }
 },
 "nbformat": 4,
 "nbformat_minor": 5
}

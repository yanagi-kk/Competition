{
  "cells": [
    {
      "cell_type": "code",
      "source": [
        "from google.colab import drive\n",
        "drive.mount('/content/drive')"
      ],
      "metadata": {
        "colab": {
          "base_uri": "https://localhost:8080/"
        },
        "id": "_RxjjA84xwU-",
        "outputId": "3830fc34-d240-4456-ce82-183498fd7826"
      },
      "id": "_RxjjA84xwU-",
      "execution_count": null,
      "outputs": [
        {
          "output_type": "stream",
          "name": "stdout",
          "text": [
            "Drive already mounted at /content/drive; to attempt to forcibly remount, call drive.mount(\"/content/drive\", force_remount=True).\n"
          ]
        }
      ]
    },
    {
      "cell_type": "markdown",
      "source": [
        "# PIP"
      ],
      "metadata": {
        "id": "tzZrZjShI7M3"
      },
      "id": "tzZrZjShI7M3"
    },
    {
      "cell_type": "code",
      "source": [
        "!pip install -qqq transformers\n",
        "!pip install -qqq sentencepiece"
      ],
      "metadata": {
        "id": "LSBHStgsxYaK"
      },
      "id": "LSBHStgsxYaK",
      "execution_count": null,
      "outputs": []
    },
    {
      "cell_type": "markdown",
      "source": [
        "# IMPORT"
      ],
      "metadata": {
        "id": "hzHYCSSuI8ts"
      },
      "id": "hzHYCSSuI8ts"
    },
    {
      "cell_type": "code",
      "execution_count": null,
      "id": "be848e23",
      "metadata": {
        "execution": {
          "iopub.execute_input": "2022-05-25T10:42:51.340385Z",
          "iopub.status.busy": "2022-05-25T10:42:51.339991Z",
          "iopub.status.idle": "2022-05-25T10:42:58.919426Z",
          "shell.execute_reply": "2022-05-25T10:42:58.918669Z"
        },
        "papermill": {
          "duration": 7.599179,
          "end_time": "2022-05-25T10:42:58.921676",
          "exception": false,
          "start_time": "2022-05-25T10:42:51.322497",
          "status": "completed"
        },
        "tags": [],
        "id": "be848e23"
      },
      "outputs": [],
      "source": [
        "import os\n",
        "import gc\n",
        "import cv2\n",
        "import copy\n",
        "import time\n",
        "import random\n",
        "import joblib\n",
        "import re\n",
        "\n",
        "# For data manipulation\n",
        "import numpy as np\n",
        "import pandas as pd\n",
        "\n",
        "# Pytorch Imports\n",
        "import torch\n",
        "import torch.nn as nn\n",
        "import torch.nn.functional as F\n",
        "from torch.utils.data import Dataset, DataLoader\n",
        "\n",
        "# For Transformer Models\n",
        "from transformers import AutoTokenizer, AutoModel, AutoConfig\n",
        "from transformers import DataCollatorWithPadding\n",
        "\n",
        "# Utils\n",
        "from tqdm import tqdm\n",
        "\n",
        "# For descriptive error messages\n",
        "os.environ['CUDA_LAUNCH_BLOCKING'] = \"1\""
      ]
    },
    {
      "cell_type": "markdown",
      "source": [
        "# CONFIG"
      ],
      "metadata": {
        "id": "4EQVjehII_MC"
      },
      "id": "4EQVjehII_MC"
    },
    {
      "cell_type": "code",
      "execution_count": null,
      "id": "ac07b3b2",
      "metadata": {
        "execution": {
          "iopub.execute_input": "2022-05-25T10:42:59.033067Z",
          "iopub.status.busy": "2022-05-25T10:42:59.032443Z",
          "iopub.status.idle": "2022-05-25T10:42:59.806003Z",
          "shell.execute_reply": "2022-05-25T10:42:59.805204Z"
        },
        "papermill": {
          "duration": 0.793056,
          "end_time": "2022-05-25T10:42:59.808350",
          "exception": false,
          "start_time": "2022-05-25T10:42:59.015294",
          "status": "completed"
        },
        "tags": [],
        "id": "ac07b3b2",
        "colab": {
          "base_uri": "https://localhost:8080/"
        },
        "outputId": "99e87d7f-37f8-4e5b-886f-33332b806742"
      },
      "outputs": [
        {
          "output_type": "stream",
          "name": "stderr",
          "text": [
            "Special tokens have been added in the vocabulary, make sure the associated word embeddings are fine-tuned or trained.\n",
            "/usr/local/lib/python3.7/dist-packages/transformers/convert_slow_tokenizer.py:435: UserWarning: The sentencepiece tokenizer that you are converting to a fast tokenizer uses the byte fallback option which is not implemented in the fast tokenizers. In practice this means that the fast version of the tokenizer can produce unknown tokens whereas the sentencepiece version would have converted these unknown tokens into a sequence of byte tokens matching the original piece of text.\n",
            "  \"The sentencepiece tokenizer that you are converting to a fast tokenizer uses the byte fallback option\"\n",
            "Special tokens have been added in the vocabulary, make sure the associated word embeddings are fine-tuned or trained.\n"
          ]
        }
      ],
      "source": [
        "CONFIG = dict(\n",
        "    seed = 42,\n",
        "    model_name = \"microsoft/deberta-v3-large\",\n",
        "    test_batch_size = 16,\n",
        "    max_length = 512,\n",
        "    num_classes = 2,\n",
        "    device = torch.device(\"cuda:0\" if torch.cuda.is_available() else \"cpu\"),\n",
        "    exp = \"002\",\n",
        "    n_fold = 4,\n",
        "    BEST_F1 = False,\n",
        ")\n",
        "\n",
        "CONFIG[\"tokenizer\"] = AutoTokenizer.from_pretrained(CONFIG['model_name'])"
      ]
    },
    {
      "cell_type": "code",
      "source": [
        "# l = ['</em>',\n",
        "#  '<span>',\n",
        "#  '<ul>',\n",
        "#  '</p>',\n",
        "#  '</ul>',\n",
        "#  '<li>',\n",
        "#  '<p>',\n",
        "#  '</li>',\n",
        "#  '<em>',\n",
        "#  '</ol>',\n",
        "#  '</span>']\n",
        " \n",
        "# CONFIG[\"tokenizer\"].add_tokens(l, special_tokens=True)"
      ],
      "metadata": {
        "id": "eswQ8E9bJs2_"
      },
      "id": "eswQ8E9bJs2_",
      "execution_count": null,
      "outputs": []
    },
    {
      "cell_type": "code",
      "source": [
        "MODEL_PATHS = []\n",
        "\n",
        "for fold in range(CONFIG[\"n_fold\"]):\n",
        "    if CONFIG[\"BEST_F1\"]:\n",
        "        MODEL_PATHS.append(f'/content/drive/MyDrive/Competitions/SIGNATE/MUFG/model/exp_{CONFIG[\"exp\"]}/BestF1Model/Loss-Fold-{fold}.bin')\n",
        "    else:\n",
        "        MODEL_PATHS.append(f'/content/drive/MyDrive/Competitions/SIGNATE/MUFG/model/exp_{CONFIG[\"exp\"]}/Loss-Fold-{fold}.bin')\n",
        "\n",
        "MODEL_PATHS"
      ],
      "metadata": {
        "colab": {
          "base_uri": "https://localhost:8080/"
        },
        "id": "qb2pGwlVJvzF",
        "outputId": "cd37e641-c977-4a0b-b39f-164c06df16a0"
      },
      "id": "qb2pGwlVJvzF",
      "execution_count": null,
      "outputs": [
        {
          "output_type": "execute_result",
          "data": {
            "text/plain": [
              "['/content/drive/MyDrive/Competitions/SIGNATE/MUFG/model/exp_002/Loss-Fold-0.bin',\n",
              " '/content/drive/MyDrive/Competitions/SIGNATE/MUFG/model/exp_002/Loss-Fold-1.bin',\n",
              " '/content/drive/MyDrive/Competitions/SIGNATE/MUFG/model/exp_002/Loss-Fold-2.bin',\n",
              " '/content/drive/MyDrive/Competitions/SIGNATE/MUFG/model/exp_002/Loss-Fold-3.bin']"
            ]
          },
          "metadata": {},
          "execution_count": 7
        }
      ]
    },
    {
      "cell_type": "markdown",
      "source": [
        "# Data Loading"
      ],
      "metadata": {
        "id": "ZEt3EfGcJgGL"
      },
      "id": "ZEt3EfGcJgGL"
    },
    {
      "cell_type": "code",
      "source": [
        "df = pd.read_csv(\"/content/drive/MyDrive/Competitions/SIGNATE/MUFG/input/test.csv\")\n",
        "sample = pd.read_csv(\"/content/drive/MyDrive/Competitions/SIGNATE/MUFG/input/sample_submit.csv\", header=None)"
      ],
      "metadata": {
        "id": "5a0xqAuIJfSx"
      },
      "id": "5a0xqAuIJfSx",
      "execution_count": null,
      "outputs": []
    },
    {
      "cell_type": "markdown",
      "source": [
        "# Preprocessing"
      ],
      "metadata": {
        "id": "8M3Ma6xJqHfi"
      },
      "id": "8M3Ma6xJqHfi"
    },
    {
      "cell_type": "markdown",
      "source": [
        "## New Column"
      ],
      "metadata": {
        "id": "ipGFJUhIqOsr"
      },
      "id": "ipGFJUhIqOsr"
    },
    {
      "cell_type": "code",
      "source": [
        "# maltiple category1 and category2\n",
        "\n",
        "df[\"cat1×2\"] = df[\"category1\"] + df[\"category2\"]"
      ],
      "metadata": {
        "id": "pCQYga5OqMrz"
      },
      "id": "pCQYga5OqMrz",
      "execution_count": null,
      "outputs": []
    },
    {
      "cell_type": "markdown",
      "source": [
        "## Processing html_contents"
      ],
      "metadata": {
        "id": "iD1HqUZ6qRU1"
      },
      "id": "iD1HqUZ6qRU1"
    },
    {
      "cell_type": "code",
      "source": [
        "# delete htmltag\n",
        "\n",
        "def tag_delete(_s):\n",
        "    tag_list = re.findall(r\"<.*?>\", _s)\n",
        "    _s = re.sub(\"<.*?>\", \" \", _s) # htmlタグの削除\n",
        "    _s = re.sub(\"\\n\", \"\", _s) # 改行, \\, xa0を削除\n",
        "    return _s\n",
        "\n",
        "df[\"html_content\"] = df[\"html_content\"].map(tag_delete)"
      ],
      "metadata": {
        "id": "86mVViFMqTo0"
      },
      "id": "86mVViFMqTo0",
      "execution_count": null,
      "outputs": []
    },
    {
      "cell_type": "markdown",
      "source": [
        "## Conecting text_column"
      ],
      "metadata": {
        "id": "lsEEPNn6qX4a"
      },
      "id": "lsEEPNn6qX4a"
    },
    {
      "cell_type": "code",
      "source": [
        "TEXT_COLUMNS = ['goal', 'country', 'duration', 'category1', 'category2', 'html_content']\n",
        "df['text'] = df[TEXT_COLUMNS[0]].fillna('NAN').astype(str).str.cat(df[TEXT_COLUMNS[1:]].fillna('NAN').astype(str), sep=CONFIG[\"tokenizer\"].sep_token)"
      ],
      "metadata": {
        "id": "QGiFZ8ENPE8A"
      },
      "id": "QGiFZ8ENPE8A",
      "execution_count": null,
      "outputs": []
    },
    {
      "cell_type": "code",
      "source": [
        "df"
      ],
      "metadata": {
        "id": "JEdCFx3wq2Is"
      },
      "id": "JEdCFx3wq2Is",
      "execution_count": null,
      "outputs": []
    },
    {
      "cell_type": "markdown",
      "source": [
        "# Dataset"
      ],
      "metadata": {
        "id": "gbPYaP_xJD0s"
      },
      "id": "gbPYaP_xJD0s"
    },
    {
      "cell_type": "code",
      "execution_count": null,
      "id": "e3a4be67",
      "metadata": {
        "execution": {
          "iopub.execute_input": "2022-05-25T10:43:00.532931Z",
          "iopub.status.busy": "2022-05-25T10:43:00.532703Z",
          "iopub.status.idle": "2022-05-25T10:43:00.540308Z",
          "shell.execute_reply": "2022-05-25T10:43:00.539617Z"
        },
        "papermill": {
          "duration": 0.028105,
          "end_time": "2022-05-25T10:43:00.541908",
          "exception": false,
          "start_time": "2022-05-25T10:43:00.513803",
          "status": "completed"
        },
        "tags": [],
        "id": "e3a4be67"
      },
      "outputs": [],
      "source": [
        "class Data(Dataset):\n",
        "    def __init__(self, df, tokenizer, max_length):\n",
        "        self.df = df\n",
        "        self.text = df[\"text\"].values\n",
        "        # self.target = df['label'].values\n",
        "        self.tokenizer = tokenizer\n",
        "        self.max_length = max_length\n",
        "\n",
        "    def __len__(self):\n",
        "        return len(self.df)\n",
        "    \n",
        "    def __getitem__(self, idx):\n",
        "        text = self.text[idx]\n",
        "        inputs = self.tokenizer(\n",
        "            text,\n",
        "            padding = False,\n",
        "            max_length = self.max_length,\n",
        "            truncation = True\n",
        "        )\n",
        "\n",
        "        return {\n",
        "            'input_ids': inputs['input_ids'],\n",
        "            'attention_mask': inputs['attention_mask'],\n",
        "            #'target': self.target[idx]\n",
        "        }"
      ]
    },
    {
      "cell_type": "code",
      "source": [
        "collate_fn = DataCollatorWithPadding(tokenizer=CONFIG['tokenizer'])"
      ],
      "metadata": {
        "id": "oVsotjHY1amj"
      },
      "id": "oVsotjHY1amj",
      "execution_count": null,
      "outputs": []
    },
    {
      "cell_type": "code",
      "execution_count": null,
      "id": "e47a2d63",
      "metadata": {
        "execution": {
          "iopub.execute_input": "2022-05-25T10:43:00.578654Z",
          "iopub.status.busy": "2022-05-25T10:43:00.578102Z",
          "iopub.status.idle": "2022-05-25T10:43:00.582553Z",
          "shell.execute_reply": "2022-05-25T10:43:00.581918Z"
        },
        "papermill": {
          "duration": 0.024732,
          "end_time": "2022-05-25T10:43:00.584086",
          "exception": false,
          "start_time": "2022-05-25T10:43:00.559354",
          "status": "completed"
        },
        "tags": [],
        "id": "e47a2d63"
      },
      "outputs": [],
      "source": [
        "test_dataset = Data(df, CONFIG['tokenizer'], max_length=CONFIG['max_length'])\n",
        "test_loader = DataLoader(test_dataset, batch_size=CONFIG['test_batch_size'],\n",
        "                         num_workers=2, shuffle=False, pin_memory=True, collate_fn=collate_fn)"
      ]
    },
    {
      "cell_type": "markdown",
      "source": [
        "# Creat Model"
      ],
      "metadata": {
        "id": "3k10dWoJI04i"
      },
      "id": "3k10dWoJI04i"
    },
    {
      "cell_type": "code",
      "execution_count": null,
      "id": "c611538c",
      "metadata": {
        "execution": {
          "iopub.execute_input": "2022-05-25T10:43:00.620131Z",
          "iopub.status.busy": "2022-05-25T10:43:00.619887Z",
          "iopub.status.idle": "2022-05-25T10:43:00.625565Z",
          "shell.execute_reply": "2022-05-25T10:43:00.624822Z"
        },
        "papermill": {
          "duration": 0.025969,
          "end_time": "2022-05-25T10:43:00.627318",
          "exception": false,
          "start_time": "2022-05-25T10:43:00.601349",
          "status": "completed"
        },
        "tags": [],
        "id": "c611538c"
      },
      "outputs": [],
      "source": [
        "class MeanPooling(nn.Module):\n",
        "    def __init__(self):\n",
        "        super(MeanPooling, self).__init__()\n",
        "        \n",
        "    def forward(self, last_hidden_state, attention_mask):\n",
        "        input_mask_expanded = attention_mask.unsqueeze(-1).expand(last_hidden_state.size()).float()\n",
        "        sum_embeddings = torch.sum(last_hidden_state * input_mask_expanded, 1)\n",
        "        sum_mask = input_mask_expanded.sum(1)\n",
        "        sum_mask = torch.clamp(sum_mask, min=1e-9)\n",
        "        mean_embeddings = sum_embeddings / sum_mask\n",
        "        return mean_embeddings"
      ]
    },
    {
      "cell_type": "code",
      "execution_count": null,
      "id": "123e8fd5",
      "metadata": {
        "execution": {
          "iopub.execute_input": "2022-05-25T10:43:00.663839Z",
          "iopub.status.busy": "2022-05-25T10:43:00.663205Z",
          "iopub.status.idle": "2022-05-25T10:43:00.670170Z",
          "shell.execute_reply": "2022-05-25T10:43:00.669477Z"
        },
        "papermill": {
          "duration": 0.027119,
          "end_time": "2022-05-25T10:43:00.671803",
          "exception": false,
          "start_time": "2022-05-25T10:43:00.644684",
          "status": "completed"
        },
        "tags": [],
        "id": "123e8fd5"
      },
      "outputs": [],
      "source": [
        "class Model(nn.Module):\n",
        "    def __init__(self, model_name):\n",
        "        super(Model, self).__init__()\n",
        "        self.model = AutoModel.from_pretrained(model_name)\n",
        "        self.config = AutoConfig.from_pretrained(model_name)\n",
        "        self.drop = nn.Dropout(p=0.2)\n",
        "        self.pooler = MeanPooling()\n",
        "        self.fc = nn.Linear(self.config.hidden_size, CONFIG['num_classes'])\n",
        "        \n",
        "    def forward(self, ids, mask):        \n",
        "        out = self.model(input_ids=ids,attention_mask=mask,\n",
        "                         output_hidden_states=False)\n",
        "        out = self.pooler(out.last_hidden_state, mask)\n",
        "        out = self.drop(out)\n",
        "        outputs = self.fc(out)\n",
        "        return outputs"
      ]
    },
    {
      "cell_type": "markdown",
      "source": [
        "# Culculation Pred"
      ],
      "metadata": {
        "id": "0rSUYF4sJa_s"
      },
      "id": "0rSUYF4sJa_s"
    },
    {
      "cell_type": "code",
      "execution_count": null,
      "id": "235aec8b",
      "metadata": {
        "execution": {
          "iopub.execute_input": "2022-05-25T10:43:00.710018Z",
          "iopub.status.busy": "2022-05-25T10:43:00.709271Z",
          "iopub.status.idle": "2022-05-25T10:43:00.716869Z",
          "shell.execute_reply": "2022-05-25T10:43:00.716160Z"
        },
        "papermill": {
          "duration": 0.028662,
          "end_time": "2022-05-25T10:43:00.718674",
          "exception": false,
          "start_time": "2022-05-25T10:43:00.690012",
          "status": "completed"
        },
        "tags": [],
        "id": "235aec8b"
      },
      "outputs": [],
      "source": [
        "@torch.no_grad()\n",
        "def valid_fn(model, dataloader, device):\n",
        "    model.eval()\n",
        "    \n",
        "    dataset_size = 0\n",
        "    running_loss = 0.0\n",
        "    \n",
        "    PREDS = []\n",
        "    \n",
        "    bar = tqdm(enumerate(dataloader), total=len(dataloader))\n",
        "    for step, data in bar:\n",
        "        ids = data['input_ids'].to(device, dtype = torch.long)\n",
        "        mask = data['attention_mask'].to(device, dtype = torch.long)\n",
        "        \n",
        "        outputs = model(ids, mask)\n",
        "        outputs = F.softmax(outputs, dim=1)\n",
        "        PREDS.append(outputs.cpu().detach().numpy()) \n",
        "    \n",
        "    PREDS = np.concatenate(PREDS)\n",
        "    gc.collect()\n",
        "    \n",
        "    return PREDS"
      ]
    },
    {
      "cell_type": "markdown",
      "source": [
        "# Inference Func"
      ],
      "metadata": {
        "id": "Ejdpw0hIJS6h"
      },
      "id": "Ejdpw0hIJS6h"
    },
    {
      "cell_type": "code",
      "execution_count": null,
      "id": "5f2965ce",
      "metadata": {
        "execution": {
          "iopub.execute_input": "2022-05-25T10:43:00.757988Z",
          "iopub.status.busy": "2022-05-25T10:43:00.757337Z",
          "iopub.status.idle": "2022-05-25T10:43:00.763425Z",
          "shell.execute_reply": "2022-05-25T10:43:00.762743Z"
        },
        "papermill": {
          "duration": 0.027404,
          "end_time": "2022-05-25T10:43:00.765188",
          "exception": false,
          "start_time": "2022-05-25T10:43:00.737784",
          "status": "completed"
        },
        "tags": [],
        "id": "5f2965ce"
      },
      "outputs": [],
      "source": [
        "def inference(model_paths, dataloader, device):\n",
        "    final_preds = []\n",
        "    for i, path in enumerate(model_paths):\n",
        "        model = Model(CONFIG['model_name'])\n",
        "        model.to(CONFIG['device'])\n",
        "        model.load_state_dict(torch.load(path))\n",
        "        \n",
        "        print(f\"Getting predictions for model {i+1}\")\n",
        "        preds = valid_fn(model, dataloader, device)\n",
        "        final_preds.append(preds)\n",
        "    \n",
        "    final_preds = np.array(final_preds)\n",
        "    final_preds = np.mean(final_preds, axis=0)\n",
        "    return final_preds"
      ]
    },
    {
      "cell_type": "markdown",
      "source": [
        "# Main"
      ],
      "metadata": {
        "id": "Zwn0LABnKbfQ"
      },
      "id": "Zwn0LABnKbfQ"
    },
    {
      "cell_type": "code",
      "execution_count": null,
      "id": "2bc3fbcf",
      "metadata": {
        "execution": {
          "iopub.execute_input": "2022-05-25T10:43:00.804023Z",
          "iopub.status.busy": "2022-05-25T10:43:00.803296Z",
          "iopub.status.idle": "2022-05-25T10:43:35.116076Z",
          "shell.execute_reply": "2022-05-25T10:43:35.115224Z"
        },
        "papermill": {
          "duration": 34.334915,
          "end_time": "2022-05-25T10:43:35.118596",
          "exception": false,
          "start_time": "2022-05-25T10:43:00.783681",
          "status": "completed"
        },
        "tags": [],
        "id": "2bc3fbcf",
        "colab": {
          "base_uri": "https://localhost:8080/"
        },
        "outputId": "086aee8e-8afc-4deb-c174-3819a0c1f299"
      },
      "outputs": [
        {
          "output_type": "stream",
          "name": "stderr",
          "text": [
            "Some weights of the model checkpoint at microsoft/deberta-v3-large were not used when initializing DebertaV2Model: ['mask_predictions.classifier.weight', 'mask_predictions.classifier.bias', 'lm_predictions.lm_head.dense.weight', 'lm_predictions.lm_head.LayerNorm.weight', 'mask_predictions.dense.weight', 'mask_predictions.dense.bias', 'mask_predictions.LayerNorm.bias', 'mask_predictions.LayerNorm.weight', 'lm_predictions.lm_head.dense.bias', 'lm_predictions.lm_head.LayerNorm.bias', 'lm_predictions.lm_head.bias']\n",
            "- This IS expected if you are initializing DebertaV2Model from the checkpoint of a model trained on another task or with another architecture (e.g. initializing a BertForSequenceClassification model from a BertForPreTraining model).\n",
            "- This IS NOT expected if you are initializing DebertaV2Model from the checkpoint of a model that you expect to be exactly identical (initializing a BertForSequenceClassification model from a BertForSequenceClassification model).\n"
          ]
        },
        {
          "output_type": "stream",
          "name": "stdout",
          "text": [
            "Getting predictions for model 1\n"
          ]
        },
        {
          "output_type": "stream",
          "name": "stderr",
          "text": [
            "100%|██████████| 613/613 [14:00<00:00,  1.37s/it]\n",
            "Some weights of the model checkpoint at microsoft/deberta-v3-large were not used when initializing DebertaV2Model: ['mask_predictions.classifier.weight', 'mask_predictions.classifier.bias', 'lm_predictions.lm_head.dense.weight', 'lm_predictions.lm_head.LayerNorm.weight', 'mask_predictions.dense.weight', 'mask_predictions.dense.bias', 'mask_predictions.LayerNorm.bias', 'mask_predictions.LayerNorm.weight', 'lm_predictions.lm_head.dense.bias', 'lm_predictions.lm_head.LayerNorm.bias', 'lm_predictions.lm_head.bias']\n",
            "- This IS expected if you are initializing DebertaV2Model from the checkpoint of a model trained on another task or with another architecture (e.g. initializing a BertForSequenceClassification model from a BertForPreTraining model).\n",
            "- This IS NOT expected if you are initializing DebertaV2Model from the checkpoint of a model that you expect to be exactly identical (initializing a BertForSequenceClassification model from a BertForSequenceClassification model).\n"
          ]
        },
        {
          "output_type": "stream",
          "name": "stdout",
          "text": [
            "Getting predictions for model 2\n"
          ]
        },
        {
          "output_type": "stream",
          "name": "stderr",
          "text": [
            "100%|██████████| 613/613 [13:47<00:00,  1.35s/it]\n",
            "Some weights of the model checkpoint at microsoft/deberta-v3-large were not used when initializing DebertaV2Model: ['mask_predictions.classifier.weight', 'mask_predictions.classifier.bias', 'lm_predictions.lm_head.dense.weight', 'lm_predictions.lm_head.LayerNorm.weight', 'mask_predictions.dense.weight', 'mask_predictions.dense.bias', 'mask_predictions.LayerNorm.bias', 'mask_predictions.LayerNorm.weight', 'lm_predictions.lm_head.dense.bias', 'lm_predictions.lm_head.LayerNorm.bias', 'lm_predictions.lm_head.bias']\n",
            "- This IS expected if you are initializing DebertaV2Model from the checkpoint of a model trained on another task or with another architecture (e.g. initializing a BertForSequenceClassification model from a BertForPreTraining model).\n",
            "- This IS NOT expected if you are initializing DebertaV2Model from the checkpoint of a model that you expect to be exactly identical (initializing a BertForSequenceClassification model from a BertForSequenceClassification model).\n"
          ]
        },
        {
          "output_type": "stream",
          "name": "stdout",
          "text": [
            "Getting predictions for model 3\n"
          ]
        },
        {
          "output_type": "stream",
          "name": "stderr",
          "text": [
            "100%|██████████| 613/613 [13:49<00:00,  1.35s/it]\n",
            "Some weights of the model checkpoint at microsoft/deberta-v3-large were not used when initializing DebertaV2Model: ['mask_predictions.classifier.weight', 'mask_predictions.classifier.bias', 'lm_predictions.lm_head.dense.weight', 'lm_predictions.lm_head.LayerNorm.weight', 'mask_predictions.dense.weight', 'mask_predictions.dense.bias', 'mask_predictions.LayerNorm.bias', 'mask_predictions.LayerNorm.weight', 'lm_predictions.lm_head.dense.bias', 'lm_predictions.lm_head.LayerNorm.bias', 'lm_predictions.lm_head.bias']\n",
            "- This IS expected if you are initializing DebertaV2Model from the checkpoint of a model trained on another task or with another architecture (e.g. initializing a BertForSequenceClassification model from a BertForPreTraining model).\n",
            "- This IS NOT expected if you are initializing DebertaV2Model from the checkpoint of a model that you expect to be exactly identical (initializing a BertForSequenceClassification model from a BertForSequenceClassification model).\n"
          ]
        },
        {
          "output_type": "stream",
          "name": "stdout",
          "text": [
            "Getting predictions for model 4\n"
          ]
        },
        {
          "output_type": "stream",
          "name": "stderr",
          "text": [
            "100%|██████████| 613/613 [13:48<00:00,  1.35s/it]\n"
          ]
        }
      ],
      "source": [
        "preds = inference(MODEL_PATHS, test_loader, CONFIG['device'])\n",
        "sample.iloc[:, 1] = np.argmax(preds, axis=1)  "
      ]
    },
    {
      "cell_type": "code",
      "execution_count": null,
      "id": "9ef3a4e5",
      "metadata": {
        "execution": {
          "iopub.execute_input": "2022-05-25T10:43:35.360265Z",
          "iopub.status.busy": "2022-05-25T10:43:35.359811Z",
          "iopub.status.idle": "2022-05-25T10:43:35.366426Z",
          "shell.execute_reply": "2022-05-25T10:43:35.365749Z"
        },
        "papermill": {
          "duration": 0.033378,
          "end_time": "2022-05-25T10:43:35.368055",
          "exception": false,
          "start_time": "2022-05-25T10:43:35.334677",
          "status": "completed"
        },
        "tags": [],
        "id": "9ef3a4e5"
      },
      "outputs": [],
      "source": [
        "if CONFIG[\"BEST_F1\"]:\n",
        "    sample.to_csv(f\"/content/drive/MyDrive/Competitions/SIGNATE/STUDENT_CUP/penguin/output/exp_{CONFIG['exp']}_BEST_F1.csv\", index=False)\n",
        "    sample.to_csv(f'exp_{CONFIG[\"exp\"]}_BEST_F1.csv', index=False)\n",
        "else:\n",
        "    sample.to_csv(f\"/content/drive/MyDrive/Competitions/SIGNATE/STUDENT_CUP/penguin/output/exp_{CONFIG['exp']}.csv\", index=False)\n",
        "    sample.to_csv(f'exp_{CONFIG[\"exp\"]}.csv', index=False)"
      ]
    }
  ],
  "metadata": {
    "kernelspec": {
      "display_name": "Python 3",
      "language": "python",
      "name": "python3"
    },
    "language_info": {
      "codemirror_mode": {
        "name": "ipython",
        "version": 3
      },
      "file_extension": ".py",
      "mimetype": "text/x-python",
      "name": "python",
      "nbconvert_exporter": "python",
      "pygments_lexer": "ipython3",
      "version": "3.7.12"
    },
    "papermill": {
      "default_parameters": {},
      "duration": 55.325265,
      "end_time": "2022-05-25T10:43:38.635651",
      "environment_variables": {},
      "exception": null,
      "input_path": "__notebook__.ipynb",
      "output_path": "__notebook__.ipynb",
      "parameters": {},
      "start_time": "2022-05-25T10:42:43.310386",
      "version": "2.3.4"
    },
    "colab": {
      "provenance": [],
      "machine_shape": "hm"
    },
    "accelerator": "GPU",
    "gpuClass": "standard"
  },
  "nbformat": 4,
  "nbformat_minor": 5
}